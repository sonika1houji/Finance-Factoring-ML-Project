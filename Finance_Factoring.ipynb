{
 "cells": [
  {
   "cell_type": "markdown",
   "metadata": {},
   "source": [
    "# Finance Factoring"
   ]
  },
  {
   "cell_type": "markdown",
   "metadata": {
    "colab_type": "text",
    "id": "oLM8vMuKADFA"
   },
   "source": [
    "# **Table of Contents**\n",
    "\n",
    "1. [Problem Statement](#Section2)<br>\n",
    "2. [Installing & Importing Libraries](#Section3)<br>\n",
    "3. [Data Acquisition & Description](#Section4)<br>\n",
    "4. [Data Pre-processing](#Section5)<br>\n",
    "5. [Exploratory Data Analysis](#Section6)<br>\n",
    "6. [Post Data Processing & Feature Selection](#Section7)<br>\n",
    "7. [Model Development & Evaluation](#Section8)<br>\n",
    "  7.1 [Linear Regression](#Section81)<br>\n",
    "  7.2 [Ridge Regression](#Section82)<br>\n",
    "  7.3 [Lasso Regression](#Section83)<br>\n",
    "  7.4 [Random Forest Regression](#Section84)<br>\n",
    "8. [Conclusion](#Section9)<br>"
   ]
  },
  {
   "cell_type": "markdown",
   "metadata": {
    "colab_type": "text",
    "id": "59ovIXzuU3Mt"
   },
   "source": [
    "<a id = Section2></a>\n",
    "# **1. Problem Statement**\n",
    "\n",
    "The **biggest challenge** of factoring **is to predict** whether an **invoice will be paid or not**. The **factor provides funds** against this future payment to the business people by buying their invoice. The **factor** then **collects** the **payment and charges their interest rate** or discounts (if acceptable). **If** the **invoice isn't paid**, the **factor loses their advanced funds**.\n",
    "\n",
    "\n",
    "\n",
    "**<h3>Scenario:</h3>**\n",
    "\n",
    "**Riviera Finance**, a USA based financial company, **provides** simple, flexible and effective **funding** and account monitoring within 24 hours of verification. Riviera Finance **provides up to 95 percent** of the invoice **funding** with proper paperwork submitted, as well as credit services and receivables management. **Firms interested** in participating in all of these services will **receive** a full-value package specially designed for their unique financial needs.\n",
    "\n",
    "They have **experienced employees** who **uses** the **complex rules** to identify the invoice receivables duration. They are using **traditional ways** of assessing the return receivables duration, which might **not** be **good** for the company because **as the size of data** will **increase** their traditional methods might not be good enough. They **wants to automate** their **process** by which machine learns the pattern out of their data to find out the duration of the invoice getting paid.\n",
    "\n",
    "Now the **question is how this problem could be solved using Machine Learning?** While there are many ways to assess & predict the receivables. **We will** be **working with a simple scenario to solve this problem**.\n",
    "\n",
    "The **target feature** in the acquired data set is **days_late** and it's values are:\n",
    "\n",
    "|Target Feature|Potential Values|\n",
    "| :-- | :-- |\n",
    "|days_late|Range: [0, 45]|"
   ]
  },
  {
   "cell_type": "markdown",
   "metadata": {
    "colab_type": "text",
    "id": "0zcArYFWej4K"
   },
   "source": [
    "<a id = Section3></a>\n",
    "# **2. Importing Libraries**"
   ]
  },
  {
   "cell_type": "code",
   "execution_count": 0,
   "metadata": {
    "colab": {},
    "colab_type": "code",
    "id": "74avyOoKepQQ"
   },
   "outputs": [],
   "source": [
    "# For Panel Data Analysis\n",
    "import pandas as pd\n",
    "from pandas_profiling import ProfileReport\n",
    "pd.set_option('display.max_columns', None)\n",
    "pd.set_option('display.max_rows', None)\n",
    "pd.set_option('mode.chained_assignment', None)\n",
    "# For Numerical Python\n",
    "import numpy as np\n",
    "# For Scientifc Python\n",
    "from scipy import stats\n",
    "# For random numbers\n",
    "from random import randint\n",
    "# For Data Visualization\n",
    "import matplotlib.pyplot as plt\n",
    "%matplotlib inline\n",
    "import seaborn as sns\n",
    "# For Preprocessing\n",
    "from sklearn.preprocessing import LabelEncoder, OneHotEncoder, StandardScaler\n",
    "# For Feature Selection\n",
    "from sklearn.feature_selection import SelectFromModel\n",
    "# For metrics evaluation\n",
    "from sklearn.metrics import mean_squared_error, r2_score\n",
    "# For Data Modeling and Evaluation\n",
    "from sklearn.model_selection import train_test_split\n",
    "from sklearn.linear_model import LinearRegression, Ridge, Lasso\n",
    "from sklearn.ensemble import RandomForestRegressor\n",
    "# To Disable Warnings\n",
    "import warnings\n",
    "warnings.filterwarnings(action = \"ignore\")"
   ]
  },
  {
   "cell_type": "markdown",
   "metadata": {
    "colab_type": "text",
    "id": "Ez193N8Aalot"
   },
   "source": [
    "<a id=Section4></a>\n",
    "# **3. Data Acquisition & Description**\n",
    "\n",
    "This data set is **based on Finance Factoring of USA states, year(2012-2013)**, and it can be retrieved from the <a href=\"https://storage.googleapis.com/industryanalytics/FactoringData.csv\">link</a>.\n",
    "\n",
    "\n",
    "| Records | Features | Dataset Size |\n",
    "| :-- | :-- | :-- |\n",
    "| 2466 | 13 | 248 KB|\n",
    "\n",
    "\n",
    "\n",
    "| Id | Features | Description |\n",
    "| :--| :--| :--|\n",
    "|01|**cust_id**|Unique ID of customer|\n",
    "|02|**state**|State of US|\n",
    "|03|**area_code**|Area code of state|\n",
    "|04|**bill_date**|Billing Date|\n",
    "|05|**bill_type**|Bill type. It is either Paper or Electronic|\n",
    "|06|**invoice_id**|Invoice Number|\n",
    "|07|**invoice_amount**|Invoice Amount (in thousands)|\n",
    "|08|**invoice_init_date**|Invoice submit date|\n",
    "|09|**invoice_final_date**|Final date to submit invoice amount|\n",
    "|10|**invoice_settled_date**|Settlement date of invoice amount|\n",
    "|11|**disputed**|Whether disputed or not|\n",
    "|12|**days_to_settle**|Days left to settle the invoice amount|\n",
    "|13|**days_late**|Days late to settle the invoice amount|"
   ]
  },
  {
   "cell_type": "code",
   "execution_count": 0,
   "metadata": {
    "colab": {},
    "colab_type": "code",
    "id": "Hef8JI1Em73-"
   },
   "outputs": [],
   "source": [
    "LINK = 'https://storage.googleapis.com/industryanalytics/FactoringData.csv'\n",
    "\n",
    "def load_factor_data(link = LINK):\n",
    "  return pd.read_csv(filepath_or_buffer = link)"
   ]
  },
  {
   "cell_type": "code",
   "execution_count": 0,
   "metadata": {
    "colab": {
     "base_uri": "https://localhost:8080/",
     "height": 326
    },
    "colab_type": "code",
    "id": "NBeYpjvo_RtQ",
    "outputId": "d29ce2df-8fe9-4fc1-998c-63a97211385a"
   },
   "outputs": [
    {
     "name": "stdout",
     "output_type": "stream",
     "text": [
      "Data Shape: (2466, 13)\n"
     ]
    },
    {
     "data": {
      "text/html": [
       "<div>\n",
       "<style scoped>\n",
       "    .dataframe tbody tr th:only-of-type {\n",
       "        vertical-align: middle;\n",
       "    }\n",
       "\n",
       "    .dataframe tbody tr th {\n",
       "        vertical-align: top;\n",
       "    }\n",
       "\n",
       "    .dataframe thead th {\n",
       "        text-align: right;\n",
       "    }\n",
       "</style>\n",
       "<table border=\"1\" class=\"dataframe\">\n",
       "  <thead>\n",
       "    <tr style=\"text-align: right;\">\n",
       "      <th></th>\n",
       "      <th>cust_id</th>\n",
       "      <th>state</th>\n",
       "      <th>area_code</th>\n",
       "      <th>bill_date</th>\n",
       "      <th>bill_type</th>\n",
       "      <th>invoice_id</th>\n",
       "      <th>invoice_amount</th>\n",
       "      <th>invoice_init_date</th>\n",
       "      <th>invoice_final_date</th>\n",
       "      <th>invoice_settled_date</th>\n",
       "      <th>disputed</th>\n",
       "      <th>days_to_settle</th>\n",
       "      <th>days_late</th>\n",
       "    </tr>\n",
       "  </thead>\n",
       "  <tbody>\n",
       "    <tr>\n",
       "      <th>0</th>\n",
       "      <td>3271-HYHDN</td>\n",
       "      <td>Los Angeles</td>\n",
       "      <td>818</td>\n",
       "      <td>28-04-2013</td>\n",
       "      <td>Paper</td>\n",
       "      <td>354407690</td>\n",
       "      <td>45.56</td>\n",
       "      <td>12-04-2013</td>\n",
       "      <td>12-05-2013</td>\n",
       "      <td>17-04-2013</td>\n",
       "      <td>No</td>\n",
       "      <td>5</td>\n",
       "      <td>0</td>\n",
       "    </tr>\n",
       "    <tr>\n",
       "      <th>1</th>\n",
       "      <td>1604-LIFKX</td>\n",
       "      <td>Los Angeles</td>\n",
       "      <td>818</td>\n",
       "      <td>16-03-2013</td>\n",
       "      <td>Electronic</td>\n",
       "      <td>3693123052</td>\n",
       "      <td>47.82</td>\n",
       "      <td>25-04-2013</td>\n",
       "      <td>25-05-2013</td>\n",
       "      <td>03-06-2013</td>\n",
       "      <td>No</td>\n",
       "      <td>39</td>\n",
       "      <td>9</td>\n",
       "    </tr>\n",
       "    <tr>\n",
       "      <th>2</th>\n",
       "      <td>6160-HCSFI</td>\n",
       "      <td>State of OK</td>\n",
       "      <td>391</td>\n",
       "      <td>10-01-2013</td>\n",
       "      <td>Electronic</td>\n",
       "      <td>4026967253</td>\n",
       "      <td>69.48</td>\n",
       "      <td>30-08-2013</td>\n",
       "      <td>29-09-2013</td>\n",
       "      <td>17-09-2013</td>\n",
       "      <td>No</td>\n",
       "      <td>18</td>\n",
       "      <td>0</td>\n",
       "    </tr>\n",
       "    <tr>\n",
       "      <th>3</th>\n",
       "      <td>9883-SDWFS</td>\n",
       "      <td>State of KS</td>\n",
       "      <td>897</td>\n",
       "      <td>08-07-2013</td>\n",
       "      <td>Paper</td>\n",
       "      <td>1491017498</td>\n",
       "      <td>19.23</td>\n",
       "      <td>09-05-2012</td>\n",
       "      <td>08-06-2012</td>\n",
       "      <td>02-06-2012</td>\n",
       "      <td>No</td>\n",
       "      <td>24</td>\n",
       "      <td>0</td>\n",
       "    </tr>\n",
       "    <tr>\n",
       "      <th>4</th>\n",
       "      <td>3676-CQAIF</td>\n",
       "      <td>State of KS</td>\n",
       "      <td>897</td>\n",
       "      <td>29-07-2013</td>\n",
       "      <td>Paper</td>\n",
       "      <td>2137157897</td>\n",
       "      <td>20.55</td>\n",
       "      <td>21-07-2013</td>\n",
       "      <td>20-08-2013</td>\n",
       "      <td>06-08-2013</td>\n",
       "      <td>No</td>\n",
       "      <td>16</td>\n",
       "      <td>0</td>\n",
       "    </tr>\n",
       "  </tbody>\n",
       "</table>\n",
       "</div>"
      ],
      "text/plain": [
       "      cust_id        state  area_code   bill_date   bill_type  invoice_id  \\\n",
       "0  3271-HYHDN  Los Angeles        818  28-04-2013       Paper   354407690   \n",
       "1  1604-LIFKX  Los Angeles        818  16-03-2013  Electronic  3693123052   \n",
       "2  6160-HCSFI  State of OK        391  10-01-2013  Electronic  4026967253   \n",
       "3  9883-SDWFS  State of KS        897  08-07-2013       Paper  1491017498   \n",
       "4  3676-CQAIF  State of KS        897  29-07-2013       Paper  2137157897   \n",
       "\n",
       "   invoice_amount invoice_init_date invoice_final_date invoice_settled_date  \\\n",
       "0           45.56        12-04-2013         12-05-2013           17-04-2013   \n",
       "1           47.82        25-04-2013         25-05-2013           03-06-2013   \n",
       "2           69.48        30-08-2013         29-09-2013           17-09-2013   \n",
       "3           19.23        09-05-2012         08-06-2012           02-06-2012   \n",
       "4           20.55        21-07-2013         20-08-2013           06-08-2013   \n",
       "\n",
       "  disputed  days_to_settle  days_late  \n",
       "0       No               5          0  \n",
       "1       No              39          9  \n",
       "2       No              18          0  \n",
       "3       No              24          0  \n",
       "4       No              16          0  "
      ]
     },
     "execution_count": 3,
     "metadata": {
      "tags": []
     },
     "output_type": "execute_result"
    }
   ],
   "source": [
    "data = load_factor_data()\n",
    "print('Data Shape:', data.shape)\n",
    "data.head()"
   ]
  },
  {
   "cell_type": "markdown",
   "metadata": {
    "colab_type": "text",
    "id": "AMP_EIWubv4D"
   },
   "source": [
    "### **Data Description**\n",
    "\n",
    "In this section we will **get information about the data** and see some observations."
   ]
  },
  {
   "cell_type": "code",
   "execution_count": 0,
   "metadata": {
    "colab": {
     "base_uri": "https://localhost:8080/",
     "height": 297
    },
    "colab_type": "code",
    "id": "wjQ5_EfZa15f",
    "outputId": "a5ebcfd9-5f58-4ca7-f2b8-5a65e31d0a59"
   },
   "outputs": [
    {
     "data": {
      "text/html": [
       "<div>\n",
       "<style scoped>\n",
       "    .dataframe tbody tr th:only-of-type {\n",
       "        vertical-align: middle;\n",
       "    }\n",
       "\n",
       "    .dataframe tbody tr th {\n",
       "        vertical-align: top;\n",
       "    }\n",
       "\n",
       "    .dataframe thead th {\n",
       "        text-align: right;\n",
       "    }\n",
       "</style>\n",
       "<table border=\"1\" class=\"dataframe\">\n",
       "  <thead>\n",
       "    <tr style=\"text-align: right;\">\n",
       "      <th></th>\n",
       "      <th>area_code</th>\n",
       "      <th>invoice_id</th>\n",
       "      <th>invoice_amount</th>\n",
       "      <th>days_to_settle</th>\n",
       "      <th>days_late</th>\n",
       "    </tr>\n",
       "  </thead>\n",
       "  <tbody>\n",
       "    <tr>\n",
       "      <th>count</th>\n",
       "      <td>2466.000000</td>\n",
       "      <td>2.466000e+03</td>\n",
       "      <td>2466.000000</td>\n",
       "      <td>2466.00000</td>\n",
       "      <td>2466.000000</td>\n",
       "    </tr>\n",
       "    <tr>\n",
       "      <th>mean</th>\n",
       "      <td>620.446067</td>\n",
       "      <td>4.978431e+09</td>\n",
       "      <td>59.895856</td>\n",
       "      <td>26.44485</td>\n",
       "      <td>3.442417</td>\n",
       "    </tr>\n",
       "    <tr>\n",
       "      <th>std</th>\n",
       "      <td>215.933610</td>\n",
       "      <td>2.884272e+09</td>\n",
       "      <td>20.435838</td>\n",
       "      <td>12.33493</td>\n",
       "      <td>6.290607</td>\n",
       "    </tr>\n",
       "    <tr>\n",
       "      <th>min</th>\n",
       "      <td>391.000000</td>\n",
       "      <td>6.113650e+05</td>\n",
       "      <td>5.260000</td>\n",
       "      <td>0.00000</td>\n",
       "      <td>0.000000</td>\n",
       "    </tr>\n",
       "    <tr>\n",
       "      <th>25%</th>\n",
       "      <td>406.000000</td>\n",
       "      <td>2.528854e+09</td>\n",
       "      <td>46.400000</td>\n",
       "      <td>18.00000</td>\n",
       "      <td>0.000000</td>\n",
       "    </tr>\n",
       "    <tr>\n",
       "      <th>50%</th>\n",
       "      <td>770.000000</td>\n",
       "      <td>4.964228e+09</td>\n",
       "      <td>60.560000</td>\n",
       "      <td>26.00000</td>\n",
       "      <td>0.000000</td>\n",
       "    </tr>\n",
       "    <tr>\n",
       "      <th>75%</th>\n",
       "      <td>818.000000</td>\n",
       "      <td>7.494512e+09</td>\n",
       "      <td>73.765000</td>\n",
       "      <td>35.00000</td>\n",
       "      <td>5.000000</td>\n",
       "    </tr>\n",
       "    <tr>\n",
       "      <th>max</th>\n",
       "      <td>897.000000</td>\n",
       "      <td>9.990244e+09</td>\n",
       "      <td>128.280000</td>\n",
       "      <td>75.00000</td>\n",
       "      <td>45.000000</td>\n",
       "    </tr>\n",
       "  </tbody>\n",
       "</table>\n",
       "</div>"
      ],
      "text/plain": [
       "         area_code    invoice_id  invoice_amount  days_to_settle    days_late\n",
       "count  2466.000000  2.466000e+03     2466.000000      2466.00000  2466.000000\n",
       "mean    620.446067  4.978431e+09       59.895856        26.44485     3.442417\n",
       "std     215.933610  2.884272e+09       20.435838        12.33493     6.290607\n",
       "min     391.000000  6.113650e+05        5.260000         0.00000     0.000000\n",
       "25%     406.000000  2.528854e+09       46.400000        18.00000     0.000000\n",
       "50%     770.000000  4.964228e+09       60.560000        26.00000     0.000000\n",
       "75%     818.000000  7.494512e+09       73.765000        35.00000     5.000000\n",
       "max     897.000000  9.990244e+09      128.280000        75.00000    45.000000"
      ]
     },
     "execution_count": 4,
     "metadata": {
      "tags": []
     },
     "output_type": "execute_result"
    }
   ],
   "source": [
    "data.describe()"
   ]
  },
  {
   "cell_type": "markdown",
   "metadata": {
    "colab_type": "text",
    "id": "lxKhqbAnb4ZB"
   },
   "source": [
    "**Observation:**\n",
    "\n",
    "- The **average amount** that has been **obtained by the customers is $\\$$50.89 dollars**.\n",
    "- On **average it took ~26 days to settle the invoice amount** obtained by the customer.\n",
    "- **On average customer is ~3 days late for the payment**.\n",
    "- **50% of the customers are 0 days late for the payment** of the receivables."
   ]
  },
  {
   "cell_type": "markdown",
   "metadata": {
    "colab_type": "text",
    "id": "Pl78jUhIdLf9"
   },
   "source": [
    "### **Data Information**\n",
    "\n",
    "In this section we will see the **information about features i.e. types, count and null?**."
   ]
  },
  {
   "cell_type": "code",
   "execution_count": 0,
   "metadata": {
    "colab": {
     "base_uri": "https://localhost:8080/",
     "height": 323
    },
    "colab_type": "code",
    "id": "1r0Wz14k_ZPc",
    "outputId": "8c6916da-fcfa-4875-ce06-7c73c456b4d0"
   },
   "outputs": [
    {
     "name": "stdout",
     "output_type": "stream",
     "text": [
      "<class 'pandas.core.frame.DataFrame'>\n",
      "RangeIndex: 2466 entries, 0 to 2465\n",
      "Data columns (total 13 columns):\n",
      "cust_id                 2466 non-null object\n",
      "state                   2466 non-null object\n",
      "area_code               2466 non-null int64\n",
      "bill_date               2466 non-null object\n",
      "bill_type               2466 non-null object\n",
      "invoice_id              2466 non-null int64\n",
      "invoice_amount          2466 non-null float64\n",
      "invoice_init_date       2466 non-null object\n",
      "invoice_final_date      2466 non-null object\n",
      "invoice_settled_date    2466 non-null object\n",
      "disputed                2466 non-null object\n",
      "days_to_settle          2466 non-null int64\n",
      "days_late               2466 non-null int64\n",
      "dtypes: float64(1), int64(4), object(8)\n",
      "memory usage: 250.6+ KB\n"
     ]
    }
   ],
   "source": [
    "data.info()"
   ]
  },
  {
   "cell_type": "markdown",
   "metadata": {
    "colab_type": "text",
    "id": "xdIVU_7bdg3u"
   },
   "source": [
    "**Observation:**\n",
    "\n",
    "- We can see that there are **no missing data** as all **features contains equal number of records**.\n",
    "- **bill_date, invoice_init_date, invoice_final_date, invoice_settled_date** seems to have been idenified incorrectly because they don't have correct types."
   ]
  },
  {
   "cell_type": "markdown",
   "metadata": {
    "colab_type": "text",
    "id": "EZEDijdwgyY4"
   },
   "source": [
    "### **Numerical Data Distribution**\n",
    "\n",
    "We shall plot all **numerical features to analyze the distribution** of their past."
   ]
  },
  {
   "cell_type": "code",
   "execution_count": 0,
   "metadata": {
    "colab": {
     "base_uri": "https://localhost:8080/",
     "height": 585
    },
    "colab_type": "code",
    "id": "kX1g4xKIE0A3",
    "outputId": "4d551b9c-72ba-446f-fef5-15bf77697c78"
   },
   "outputs": [
    {
     "data": {
      "image/png": "[encoded data removed]",
      "text/plain": [
       "<Figure size 720x576 with 6 Axes>"
      ]
     },
     "metadata": {
      "tags": []
     },
     "output_type": "display_data"
    }
   ],
   "source": [
    "fig, axes = plt.subplots(nrows = 3, ncols = 2, sharex = False, figsize=(10, 8))\n",
    "columns = ['area_code', 'days_late', 'days_to_settle', 'invoice_amount', 'invoice_id']\n",
    "# Generating random colors\n",
    "colors = []\n",
    "for i in range(len(columns)):\n",
    "  colors.append('#%06X' % randint(0, 0xFFFFFF))\n",
    "for ax, col, color in zip(axes.flat, columns, colors):\n",
    "  sns.distplot(a = data[col], bins = 50, ax = ax, color = color)\n",
    "  ax.set_title(col)\n",
    "  plt.setp(axes, yticks=[])\n",
    "  ax.set_xlabel(' ')\n",
    "  ax.set_xticklabels(labels = ' ')\n",
    "  ax.grid(False)\n",
    "plt.tight_layout()"
   ]
  },
  {
   "cell_type": "markdown",
   "metadata": {
    "colab_type": "text",
    "id": "0Sys0-vAHA9Z"
   },
   "source": [
    "**Observation:**\n",
    "\n",
    "- **area_code and days_late** seems to be **positively distributed**.\n",
    "- **days_to_settle, invoice_amount and invoice_id** amount is alomost **normally distributed**."
   ]
  },
  {
   "cell_type": "markdown",
   "metadata": {
    "colab_type": "text",
    "id": "Kcj_JYr6hDNK"
   },
   "source": [
    "### **Categorical Data Distribution**\n",
    "\n",
    "We shall plot all **categorical features to analyze the distribution** of the past data.\n",
    "- **Firstly, we will extract all the categorical features**.\n",
    "- Then **drop the date features** as they are identified as object types. At later stage, we will correct these types for our further analysis."
   ]
  },
  {
   "cell_type": "code",
   "execution_count": 0,
   "metadata": {
    "colab": {
     "base_uri": "https://localhost:8080/",
     "height": 34
    },
    "colab_type": "code",
    "id": "xGigAIEXhFu9",
    "outputId": "e25c24e1-4f5f-4502-de70-999f4b74e997"
   },
   "outputs": [
    {
     "name": "stdout",
     "output_type": "stream",
     "text": [
      "['cust_id', 'state', 'bill_date', 'bill_type', 'invoice_init_date', 'invoice_final_date', 'invoice_settled_date', 'disputed']\n"
     ]
    }
   ],
   "source": [
    "# Extracting Categorical Features\n",
    "cat_list = []\n",
    "for i in data.columns.values:\n",
    "  if (data[i].dtype == 'object'):\n",
    "    cat_list.append(i)\n",
    "print(cat_list)"
   ]
  },
  {
   "cell_type": "code",
   "execution_count": 0,
   "metadata": {
    "colab": {
     "base_uri": "https://localhost:8080/",
     "height": 295
    },
    "colab_type": "code",
    "id": "1Q4hGUJqhLjW",
    "outputId": "57ed97e6-16b0-4aa6-c245-d6dab543c763"
   },
   "outputs": [
    {
     "data": {
      "image/png": "[encoded data removed]",
      "text/plain": [
       "<Figure size 1152x288 with 3 Axes>"
      ]
     },
     "metadata": {
      "tags": []
     },
     "output_type": "display_data"
    }
   ],
   "source": [
    "fig, axes = plt.subplots(nrows = 1, ncols = 3, sharex = False, figsize=(16, 4))\n",
    "\n",
    "for ax, col, color in zip(axes.flat, ['state', 'bill_type', 'disputed'], ['#8AEA8D', '#50DDAC', '#2DCBC4']):\n",
    "  ax.bar(x = data[col].value_counts().index, height = data[col].value_counts(), color = color)\n",
    "  ax.set_title(col)\n",
    "  ax.set_xlabel(' ')\n",
    "  ax.grid(False)\n",
    "plt.show()"
   ]
  },
  {
   "cell_type": "markdown",
   "metadata": {
    "colab_type": "text",
    "id": "Vt0-hbiGIoMP"
   },
   "source": [
    "**Observation:**\n",
    "\n",
    "- **state** and **disputed** is **having positive distribution** of values.\n",
    "- **bill_type** is **almost normally distributed**."
   ]
  },
  {
   "cell_type": "markdown",
   "metadata": {
    "colab_type": "text",
    "id": "JPywdZI8lcXC"
   },
   "source": [
    "### **Pre-Profiling Report**"
   ]
  },
  {
   "cell_type": "code",
   "execution_count": 0,
   "metadata": {
    "colab": {
     "base_uri": "https://localhost:8080/",
     "height": 34
    },
    "colab_type": "code",
    "id": "gGvQH8xCkPKJ",
    "outputId": "1b167993-0fd7-43fe-adba-3ddfcc362ad3"
   },
   "outputs": [
    {
     "name": "stdout",
     "output_type": "stream",
     "text": [
      "Accomplished!\n"
     ]
    }
   ],
   "source": [
    "profile = ProfileReport(df = data)\n",
    "profile.to_file(output_file = 'Pre Profiling.html')\n",
    "print('Accomplished!')"
   ]
  },
  {
   "cell_type": "markdown",
   "metadata": {
    "colab_type": "text",
    "id": "5ammKZB2JQiB"
   },
   "source": [
    "**Observation:**\n",
    "\n",
    "- **Report shows** data has **5 numeric** and **8 categorical features**.\n",
    "- **cust_id** has **high cardinality** with **100 distinct values**.\n",
    "- **bill_date** has **high cardinality** with **91 distinct values**.\n",
    "- **invoice_init_date** has **high cardinality** with **681 distinct values**.\n",
    "- **invoice_settled_date** has **high cardinality** with **695 distinct values**.\n",
    "- **days_late** **contains 64.4% of zeros** signifying that **~64% of people were not late in their payments**.\n",
    "- From the **correlation analysis performed** by pandas, we can **see that days_to_settle is highly correlated with days_late**."
   ]
  },
  {
   "cell_type": "markdown",
   "metadata": {
    "colab_type": "text",
    "id": "X6bvo6mQl0T5"
   },
   "source": [
    "<a id = Section5></a>\n",
    "# **4. Data Pre-Processing**"
   ]
  },
  {
   "cell_type": "markdown",
   "metadata": {
    "colab_type": "text",
    "id": "_8AfKJy--T-j"
   },
   "source": [
    "### **Identification & Handling of Inconsistent Data Types** \n",
    "\n",
    "From the above we saw that **bill_date, invoice_init_date, invoice_final_date, invoice_settled_date are categorzied as categorical features. So we will change their types to datetime.**\n",
    "\n",
    "- Below we shall **create a frame of each type** of feature and **show you** how our **data** looks **before and after making changes**.\n",
    "- After that we **shall re-run the dataframe** to identify the correct types of features."
   ]
  },
  {
   "cell_type": "markdown",
   "metadata": {
    "colab_type": "text",
    "id": "hQnp2DLiLD2B"
   },
   "source": [
    "**Before changes: Data types and respective incorrect data**"
   ]
  },
  {
   "cell_type": "code",
   "execution_count": 0,
   "metadata": {
    "colab": {
     "base_uri": "https://localhost:8080/",
     "height": 100
    },
    "colab_type": "code",
    "id": "Su9kc2fAK_zA",
    "outputId": "75db0da7-ee45-4466-e1c9-8a1285360b3d"
   },
   "outputs": [
    {
     "data": {
      "text/html": [
       "<div>\n",
       "<style scoped>\n",
       "    .dataframe tbody tr th:only-of-type {\n",
       "        vertical-align: middle;\n",
       "    }\n",
       "\n",
       "    .dataframe tbody tr th {\n",
       "        vertical-align: top;\n",
       "    }\n",
       "\n",
       "    .dataframe thead th {\n",
       "        text-align: right;\n",
       "    }\n",
       "</style>\n",
       "<table border=\"1\" class=\"dataframe\">\n",
       "  <thead>\n",
       "    <tr style=\"text-align: right;\">\n",
       "      <th></th>\n",
       "      <th>cust_id</th>\n",
       "      <th>state</th>\n",
       "      <th>area_code</th>\n",
       "      <th>bill_date</th>\n",
       "      <th>bill_type</th>\n",
       "      <th>invoice_id</th>\n",
       "      <th>invoice_amount</th>\n",
       "      <th>invoice_init_date</th>\n",
       "      <th>invoice_final_date</th>\n",
       "      <th>invoice_settled_date</th>\n",
       "      <th>disputed</th>\n",
       "      <th>days_to_settle</th>\n",
       "      <th>days_late</th>\n",
       "    </tr>\n",
       "  </thead>\n",
       "  <tbody>\n",
       "    <tr>\n",
       "      <th>Type</th>\n",
       "      <td>object</td>\n",
       "      <td>object</td>\n",
       "      <td>int64</td>\n",
       "      <td>object</td>\n",
       "      <td>object</td>\n",
       "      <td>int64</td>\n",
       "      <td>float64</td>\n",
       "      <td>object</td>\n",
       "      <td>object</td>\n",
       "      <td>object</td>\n",
       "      <td>object</td>\n",
       "      <td>int64</td>\n",
       "      <td>int64</td>\n",
       "    </tr>\n",
       "  </tbody>\n",
       "</table>\n",
       "</div>"
      ],
      "text/plain": [
       "     cust_id   state area_code bill_date bill_type invoice_id invoice_amount  \\\n",
       "Type  object  object     int64    object    object      int64        float64   \n",
       "\n",
       "     invoice_init_date invoice_final_date invoice_settled_date disputed  \\\n",
       "Type            object             object               object   object   \n",
       "\n",
       "     days_to_settle days_late  \n",
       "Type          int64     int64  "
      ]
     },
     "execution_count": 7,
     "metadata": {
      "tags": []
     },
     "output_type": "execute_result"
    }
   ],
   "source": [
    "# Dataframe before performing changes\n",
    "type_frame = pd.DataFrame(data = data.dtypes, columns = ['Type'])\n",
    "type_frame.transpose()"
   ]
  },
  {
   "cell_type": "code",
   "execution_count": 0,
   "metadata": {
    "colab": {
     "base_uri": "https://localhost:8080/",
     "height": 204
    },
    "colab_type": "code",
    "id": "MKrAbfmQLK6v",
    "outputId": "6dad4698-7940-4303-d3c4-6cb2efa8d46c"
   },
   "outputs": [
    {
     "data": {
      "text/html": [
       "<div>\n",
       "<style scoped>\n",
       "    .dataframe tbody tr th:only-of-type {\n",
       "        vertical-align: middle;\n",
       "    }\n",
       "\n",
       "    .dataframe tbody tr th {\n",
       "        vertical-align: top;\n",
       "    }\n",
       "\n",
       "    .dataframe thead th {\n",
       "        text-align: right;\n",
       "    }\n",
       "</style>\n",
       "<table border=\"1\" class=\"dataframe\">\n",
       "  <thead>\n",
       "    <tr style=\"text-align: right;\">\n",
       "      <th></th>\n",
       "      <th>bill_date</th>\n",
       "      <th>invoice_init_date</th>\n",
       "      <th>invoice_final_date</th>\n",
       "      <th>invoice_settled_date</th>\n",
       "    </tr>\n",
       "  </thead>\n",
       "  <tbody>\n",
       "    <tr>\n",
       "      <th>0</th>\n",
       "      <td>28-04-2013</td>\n",
       "      <td>12-04-2013</td>\n",
       "      <td>12-05-2013</td>\n",
       "      <td>17-04-2013</td>\n",
       "    </tr>\n",
       "    <tr>\n",
       "      <th>1</th>\n",
       "      <td>16-03-2013</td>\n",
       "      <td>25-04-2013</td>\n",
       "      <td>25-05-2013</td>\n",
       "      <td>03-06-2013</td>\n",
       "    </tr>\n",
       "    <tr>\n",
       "      <th>2</th>\n",
       "      <td>10-01-2013</td>\n",
       "      <td>30-08-2013</td>\n",
       "      <td>29-09-2013</td>\n",
       "      <td>17-09-2013</td>\n",
       "    </tr>\n",
       "    <tr>\n",
       "      <th>3</th>\n",
       "      <td>08-07-2013</td>\n",
       "      <td>09-05-2012</td>\n",
       "      <td>08-06-2012</td>\n",
       "      <td>02-06-2012</td>\n",
       "    </tr>\n",
       "    <tr>\n",
       "      <th>4</th>\n",
       "      <td>29-07-2013</td>\n",
       "      <td>21-07-2013</td>\n",
       "      <td>20-08-2013</td>\n",
       "      <td>06-08-2013</td>\n",
       "    </tr>\n",
       "  </tbody>\n",
       "</table>\n",
       "</div>"
      ],
      "text/plain": [
       "    bill_date invoice_init_date invoice_final_date invoice_settled_date\n",
       "0  28-04-2013        12-04-2013         12-05-2013           17-04-2013\n",
       "1  16-03-2013        25-04-2013         25-05-2013           03-06-2013\n",
       "2  10-01-2013        30-08-2013         29-09-2013           17-09-2013\n",
       "3  08-07-2013        09-05-2012         08-06-2012           02-06-2012\n",
       "4  29-07-2013        21-07-2013         20-08-2013           06-08-2013"
      ]
     },
     "execution_count": 8,
     "metadata": {
      "tags": []
     },
     "output_type": "execute_result"
    }
   ],
   "source": [
    "# Data before performing changes\n",
    "data[['bill_date', 'invoice_init_date', 'invoice_final_date', 'invoice_settled_date']].head()"
   ]
  },
  {
   "cell_type": "markdown",
   "metadata": {
    "colab_type": "text",
    "id": "ZuswsjYhLYrS"
   },
   "source": [
    "**Performing Correction**"
   ]
  },
  {
   "cell_type": "code",
   "execution_count": 0,
   "metadata": {
    "colab": {},
    "colab_type": "code",
    "id": "vTpP3-iVpre7"
   },
   "outputs": [],
   "source": [
    "data['bill_date'] = pd.to_datetime(data['bill_date'])\n",
    "data['invoice_init_date'] = pd.to_datetime(data['invoice_init_date'])\n",
    "data['invoice_final_date'] = pd.to_datetime(data['invoice_final_date'])\n",
    "data['invoice_settled_date'] = pd.to_datetime(data['invoice_settled_date'])"
   ]
  },
  {
   "cell_type": "markdown",
   "metadata": {
    "colab_type": "text",
    "id": "WWGieCslLh1E"
   },
   "source": [
    "**After changes: Data types and respective incorrect data**"
   ]
  },
  {
   "cell_type": "code",
   "execution_count": 0,
   "metadata": {
    "colab": {
     "base_uri": "https://localhost:8080/",
     "height": 100
    },
    "colab_type": "code",
    "id": "-xAQXtEoLclI",
    "outputId": "8719fed9-5207-449a-c199-28b0e136452b"
   },
   "outputs": [
    {
     "data": {
      "text/html": [
       "<div>\n",
       "<style scoped>\n",
       "    .dataframe tbody tr th:only-of-type {\n",
       "        vertical-align: middle;\n",
       "    }\n",
       "\n",
       "    .dataframe tbody tr th {\n",
       "        vertical-align: top;\n",
       "    }\n",
       "\n",
       "    .dataframe thead th {\n",
       "        text-align: right;\n",
       "    }\n",
       "</style>\n",
       "<table border=\"1\" class=\"dataframe\">\n",
       "  <thead>\n",
       "    <tr style=\"text-align: right;\">\n",
       "      <th></th>\n",
       "      <th>cust_id</th>\n",
       "      <th>state</th>\n",
       "      <th>area_code</th>\n",
       "      <th>bill_date</th>\n",
       "      <th>bill_type</th>\n",
       "      <th>invoice_id</th>\n",
       "      <th>invoice_amount</th>\n",
       "      <th>invoice_init_date</th>\n",
       "      <th>invoice_final_date</th>\n",
       "      <th>invoice_settled_date</th>\n",
       "      <th>disputed</th>\n",
       "      <th>days_to_settle</th>\n",
       "      <th>days_late</th>\n",
       "    </tr>\n",
       "  </thead>\n",
       "  <tbody>\n",
       "    <tr>\n",
       "      <th>Type</th>\n",
       "      <td>object</td>\n",
       "      <td>object</td>\n",
       "      <td>int64</td>\n",
       "      <td>datetime64[ns]</td>\n",
       "      <td>object</td>\n",
       "      <td>int64</td>\n",
       "      <td>float64</td>\n",
       "      <td>datetime64[ns]</td>\n",
       "      <td>datetime64[ns]</td>\n",
       "      <td>datetime64[ns]</td>\n",
       "      <td>object</td>\n",
       "      <td>int64</td>\n",
       "      <td>int64</td>\n",
       "    </tr>\n",
       "  </tbody>\n",
       "</table>\n",
       "</div>"
      ],
      "text/plain": [
       "     cust_id   state area_code       bill_date bill_type invoice_id  \\\n",
       "Type  object  object     int64  datetime64[ns]    object      int64   \n",
       "\n",
       "     invoice_amount invoice_init_date invoice_final_date invoice_settled_date  \\\n",
       "Type        float64    datetime64[ns]     datetime64[ns]       datetime64[ns]   \n",
       "\n",
       "     disputed days_to_settle days_late  \n",
       "Type   object          int64     int64  "
      ]
     },
     "execution_count": 10,
     "metadata": {
      "tags": []
     },
     "output_type": "execute_result"
    }
   ],
   "source": [
    "# Dataframe after performing changes\n",
    "type_frame = pd.DataFrame(data = data.dtypes, columns = ['Type'])\n",
    "type_frame.transpose()"
   ]
  },
  {
   "cell_type": "code",
   "execution_count": 0,
   "metadata": {
    "colab": {
     "base_uri": "https://localhost:8080/",
     "height": 204
    },
    "colab_type": "code",
    "id": "4X1fb2boLnlg",
    "outputId": "3504152a-b772-4a4e-8c30-ca68c9d228e6"
   },
   "outputs": [
    {
     "data": {
      "text/html": [
       "<div>\n",
       "<style scoped>\n",
       "    .dataframe tbody tr th:only-of-type {\n",
       "        vertical-align: middle;\n",
       "    }\n",
       "\n",
       "    .dataframe tbody tr th {\n",
       "        vertical-align: top;\n",
       "    }\n",
       "\n",
       "    .dataframe thead th {\n",
       "        text-align: right;\n",
       "    }\n",
       "</style>\n",
       "<table border=\"1\" class=\"dataframe\">\n",
       "  <thead>\n",
       "    <tr style=\"text-align: right;\">\n",
       "      <th></th>\n",
       "      <th>bill_date</th>\n",
       "      <th>invoice_init_date</th>\n",
       "      <th>invoice_final_date</th>\n",
       "      <th>invoice_settled_date</th>\n",
       "    </tr>\n",
       "  </thead>\n",
       "  <tbody>\n",
       "    <tr>\n",
       "      <th>0</th>\n",
       "      <td>2013-04-28</td>\n",
       "      <td>2013-12-04</td>\n",
       "      <td>2013-12-05</td>\n",
       "      <td>2013-04-17</td>\n",
       "    </tr>\n",
       "    <tr>\n",
       "      <th>1</th>\n",
       "      <td>2013-03-16</td>\n",
       "      <td>2013-04-25</td>\n",
       "      <td>2013-05-25</td>\n",
       "      <td>2013-03-06</td>\n",
       "    </tr>\n",
       "    <tr>\n",
       "      <th>2</th>\n",
       "      <td>2013-10-01</td>\n",
       "      <td>2013-08-30</td>\n",
       "      <td>2013-09-29</td>\n",
       "      <td>2013-09-17</td>\n",
       "    </tr>\n",
       "    <tr>\n",
       "      <th>3</th>\n",
       "      <td>2013-08-07</td>\n",
       "      <td>2012-09-05</td>\n",
       "      <td>2012-08-06</td>\n",
       "      <td>2012-02-06</td>\n",
       "    </tr>\n",
       "    <tr>\n",
       "      <th>4</th>\n",
       "      <td>2013-07-29</td>\n",
       "      <td>2013-07-21</td>\n",
       "      <td>2013-08-20</td>\n",
       "      <td>2013-06-08</td>\n",
       "    </tr>\n",
       "  </tbody>\n",
       "</table>\n",
       "</div>"
      ],
      "text/plain": [
       "   bill_date invoice_init_date invoice_final_date invoice_settled_date\n",
       "0 2013-04-28        2013-12-04         2013-12-05           2013-04-17\n",
       "1 2013-03-16        2013-04-25         2013-05-25           2013-03-06\n",
       "2 2013-10-01        2013-08-30         2013-09-29           2013-09-17\n",
       "3 2013-08-07        2012-09-05         2012-08-06           2012-02-06\n",
       "4 2013-07-29        2013-07-21         2013-08-20           2013-06-08"
      ]
     },
     "execution_count": 11,
     "metadata": {
      "tags": []
     },
     "output_type": "execute_result"
    }
   ],
   "source": [
    "# Data after performing changes\n",
    "data[['bill_date', 'invoice_init_date', 'invoice_final_date', 'invoice_settled_date']].head()"
   ]
  },
  {
   "cell_type": "markdown",
   "metadata": {
    "colab_type": "text",
    "id": "LNUVXNc6_akZ"
   },
   "source": [
    "### **Identification & Handling of Missing Data**"
   ]
  },
  {
   "cell_type": "code",
   "execution_count": 0,
   "metadata": {
    "colab": {
     "base_uri": "https://localhost:8080/",
     "height": 117
    },
    "colab_type": "code",
    "id": "0bJ4gz6dMaYi",
    "outputId": "4928c293-4919-4af1-b8ea-11bcda9814c0"
   },
   "outputs": [
    {
     "name": "stdout",
     "output_type": "stream",
     "text": [
      "Data Shape: (2466, 13)\n"
     ]
    },
    {
     "data": {
      "text/html": [
       "<div>\n",
       "<style scoped>\n",
       "    .dataframe tbody tr th:only-of-type {\n",
       "        vertical-align: middle;\n",
       "    }\n",
       "\n",
       "    .dataframe tbody tr th {\n",
       "        vertical-align: top;\n",
       "    }\n",
       "\n",
       "    .dataframe thead th {\n",
       "        text-align: right;\n",
       "    }\n",
       "</style>\n",
       "<table border=\"1\" class=\"dataframe\">\n",
       "  <thead>\n",
       "    <tr style=\"text-align: right;\">\n",
       "      <th></th>\n",
       "      <th>cust_id</th>\n",
       "      <th>state</th>\n",
       "      <th>area_code</th>\n",
       "      <th>bill_date</th>\n",
       "      <th>bill_type</th>\n",
       "      <th>invoice_id</th>\n",
       "      <th>invoice_amount</th>\n",
       "      <th>invoice_init_date</th>\n",
       "      <th>invoice_final_date</th>\n",
       "      <th>invoice_settled_date</th>\n",
       "      <th>disputed</th>\n",
       "      <th>days_to_settle</th>\n",
       "      <th>days_late</th>\n",
       "    </tr>\n",
       "  </thead>\n",
       "  <tbody>\n",
       "    <tr>\n",
       "      <th>Frequency</th>\n",
       "      <td>0</td>\n",
       "      <td>0</td>\n",
       "      <td>0</td>\n",
       "      <td>0</td>\n",
       "      <td>0</td>\n",
       "      <td>0</td>\n",
       "      <td>0</td>\n",
       "      <td>0</td>\n",
       "      <td>0</td>\n",
       "      <td>0</td>\n",
       "      <td>0</td>\n",
       "      <td>0</td>\n",
       "      <td>0</td>\n",
       "    </tr>\n",
       "  </tbody>\n",
       "</table>\n",
       "</div>"
      ],
      "text/plain": [
       "           cust_id  state  area_code  bill_date  bill_type  invoice_id  \\\n",
       "Frequency        0      0          0          0          0           0   \n",
       "\n",
       "           invoice_amount  invoice_init_date  invoice_final_date  \\\n",
       "Frequency               0                  0                   0   \n",
       "\n",
       "           invoice_settled_date  disputed  days_to_settle  days_late  \n",
       "Frequency                     0         0               0          0  "
      ]
     },
     "execution_count": 12,
     "metadata": {
      "tags": []
     },
     "output_type": "execute_result"
    }
   ],
   "source": [
    "print('Data Shape:', data.shape)\n",
    "null_frame = pd.DataFrame(data = data.isnull().sum(), columns = ['Frequency'])\n",
    "null_frame.transpose()"
   ]
  },
  {
   "cell_type": "markdown",
   "metadata": {
    "colab_type": "text",
    "id": "g0k6BpSJ_gRT"
   },
   "source": [
    "It turns out there are **no null values**, but we need to **identify whether** there are **zeros present** with respect to each features **or not**."
   ]
  },
  {
   "cell_type": "code",
   "execution_count": 0,
   "metadata": {
    "colab": {
     "base_uri": "https://localhost:8080/",
     "height": 117
    },
    "colab_type": "code",
    "id": "Ifp5kT7V_tc-",
    "outputId": "7230a275-3859-4777-fc88-0333c25a6e7f"
   },
   "outputs": [
    {
     "name": "stdout",
     "output_type": "stream",
     "text": [
      "Data Shape: (2466, 13)\n"
     ]
    },
    {
     "data": {
      "text/html": [
       "<div>\n",
       "<style scoped>\n",
       "    .dataframe tbody tr th:only-of-type {\n",
       "        vertical-align: middle;\n",
       "    }\n",
       "\n",
       "    .dataframe tbody tr th {\n",
       "        vertical-align: top;\n",
       "    }\n",
       "\n",
       "    .dataframe thead th {\n",
       "        text-align: right;\n",
       "    }\n",
       "</style>\n",
       "<table border=\"1\" class=\"dataframe\">\n",
       "  <thead>\n",
       "    <tr style=\"text-align: right;\">\n",
       "      <th></th>\n",
       "      <th>cust_id</th>\n",
       "      <th>state</th>\n",
       "      <th>area_code</th>\n",
       "      <th>bill_date</th>\n",
       "      <th>bill_type</th>\n",
       "      <th>invoice_id</th>\n",
       "      <th>invoice_amount</th>\n",
       "      <th>invoice_init_date</th>\n",
       "      <th>invoice_final_date</th>\n",
       "      <th>invoice_settled_date</th>\n",
       "      <th>disputed</th>\n",
       "      <th>days_to_settle</th>\n",
       "      <th>days_late</th>\n",
       "    </tr>\n",
       "  </thead>\n",
       "  <tbody>\n",
       "    <tr>\n",
       "      <th>Count</th>\n",
       "      <td>0</td>\n",
       "      <td>0</td>\n",
       "      <td>0</td>\n",
       "      <td>0</td>\n",
       "      <td>0</td>\n",
       "      <td>0</td>\n",
       "      <td>0</td>\n",
       "      <td>0</td>\n",
       "      <td>0</td>\n",
       "      <td>0</td>\n",
       "      <td>0</td>\n",
       "      <td>4</td>\n",
       "      <td>1589</td>\n",
       "    </tr>\n",
       "  </tbody>\n",
       "</table>\n",
       "</div>"
      ],
      "text/plain": [
       "       cust_id  state  area_code  bill_date  bill_type  invoice_id  \\\n",
       "Count        0      0          0          0          0           0   \n",
       "\n",
       "       invoice_amount  invoice_init_date  invoice_final_date  \\\n",
       "Count               0                  0                   0   \n",
       "\n",
       "       invoice_settled_date  disputed  days_to_settle  days_late  \n",
       "Count                     0         0               4       1589  "
      ]
     },
     "execution_count": 13,
     "metadata": {
      "tags": []
     },
     "output_type": "execute_result"
    }
   ],
   "source": [
    "print('Data Shape:', data.shape)\n",
    "zero_frame = pd.DataFrame(data[data == 0].count(), columns = ['Count'])\n",
    "zero_frame.transpose()"
   ]
  },
  {
   "cell_type": "markdown",
   "metadata": {
    "colab_type": "text",
    "id": "y5uAdiTe_15Q"
   },
   "source": [
    "**Observation:**\n",
    "\n",
    "- It turns out there are **4 zeros** in days_to_settle & **1589 zeros in days_late**.\n",
    "- But let's **see** what happened with **these four transactions**."
   ]
  },
  {
   "cell_type": "code",
   "execution_count": 0,
   "metadata": {
    "colab": {
     "base_uri": "https://localhost:8080/",
     "height": 261
    },
    "colab_type": "code",
    "id": "yDZI2RssATht",
    "outputId": "065eff47-6d2f-493b-b339-8d44daf8c327"
   },
   "outputs": [
    {
     "data": {
      "text/html": [
       "<div>\n",
       "<style scoped>\n",
       "    .dataframe tbody tr th:only-of-type {\n",
       "        vertical-align: middle;\n",
       "    }\n",
       "\n",
       "    .dataframe tbody tr th {\n",
       "        vertical-align: top;\n",
       "    }\n",
       "\n",
       "    .dataframe thead th {\n",
       "        text-align: right;\n",
       "    }\n",
       "</style>\n",
       "<table border=\"1\" class=\"dataframe\">\n",
       "  <thead>\n",
       "    <tr style=\"text-align: right;\">\n",
       "      <th></th>\n",
       "      <th>cust_id</th>\n",
       "      <th>state</th>\n",
       "      <th>area_code</th>\n",
       "      <th>bill_date</th>\n",
       "      <th>bill_type</th>\n",
       "      <th>invoice_id</th>\n",
       "      <th>invoice_amount</th>\n",
       "      <th>invoice_init_date</th>\n",
       "      <th>invoice_final_date</th>\n",
       "      <th>invoice_settled_date</th>\n",
       "      <th>disputed</th>\n",
       "      <th>days_to_settle</th>\n",
       "      <th>days_late</th>\n",
       "    </tr>\n",
       "  </thead>\n",
       "  <tbody>\n",
       "    <tr>\n",
       "      <th>201</th>\n",
       "      <td>9286-VLKMI</td>\n",
       "      <td>State of KS</td>\n",
       "      <td>897</td>\n",
       "      <td>2013-02-13</td>\n",
       "      <td>Electronic</td>\n",
       "      <td>7722226334</td>\n",
       "      <td>51.55</td>\n",
       "      <td>2013-10-06</td>\n",
       "      <td>2013-10-07</td>\n",
       "      <td>2013-10-06</td>\n",
       "      <td>No</td>\n",
       "      <td>0</td>\n",
       "      <td>0</td>\n",
       "    </tr>\n",
       "    <tr>\n",
       "      <th>1401</th>\n",
       "      <td>9286-VLKMI</td>\n",
       "      <td>State of KS</td>\n",
       "      <td>897</td>\n",
       "      <td>2013-02-13</td>\n",
       "      <td>Electronic</td>\n",
       "      <td>7679449609</td>\n",
       "      <td>47.39</td>\n",
       "      <td>2013-06-03</td>\n",
       "      <td>2013-05-04</td>\n",
       "      <td>2013-06-03</td>\n",
       "      <td>No</td>\n",
       "      <td>0</td>\n",
       "      <td>0</td>\n",
       "    </tr>\n",
       "    <tr>\n",
       "      <th>1963</th>\n",
       "      <td>3271-HYHDN</td>\n",
       "      <td>Los Angeles</td>\n",
       "      <td>818</td>\n",
       "      <td>2013-04-28</td>\n",
       "      <td>Electronic</td>\n",
       "      <td>5584805665</td>\n",
       "      <td>71.02</td>\n",
       "      <td>2013-07-23</td>\n",
       "      <td>2013-08-22</td>\n",
       "      <td>2013-07-23</td>\n",
       "      <td>No</td>\n",
       "      <td>0</td>\n",
       "      <td>0</td>\n",
       "    </tr>\n",
       "    <tr>\n",
       "      <th>1974</th>\n",
       "      <td>3271-HYHDN</td>\n",
       "      <td>Los Angeles</td>\n",
       "      <td>818</td>\n",
       "      <td>2013-04-28</td>\n",
       "      <td>Electronic</td>\n",
       "      <td>367399005</td>\n",
       "      <td>58.78</td>\n",
       "      <td>2013-10-08</td>\n",
       "      <td>2013-09-09</td>\n",
       "      <td>2013-10-08</td>\n",
       "      <td>No</td>\n",
       "      <td>0</td>\n",
       "      <td>0</td>\n",
       "    </tr>\n",
       "  </tbody>\n",
       "</table>\n",
       "</div>"
      ],
      "text/plain": [
       "         cust_id        state  area_code  bill_date   bill_type  invoice_id  \\\n",
       "201   9286-VLKMI  State of KS        897 2013-02-13  Electronic  7722226334   \n",
       "1401  9286-VLKMI  State of KS        897 2013-02-13  Electronic  7679449609   \n",
       "1963  3271-HYHDN  Los Angeles        818 2013-04-28  Electronic  5584805665   \n",
       "1974  3271-HYHDN  Los Angeles        818 2013-04-28  Electronic   367399005   \n",
       "\n",
       "      invoice_amount invoice_init_date invoice_final_date  \\\n",
       "201            51.55        2013-10-06         2013-10-07   \n",
       "1401           47.39        2013-06-03         2013-05-04   \n",
       "1963           71.02        2013-07-23         2013-08-22   \n",
       "1974           58.78        2013-10-08         2013-09-09   \n",
       "\n",
       "     invoice_settled_date disputed  days_to_settle  days_late  \n",
       "201            2013-10-06       No               0          0  \n",
       "1401           2013-06-03       No               0          0  \n",
       "1963           2013-07-23       No               0          0  \n",
       "1974           2013-10-08       No               0          0  "
      ]
     },
     "execution_count": 14,
     "metadata": {
      "tags": []
     },
     "output_type": "execute_result"
    }
   ],
   "source": [
    "data[data['days_to_settle'] == 0]"
   ]
  },
  {
   "cell_type": "markdown",
   "metadata": {
    "colab_type": "text",
    "id": "HvGdvOXjNX1G"
   },
   "source": [
    "**Observation:**\n",
    "\n",
    "- We can see that the **invoice intital date and invoice settle date is same** **signifying** that **invoice was settled on the same date** and **that's why they were not late**. \n",
    "- This is **not incorrect value**, we can either drop these four records or keep it. But we **will drop these four records**. "
   ]
  },
  {
   "cell_type": "code",
   "execution_count": 0,
   "metadata": {
    "colab": {
     "base_uri": "https://localhost:8080/",
     "height": 51
    },
    "colab_type": "code",
    "id": "a3tq-bmmAW_k",
    "outputId": "190ba6be-a016-4c66-e944-babde731e71d"
   },
   "outputs": [
    {
     "name": "stdout",
     "output_type": "stream",
     "text": [
      "Data Shape [Before]: (2466, 13)\n",
      "Data Shape [After]: (2462, 13)\n"
     ]
    }
   ],
   "source": [
    "# Dropping records where days_to_settle = 0\n",
    "print('Data Shape [Before]:', data.shape)\n",
    "data = data[data['days_to_settle'] != 0]\n",
    "print('Data Shape [After]:', data.shape)"
   ]
  },
  {
   "cell_type": "markdown",
   "metadata": {
    "colab_type": "text",
    "id": "o7Rfflk1BZKp"
   },
   "source": [
    "### **Identification & Handling of Duplicate Rows**\n",
    "\n",
    "- Let's identify **whether there duplicate rows present in the data or not**.\n",
    "- We can **create an another frame excluding cust_id and invoice_id** to identify the duplicacy."
   ]
  },
  {
   "cell_type": "code",
   "execution_count": 0,
   "metadata": {
    "colab": {
     "base_uri": "https://localhost:8080/",
     "height": 34
    },
    "colab_type": "code",
    "id": "xp4gslk5BThn",
    "outputId": "c66e7a6b-f38a-4c53-f427-9dbf2b66fb1e"
   },
   "outputs": [
    {
     "data": {
      "text/plain": [
       "False"
      ]
     },
     "execution_count": 16,
     "metadata": {
      "tags": []
     },
     "output_type": "execute_result"
    }
   ],
   "source": [
    "data2 = data.drop(labels = ['cust_id', 'invoice_id'], axis = 1)\n",
    "data2.duplicated().any()"
   ]
  },
  {
   "cell_type": "markdown",
   "metadata": {
    "colab_type": "text",
    "id": "0QIacdSQOkam"
   },
   "source": [
    "**Observation:**\n",
    "\n",
    "- It turns out that there **aren't any duplicate rows present** in our data."
   ]
  },
  {
   "cell_type": "markdown",
   "metadata": {
    "colab_type": "text",
    "id": "XnYoLpxvB3WL"
   },
   "source": [
    "### **Identification & Handling of Duplicate Columns**\n",
    "\n",
    "- Let's identify **whether there are any duplicate columns** in our data or not.\n",
    "- We have made a **custom function to identify all the columns** with **similar values**. "
   ]
  },
  {
   "cell_type": "code",
   "execution_count": 0,
   "metadata": {
    "colab": {},
    "colab_type": "code",
    "id": "lGSOpKxcB0H7"
   },
   "outputs": [],
   "source": [
    "def duplicateCols(dataframe):\n",
    "  '''Get a list of Duplicate valued Columns'''\n",
    "  names = set()\n",
    "  for i in range(dataframe.shape[1]):\n",
    "    col1 = dataframe.iloc[:, i]\n",
    "    for j in range(i+1, dataframe.shape[1]):\n",
    "      col2 = dataframe.iloc[:, j]\n",
    "      if col1.equals(col2):\n",
    "        names.add(dataframe.columns.values[j])\n",
    "\n",
    "  if (len(names) == 0):\n",
    "    return None\n",
    "  else:\n",
    "    return list(names)"
   ]
  },
  {
   "cell_type": "code",
   "execution_count": 0,
   "metadata": {
    "colab": {
     "base_uri": "https://localhost:8080/",
     "height": 34
    },
    "colab_type": "code",
    "id": "pj57Uri9CCFc",
    "outputId": "19f3880c-6dc1-40ea-c353-55be1cc711d2"
   },
   "outputs": [
    {
     "name": "stdout",
     "output_type": "stream",
     "text": [
      "Contains Duplicate Features? None\n"
     ]
    }
   ],
   "source": [
    "is_duplicate_cols = duplicateCols(data2)\n",
    "print('Contains Duplicate Features?', is_duplicate_cols)"
   ]
  },
  {
   "cell_type": "markdown",
   "metadata": {
    "colab_type": "text",
    "id": "dTZUcCJVCF6R"
   },
   "source": [
    "**Observation:**\n",
    "\n",
    "- It turns out that there are **no duplicate columns** in our data."
   ]
  },
  {
   "cell_type": "markdown",
   "metadata": {
    "colab_type": "text",
    "id": "7Mnpiik6DEcb"
   },
   "source": [
    "### **Post Profiling Report**"
   ]
  },
  {
   "cell_type": "code",
   "execution_count": 0,
   "metadata": {
    "colab": {
     "base_uri": "https://localhost:8080/",
     "height": 34
    },
    "colab_type": "code",
    "id": "YygSQEmsCEAd",
    "outputId": "0afe20dc-8ca7-4cd4-f367-6bead250cb47"
   },
   "outputs": [
    {
     "name": "stdout",
     "output_type": "stream",
     "text": [
      "Accomplished!\n"
     ]
    }
   ],
   "source": [
    "profile = ProfileReport(df = data)\n",
    "profile.to_file(output_file = 'Post Profiling.html')\n",
    "print('Accomplished!')"
   ]
  },
  {
   "cell_type": "markdown",
   "metadata": {
    "colab_type": "text",
    "id": "Gd1mZt25Qphl"
   },
   "source": [
    "**Observation:**\n",
    "\n",
    "- Report shows that **there are 6 numeric, 4 categorical and 4 datetime features**.\n",
    "- **Rest** there is **no change than before**."
   ]
  },
  {
   "cell_type": "markdown",
   "metadata": {
    "colab_type": "text",
    "id": "ZJmrp1OXb6Ed"
   },
   "source": [
    "<a id = Section6></a>\n",
    "# **5. Exploratory Data Analysis**"
   ]
  },
  {
   "cell_type": "code",
   "execution_count": 0,
   "metadata": {
    "colab": {
     "base_uri": "https://localhost:8080/",
     "height": 326
    },
    "colab_type": "code",
    "id": "nyIAgPxjaZak",
    "outputId": "43a1c6ef-2ad5-47ce-bb8a-ca52419f0c85"
   },
   "outputs": [
    {
     "name": "stdout",
     "output_type": "stream",
     "text": [
      "Data Shape: (2462, 13)\n"
     ]
    },
    {
     "data": {
      "text/html": [
       "<div>\n",
       "<style scoped>\n",
       "    .dataframe tbody tr th:only-of-type {\n",
       "        vertical-align: middle;\n",
       "    }\n",
       "\n",
       "    .dataframe tbody tr th {\n",
       "        vertical-align: top;\n",
       "    }\n",
       "\n",
       "    .dataframe thead th {\n",
       "        text-align: right;\n",
       "    }\n",
       "</style>\n",
       "<table border=\"1\" class=\"dataframe\">\n",
       "  <thead>\n",
       "    <tr style=\"text-align: right;\">\n",
       "      <th></th>\n",
       "      <th>cust_id</th>\n",
       "      <th>state</th>\n",
       "      <th>area_code</th>\n",
       "      <th>bill_date</th>\n",
       "      <th>bill_type</th>\n",
       "      <th>invoice_id</th>\n",
       "      <th>invoice_amount</th>\n",
       "      <th>invoice_init_date</th>\n",
       "      <th>invoice_final_date</th>\n",
       "      <th>invoice_settled_date</th>\n",
       "      <th>disputed</th>\n",
       "      <th>days_to_settle</th>\n",
       "      <th>days_late</th>\n",
       "    </tr>\n",
       "  </thead>\n",
       "  <tbody>\n",
       "    <tr>\n",
       "      <th>0</th>\n",
       "      <td>3271-HYHDN</td>\n",
       "      <td>Los Angeles</td>\n",
       "      <td>818</td>\n",
       "      <td>2013-04-28</td>\n",
       "      <td>Paper</td>\n",
       "      <td>354407690</td>\n",
       "      <td>45.56</td>\n",
       "      <td>2013-12-04</td>\n",
       "      <td>2013-12-05</td>\n",
       "      <td>2013-04-17</td>\n",
       "      <td>No</td>\n",
       "      <td>5</td>\n",
       "      <td>0</td>\n",
       "    </tr>\n",
       "    <tr>\n",
       "      <th>1</th>\n",
       "      <td>1604-LIFKX</td>\n",
       "      <td>Los Angeles</td>\n",
       "      <td>818</td>\n",
       "      <td>2013-03-16</td>\n",
       "      <td>Electronic</td>\n",
       "      <td>3693123052</td>\n",
       "      <td>47.82</td>\n",
       "      <td>2013-04-25</td>\n",
       "      <td>2013-05-25</td>\n",
       "      <td>2013-03-06</td>\n",
       "      <td>No</td>\n",
       "      <td>39</td>\n",
       "      <td>9</td>\n",
       "    </tr>\n",
       "    <tr>\n",
       "      <th>2</th>\n",
       "      <td>6160-HCSFI</td>\n",
       "      <td>State of OK</td>\n",
       "      <td>391</td>\n",
       "      <td>2013-10-01</td>\n",
       "      <td>Electronic</td>\n",
       "      <td>4026967253</td>\n",
       "      <td>69.48</td>\n",
       "      <td>2013-08-30</td>\n",
       "      <td>2013-09-29</td>\n",
       "      <td>2013-09-17</td>\n",
       "      <td>No</td>\n",
       "      <td>18</td>\n",
       "      <td>0</td>\n",
       "    </tr>\n",
       "    <tr>\n",
       "      <th>3</th>\n",
       "      <td>9883-SDWFS</td>\n",
       "      <td>State of KS</td>\n",
       "      <td>897</td>\n",
       "      <td>2013-08-07</td>\n",
       "      <td>Paper</td>\n",
       "      <td>1491017498</td>\n",
       "      <td>19.23</td>\n",
       "      <td>2012-09-05</td>\n",
       "      <td>2012-08-06</td>\n",
       "      <td>2012-02-06</td>\n",
       "      <td>No</td>\n",
       "      <td>24</td>\n",
       "      <td>0</td>\n",
       "    </tr>\n",
       "    <tr>\n",
       "      <th>4</th>\n",
       "      <td>3676-CQAIF</td>\n",
       "      <td>State of KS</td>\n",
       "      <td>897</td>\n",
       "      <td>2013-07-29</td>\n",
       "      <td>Paper</td>\n",
       "      <td>2137157897</td>\n",
       "      <td>20.55</td>\n",
       "      <td>2013-07-21</td>\n",
       "      <td>2013-08-20</td>\n",
       "      <td>2013-06-08</td>\n",
       "      <td>No</td>\n",
       "      <td>16</td>\n",
       "      <td>0</td>\n",
       "    </tr>\n",
       "  </tbody>\n",
       "</table>\n",
       "</div>"
      ],
      "text/plain": [
       "      cust_id        state  area_code  bill_date   bill_type  invoice_id  \\\n",
       "0  3271-HYHDN  Los Angeles        818 2013-04-28       Paper   354407690   \n",
       "1  1604-LIFKX  Los Angeles        818 2013-03-16  Electronic  3693123052   \n",
       "2  6160-HCSFI  State of OK        391 2013-10-01  Electronic  4026967253   \n",
       "3  9883-SDWFS  State of KS        897 2013-08-07       Paper  1491017498   \n",
       "4  3676-CQAIF  State of KS        897 2013-07-29       Paper  2137157897   \n",
       "\n",
       "   invoice_amount invoice_init_date invoice_final_date invoice_settled_date  \\\n",
       "0           45.56        2013-12-04         2013-12-05           2013-04-17   \n",
       "1           47.82        2013-04-25         2013-05-25           2013-03-06   \n",
       "2           69.48        2013-08-30         2013-09-29           2013-09-17   \n",
       "3           19.23        2012-09-05         2012-08-06           2012-02-06   \n",
       "4           20.55        2013-07-21         2013-08-20           2013-06-08   \n",
       "\n",
       "  disputed  days_to_settle  days_late  \n",
       "0       No               5          0  \n",
       "1       No              39          9  \n",
       "2       No              18          0  \n",
       "3       No              24          0  \n",
       "4       No              16          0  "
      ]
     },
     "execution_count": 102,
     "metadata": {
      "tags": []
     },
     "output_type": "execute_result"
    }
   ],
   "source": [
    "print('Data Shape:', data.shape)\n",
    "data.head()"
   ]
  },
  {
   "cell_type": "markdown",
   "metadata": {
    "colab_type": "text",
    "id": "k4hkY7Gzc2oC"
   },
   "source": [
    "- We will **create some new features** out of the exisiting ones which **can help out in our analysis**.\n",
    "- These will be -\n",
    "  - **late:** It will shows whether a customer was late or not.\n",
    "  - **count_late:**It will shows the number of time a certain customer was late.\n",
    "  - **invoice_quater** It signifies quarter of the date in invoice_init_date.\n",
    "  - **repeat_cust** It will shows the frequency of repeated customer.\n",
    "  - **binned_invoice_amount:** This feature is derived from invoice amount signifying categories of invoice amount i.e. Less than 60 or Greater than 60."
   ]
  },
  {
   "cell_type": "code",
   "execution_count": 0,
   "metadata": {
    "colab": {},
    "colab_type": "code",
    "id": "P5EY1epqcg0-"
   },
   "outputs": [],
   "source": [
    "data['late'] = data['days_late'].apply(lambda x: 1 if x>0 else 0)\n",
    "data['count_late'] = data['late'].eq(1).groupby(data['cust_id']).apply(lambda x: x.cumsum().shift().fillna(0)).astype(int)\n",
    "data['invoice_quater'] = data['invoice_init_date'].dt.quarter\n",
    "# For frequency of repeated customer\n",
    "temp_data = data[data['late'] == 1].groupby(['cust_id'], as_index = False)['days_late'].count()\n",
    "temp_data.columns = ['cust_id', 'repeat_cust']\n",
    "data = pd.merge(data, temp_data, how = 'left', on = 'cust_id')\n",
    "data['repeat_cust'].fillna(0, inplace=True)\n",
    "data['repeat_cust'] = data['repeat_cust'].astype('int')\n",
    "data['binned_invoice_amount'] = data['invoice_amount'].apply(lambda x: 'More than 60' if x > 69 else 'Less than 60')"
   ]
  },
  {
   "cell_type": "code",
   "execution_count": 0,
   "metadata": {
    "colab": {
     "base_uri": "https://localhost:8080/",
     "height": 326
    },
    "colab_type": "code",
    "id": "qizG_WFMeiZ6",
    "outputId": "d49f7b59-0893-4bdf-e640-d7c36d69c13e"
   },
   "outputs": [
    {
     "name": "stdout",
     "output_type": "stream",
     "text": [
      "Data Shape: (2462, 18)\n"
     ]
    },
    {
     "data": {
      "text/html": [
       "<div>\n",
       "<style scoped>\n",
       "    .dataframe tbody tr th:only-of-type {\n",
       "        vertical-align: middle;\n",
       "    }\n",
       "\n",
       "    .dataframe tbody tr th {\n",
       "        vertical-align: top;\n",
       "    }\n",
       "\n",
       "    .dataframe thead th {\n",
       "        text-align: right;\n",
       "    }\n",
       "</style>\n",
       "<table border=\"1\" class=\"dataframe\">\n",
       "  <thead>\n",
       "    <tr style=\"text-align: right;\">\n",
       "      <th></th>\n",
       "      <th>cust_id</th>\n",
       "      <th>state</th>\n",
       "      <th>area_code</th>\n",
       "      <th>bill_date</th>\n",
       "      <th>bill_type</th>\n",
       "      <th>invoice_id</th>\n",
       "      <th>invoice_amount</th>\n",
       "      <th>invoice_init_date</th>\n",
       "      <th>invoice_final_date</th>\n",
       "      <th>invoice_settled_date</th>\n",
       "      <th>disputed</th>\n",
       "      <th>days_to_settle</th>\n",
       "      <th>days_late</th>\n",
       "      <th>late</th>\n",
       "      <th>count_late</th>\n",
       "      <th>invoice_quater</th>\n",
       "      <th>repeat_cust</th>\n",
       "      <th>binned_invoice_amount</th>\n",
       "    </tr>\n",
       "  </thead>\n",
       "  <tbody>\n",
       "    <tr>\n",
       "      <th>0</th>\n",
       "      <td>3271-HYHDN</td>\n",
       "      <td>Los Angeles</td>\n",
       "      <td>818</td>\n",
       "      <td>2013-04-28</td>\n",
       "      <td>Paper</td>\n",
       "      <td>354407690</td>\n",
       "      <td>45.56</td>\n",
       "      <td>2013-12-04</td>\n",
       "      <td>2013-12-05</td>\n",
       "      <td>2013-04-17</td>\n",
       "      <td>No</td>\n",
       "      <td>5</td>\n",
       "      <td>0</td>\n",
       "      <td>0</td>\n",
       "      <td>0</td>\n",
       "      <td>4</td>\n",
       "      <td>0</td>\n",
       "      <td>Less than 60</td>\n",
       "    </tr>\n",
       "    <tr>\n",
       "      <th>1</th>\n",
       "      <td>1604-LIFKX</td>\n",
       "      <td>Los Angeles</td>\n",
       "      <td>818</td>\n",
       "      <td>2013-03-16</td>\n",
       "      <td>Electronic</td>\n",
       "      <td>3693123052</td>\n",
       "      <td>47.82</td>\n",
       "      <td>2013-04-25</td>\n",
       "      <td>2013-05-25</td>\n",
       "      <td>2013-03-06</td>\n",
       "      <td>No</td>\n",
       "      <td>39</td>\n",
       "      <td>9</td>\n",
       "      <td>1</td>\n",
       "      <td>0</td>\n",
       "      <td>2</td>\n",
       "      <td>20</td>\n",
       "      <td>Less than 60</td>\n",
       "    </tr>\n",
       "    <tr>\n",
       "      <th>2</th>\n",
       "      <td>6160-HCSFI</td>\n",
       "      <td>State of OK</td>\n",
       "      <td>391</td>\n",
       "      <td>2013-10-01</td>\n",
       "      <td>Electronic</td>\n",
       "      <td>4026967253</td>\n",
       "      <td>69.48</td>\n",
       "      <td>2013-08-30</td>\n",
       "      <td>2013-09-29</td>\n",
       "      <td>2013-09-17</td>\n",
       "      <td>No</td>\n",
       "      <td>18</td>\n",
       "      <td>0</td>\n",
       "      <td>0</td>\n",
       "      <td>0</td>\n",
       "      <td>3</td>\n",
       "      <td>1</td>\n",
       "      <td>More than 60</td>\n",
       "    </tr>\n",
       "    <tr>\n",
       "      <th>3</th>\n",
       "      <td>9883-SDWFS</td>\n",
       "      <td>State of KS</td>\n",
       "      <td>897</td>\n",
       "      <td>2013-08-07</td>\n",
       "      <td>Paper</td>\n",
       "      <td>1491017498</td>\n",
       "      <td>19.23</td>\n",
       "      <td>2012-09-05</td>\n",
       "      <td>2012-08-06</td>\n",
       "      <td>2012-02-06</td>\n",
       "      <td>No</td>\n",
       "      <td>24</td>\n",
       "      <td>0</td>\n",
       "      <td>0</td>\n",
       "      <td>0</td>\n",
       "      <td>3</td>\n",
       "      <td>23</td>\n",
       "      <td>Less than 60</td>\n",
       "    </tr>\n",
       "    <tr>\n",
       "      <th>4</th>\n",
       "      <td>3676-CQAIF</td>\n",
       "      <td>State of KS</td>\n",
       "      <td>897</td>\n",
       "      <td>2013-07-29</td>\n",
       "      <td>Paper</td>\n",
       "      <td>2137157897</td>\n",
       "      <td>20.55</td>\n",
       "      <td>2013-07-21</td>\n",
       "      <td>2013-08-20</td>\n",
       "      <td>2013-06-08</td>\n",
       "      <td>No</td>\n",
       "      <td>16</td>\n",
       "      <td>0</td>\n",
       "      <td>0</td>\n",
       "      <td>0</td>\n",
       "      <td>3</td>\n",
       "      <td>15</td>\n",
       "      <td>Less than 60</td>\n",
       "    </tr>\n",
       "  </tbody>\n",
       "</table>\n",
       "</div>"
      ],
      "text/plain": [
       "      cust_id        state  area_code  bill_date   bill_type  invoice_id  \\\n",
       "0  3271-HYHDN  Los Angeles        818 2013-04-28       Paper   354407690   \n",
       "1  1604-LIFKX  Los Angeles        818 2013-03-16  Electronic  3693123052   \n",
       "2  6160-HCSFI  State of OK        391 2013-10-01  Electronic  4026967253   \n",
       "3  9883-SDWFS  State of KS        897 2013-08-07       Paper  1491017498   \n",
       "4  3676-CQAIF  State of KS        897 2013-07-29       Paper  2137157897   \n",
       "\n",
       "   invoice_amount invoice_init_date invoice_final_date invoice_settled_date  \\\n",
       "0           45.56        2013-12-04         2013-12-05           2013-04-17   \n",
       "1           47.82        2013-04-25         2013-05-25           2013-03-06   \n",
       "2           69.48        2013-08-30         2013-09-29           2013-09-17   \n",
       "3           19.23        2012-09-05         2012-08-06           2012-02-06   \n",
       "4           20.55        2013-07-21         2013-08-20           2013-06-08   \n",
       "\n",
       "  disputed  days_to_settle  days_late  late  count_late  invoice_quater  \\\n",
       "0       No               5          0     0           0               4   \n",
       "1       No              39          9     1           0               2   \n",
       "2       No              18          0     0           0               3   \n",
       "3       No              24          0     0           0               3   \n",
       "4       No              16          0     0           0               3   \n",
       "\n",
       "   repeat_cust binned_invoice_amount  \n",
       "0            0          Less than 60  \n",
       "1           20          Less than 60  \n",
       "2            1          More than 60  \n",
       "3           23          Less than 60  \n",
       "4           15          Less than 60  "
      ]
     },
     "execution_count": 18,
     "metadata": {
      "tags": []
     },
     "output_type": "execute_result"
    }
   ],
   "source": [
    "print('Data Shape:', data.shape)\n",
    "data.head()"
   ]
  },
  {
   "cell_type": "markdown",
   "metadata": {
    "colab_type": "text",
    "id": "79yAOoC2hvLc"
   },
   "source": [
    "**<h4>Question 1:** What is the **average frequency** of getting **late** with respect to **area code**?</h4>"
   ]
  },
  {
   "cell_type": "code",
   "execution_count": 0,
   "metadata": {
    "colab": {
     "base_uri": "https://localhost:8080/",
     "height": 80
    },
    "colab_type": "code",
    "id": "DpwvgBGUV94N",
    "outputId": "5f2989cd-dbc5-4051-812f-e12f2acb3108"
   },
   "outputs": [
    {
     "data": {
      "text/html": [
       "<div>\n",
       "<style scoped>\n",
       "    .dataframe tbody tr th:only-of-type {\n",
       "        vertical-align: middle;\n",
       "    }\n",
       "\n",
       "    .dataframe tbody tr th {\n",
       "        vertical-align: top;\n",
       "    }\n",
       "\n",
       "    .dataframe thead th {\n",
       "        text-align: right;\n",
       "    }\n",
       "</style>\n",
       "<table border=\"1\" class=\"dataframe\">\n",
       "  <thead>\n",
       "    <tr style=\"text-align: right;\">\n",
       "      <th>area_code</th>\n",
       "      <th>391</th>\n",
       "      <th>406</th>\n",
       "      <th>770</th>\n",
       "      <th>818</th>\n",
       "      <th>897</th>\n",
       "    </tr>\n",
       "  </thead>\n",
       "  <tbody>\n",
       "    <tr>\n",
       "      <th>Average Days Late</th>\n",
       "      <td>1.853896</td>\n",
       "      <td>3.941176</td>\n",
       "      <td>3.642292</td>\n",
       "      <td>4.841558</td>\n",
       "      <td>3.626904</td>\n",
       "    </tr>\n",
       "  </tbody>\n",
       "</table>\n",
       "</div>"
      ],
      "text/plain": [
       "area_code               391       406       770       818       897\n",
       "Average Days Late  1.853896  3.941176  3.642292  4.841558  3.626904"
      ]
     },
     "execution_count": 19,
     "metadata": {
      "tags": []
     },
     "output_type": "execute_result"
    }
   ],
   "source": [
    "average_late = data.groupby(['area_code'], as_index = False)['days_late'].mean()\n",
    "average_late.set_index('area_code', inplace = True)\n",
    "average_late.columns = ['Average Days Late']\n",
    "average_late.transpose()"
   ]
  },
  {
   "cell_type": "code",
   "execution_count": 0,
   "metadata": {
    "colab": {
     "base_uri": "https://localhost:8080/",
     "height": 410
    },
    "colab_type": "code",
    "id": "SuV8n_dsfxzS",
    "outputId": "b0b9035b-fec9-4009-f298-7200540acbf6"
   },
   "outputs": [
    {
     "data": {
      "image/png": "[encoded data removed]",
      "text/plain": [
       "<Figure size 720x432 with 1 Axes>"
      ]
     },
     "metadata": {
      "tags": []
     },
     "output_type": "display_data"
    }
   ],
   "source": [
    "data2 = pd.DataFrame(data.groupby(['area_code'], as_index = False)['days_late'].mean())\n",
    "plt.figure(figsize = [10, 6])\n",
    "sns.barplot(x = 'area_code', y = 'days_late', data = data2, linewidth = 2.5)\n",
    "plt.xlabel('Area Code', size = 14)\n",
    "plt.ylabel('Days Late', size = 14)\n",
    "plt.title('Average Days Late vs Area Code', size = 16)\n",
    "plt.show()"
   ]
  },
  {
   "cell_type": "markdown",
   "metadata": {
    "colab_type": "text",
    "id": "zfZ1thSNimqJ"
   },
   "source": [
    "**Observation:**\n",
    "\n",
    "- It can be seen that **area code 818** is having **maximum late days** while **mimium late days** are for area **391**."
   ]
  },
  {
   "cell_type": "markdown",
   "metadata": {
    "colab_type": "text",
    "id": "VbWLrQ8qjxUB"
   },
   "source": [
    "**<h4>Question 2:** What is the **proportion** of **transactions** with respect to being **late or not**?</h4>"
   ]
  },
  {
   "cell_type": "code",
   "execution_count": 0,
   "metadata": {
    "colab": {
     "base_uri": "https://localhost:8080/",
     "height": 499
    },
    "colab_type": "code",
    "id": "FOFgLpPjhaee",
    "outputId": "40864ef9-60fc-4ee8-f7ca-c404ee00da6c"
   },
   "outputs": [
    {
     "name": "stdout",
     "output_type": "stream",
     "text": [
      "Late Transactions: 877\n",
      "On Time Transactions: 1585\n"
     ]
    },
    {
     "data": {
      "image/png": "[encoded data removed]",
      "text/plain": [
       "<Figure size 983.52x552.96 with 1 Axes>"
      ]
     },
     "metadata": {
      "tags": []
     },
     "output_type": "display_data"
    }
   ],
   "source": [
    "print('Late Transactions:', len(data[data['late'] == 1]))\n",
    "print('On Time Transactions:', len(data[data['late'] == 0]))\n",
    "\n",
    "data['late'].value_counts().plot(kind = 'pie', explode = [0.1, 0], fontsize = 14, autopct = '%3.1f%%', \n",
    "                                 wedgeprops = dict(width=0.15), shadow = True, startangle = 160, \n",
    "                                 figsize = [13.66, 7.68], legend = True)\n",
    "plt.legend(['On Time', 'Late'])\n",
    "plt.ylabel('Category')\n",
    "plt.title('Proportion of late transcations', size = 14)\n",
    "plt.show()"
   ]
  },
  {
   "cell_type": "markdown",
   "metadata": {
    "colab_type": "text",
    "id": "Y-kt71c5lr59"
   },
   "source": [
    "**Observation:**\n",
    "\n",
    "- Around **35.6% of customers are found to be late**."
   ]
  },
  {
   "cell_type": "markdown",
   "metadata": {
    "colab_type": "text",
    "id": "fLGosCo4nO9u"
   },
   "source": [
    "**<h4>Question 3:** What is the **average frequency** of **repeated transactions** with **respect to days late**?</h4>"
   ]
  },
  {
   "cell_type": "code",
   "execution_count": 0,
   "metadata": {
    "colab": {
     "base_uri": "https://localhost:8080/",
     "height": 117
    },
    "colab_type": "code",
    "id": "gDMVTlMwZ8YG",
    "outputId": "777ca8da-dcdb-4662-ae82-fe73e2b927de"
   },
   "outputs": [
    {
     "data": {
      "text/html": [
       "<div>\n",
       "<style scoped>\n",
       "    .dataframe tbody tr th:only-of-type {\n",
       "        vertical-align: middle;\n",
       "    }\n",
       "\n",
       "    .dataframe tbody tr th {\n",
       "        vertical-align: top;\n",
       "    }\n",
       "\n",
       "    .dataframe thead th {\n",
       "        text-align: right;\n",
       "    }\n",
       "</style>\n",
       "<table border=\"1\" class=\"dataframe\">\n",
       "  <thead>\n",
       "    <tr style=\"text-align: right;\">\n",
       "      <th>repeat_cust</th>\n",
       "      <th>0</th>\n",
       "      <th>1</th>\n",
       "      <th>2</th>\n",
       "      <th>3</th>\n",
       "      <th>4</th>\n",
       "      <th>5</th>\n",
       "      <th>6</th>\n",
       "      <th>7</th>\n",
       "      <th>8</th>\n",
       "      <th>9</th>\n",
       "      <th>10</th>\n",
       "      <th>11</th>\n",
       "      <th>12</th>\n",
       "      <th>13</th>\n",
       "      <th>14</th>\n",
       "      <th>15</th>\n",
       "      <th>16</th>\n",
       "      <th>17</th>\n",
       "      <th>18</th>\n",
       "      <th>19</th>\n",
       "      <th>20</th>\n",
       "      <th>22</th>\n",
       "      <th>23</th>\n",
       "      <th>25</th>\n",
       "      <th>26</th>\n",
       "      <th>32</th>\n",
       "    </tr>\n",
       "  </thead>\n",
       "  <tbody>\n",
       "    <tr>\n",
       "      <th>Average Days Late</th>\n",
       "      <td>0.0</td>\n",
       "      <td>0.170507</td>\n",
       "      <td>0.36246</td>\n",
       "      <td>0.531915</td>\n",
       "      <td>1.333333</td>\n",
       "      <td>1.053922</td>\n",
       "      <td>1.578313</td>\n",
       "      <td>2.290323</td>\n",
       "      <td>2.66</td>\n",
       "      <td>2.407407</td>\n",
       "      <td>3.833333</td>\n",
       "      <td>3.0</td>\n",
       "      <td>4.851852</td>\n",
       "      <td>4.104762</td>\n",
       "      <td>7.307692</td>\n",
       "      <td>6.2</td>\n",
       "      <td>8.113636</td>\n",
       "      <td>5.903226</td>\n",
       "      <td>3.322581</td>\n",
       "      <td>9.652778</td>\n",
       "      <td>11.236364</td>\n",
       "      <td>5.085714</td>\n",
       "      <td>8.614458</td>\n",
       "      <td>9.948276</td>\n",
       "      <td>10.741379</td>\n",
       "      <td>14.441176</td>\n",
       "    </tr>\n",
       "  </tbody>\n",
       "</table>\n",
       "</div>"
      ],
      "text/plain": [
       "repeat_cust         0         1        2         3         4         5   \\\n",
       "Average Days Late  0.0  0.170507  0.36246  0.531915  1.333333  1.053922   \n",
       "\n",
       "repeat_cust              6         7     8         9         10   11  \\\n",
       "Average Days Late  1.578313  2.290323  2.66  2.407407  3.833333  3.0   \n",
       "\n",
       "repeat_cust              12        13        14   15        16        17  \\\n",
       "Average Days Late  4.851852  4.104762  7.307692  6.2  8.113636  5.903226   \n",
       "\n",
       "repeat_cust              18        19         20        22        23  \\\n",
       "Average Days Late  3.322581  9.652778  11.236364  5.085714  8.614458   \n",
       "\n",
       "repeat_cust              25         26         32  \n",
       "Average Days Late  9.948276  10.741379  14.441176  "
      ]
     },
     "execution_count": 22,
     "metadata": {
      "tags": []
     },
     "output_type": "execute_result"
    }
   ],
   "source": [
    "repeat_frame = data.groupby(['repeat_cust'], as_index = False)['days_late'].mean()\n",
    "repeat_frame.set_index('repeat_cust', inplace = True)\n",
    "repeat_frame.columns = ['Average Days Late']\n",
    "repeat_frame.transpose()"
   ]
  },
  {
   "cell_type": "code",
   "execution_count": 0,
   "metadata": {
    "colab": {
     "base_uri": "https://localhost:8080/",
     "height": 356
    },
    "colab_type": "code",
    "id": "S-o8SieSqYGh",
    "outputId": "782de57e-1d20-4999-8f33-bf410c0caebf"
   },
   "outputs": [
    {
     "data": {
      "image/png": "[encoded data removed]",
      "text/plain": [
       "<Figure size 864x360 with 1 Axes>"
      ]
     },
     "metadata": {
      "tags": []
     },
     "output_type": "display_data"
    }
   ],
   "source": [
    "data_temp = pd.DataFrame(data.groupby(['repeat_cust'], as_index = False)['days_late'].mean())\n",
    "plt.figure(figsize = [12, 5])\n",
    "sns.barplot(x = 'repeat_cust', y = 'days_late', data = data_temp, palette = sns.color_palette(\"Blues\", n_colors= 32))\n",
    "plt.xlabel('Repeated Customer', size = 14)\n",
    "plt.ylabel('Days Late', size = 14)\n",
    "plt.title('Frequency Distribution of Repeated Customers (Average)', size = 16)\n",
    "plt.show()"
   ]
  },
  {
   "cell_type": "markdown",
   "metadata": {
    "colab_type": "text",
    "id": "-dRUvf2OYTvt"
   },
   "source": [
    "**Observation:**\n",
    "\n",
    "- We can see a **positive trend** **with the increasing number of customers** i.e. with the **increase in repeated customers the payments are late**."
   ]
  },
  {
   "cell_type": "markdown",
   "metadata": {
    "colab_type": "text",
    "id": "_3aXSK_Ww_Ja"
   },
   "source": [
    "**<h4>Question 4:** What is the **average frequency** of days **late** with respect to **invoice amount**?</h4>"
   ]
  },
  {
   "cell_type": "code",
   "execution_count": 0,
   "metadata": {
    "colab": {
     "base_uri": "https://localhost:8080/",
     "height": 80
    },
    "colab_type": "code",
    "id": "2KBWkawLdYlM",
    "outputId": "e92725c0-843b-4299-e3e5-ab1133ecb429"
   },
   "outputs": [
    {
     "data": {
      "text/html": [
       "<div>\n",
       "<style scoped>\n",
       "    .dataframe tbody tr th:only-of-type {\n",
       "        vertical-align: middle;\n",
       "    }\n",
       "\n",
       "    .dataframe tbody tr th {\n",
       "        vertical-align: top;\n",
       "    }\n",
       "\n",
       "    .dataframe thead th {\n",
       "        text-align: right;\n",
       "    }\n",
       "</style>\n",
       "<table border=\"1\" class=\"dataframe\">\n",
       "  <thead>\n",
       "    <tr style=\"text-align: right;\">\n",
       "      <th>binned_invoice_amount</th>\n",
       "      <th>Less than 60</th>\n",
       "      <th>More than 60</th>\n",
       "    </tr>\n",
       "  </thead>\n",
       "  <tbody>\n",
       "    <tr>\n",
       "      <th>Average Days Late</th>\n",
       "      <td>3.18568</td>\n",
       "      <td>3.979115</td>\n",
       "    </tr>\n",
       "  </tbody>\n",
       "</table>\n",
       "</div>"
      ],
      "text/plain": [
       "binned_invoice_amount  Less than 60  More than 60\n",
       "Average Days Late           3.18568      3.979115"
      ]
     },
     "execution_count": 24,
     "metadata": {
      "tags": []
     },
     "output_type": "execute_result"
    }
   ],
   "source": [
    "bin_inv_amt_frame = data.groupby(['binned_invoice_amount'], as_index = False)['days_late'].mean()\n",
    "bin_inv_amt_frame.set_index('binned_invoice_amount', inplace = True)\n",
    "bin_inv_amt_frame.columns = ['Average Days Late']\n",
    "bin_inv_amt_frame.transpose()"
   ]
  },
  {
   "cell_type": "code",
   "execution_count": 0,
   "metadata": {
    "colab": {
     "base_uri": "https://localhost:8080/",
     "height": 410
    },
    "colab_type": "code",
    "id": "mHQc7hiawNX9",
    "outputId": "8ad85e48-0c16-4369-b8a7-b7a2419a0872"
   },
   "outputs": [
    {
     "data": {
      "image/png": "[encoded data removed]",
      "text/plain": [
       "<Figure size 720x432 with 1 Axes>"
      ]
     },
     "metadata": {
      "tags": []
     },
     "output_type": "display_data"
    }
   ],
   "source": [
    "temp_data = pd.DataFrame(data.groupby(['binned_invoice_amount'], as_index = False)['days_late'].mean())\n",
    "plt.figure(figsize = [10, 6])\n",
    "sns.barplot(x = 'binned_invoice_amount', y = 'days_late', data = temp_data)\n",
    "plt.xlabel('Binned Invoice Amount', size = 14)\n",
    "plt.ylabel('Days Late', size = 14)\n",
    "plt.title('Average Days Late vs Invoice Amount', size = 16)\n",
    "plt.show()"
   ]
  },
  {
   "cell_type": "markdown",
   "metadata": {
    "colab_type": "text",
    "id": "K_C5W9ZCMCVM"
   },
   "source": [
    "**Observation:**\n",
    "\n",
    "- On average almost **~4 days customers are late for more than 60** invoice amount while **for less than 60** invoice amount **customers are around 3 days late**."
   ]
  },
  {
   "cell_type": "markdown",
   "metadata": {
    "colab_type": "text",
    "id": "_ToAMsTR0AIe"
   },
   "source": [
    "**<h4>Question 5:** What is the **rate** of being **late** with respect to **bill_date**?</h4>"
   ]
  },
  {
   "cell_type": "code",
   "execution_count": 0,
   "metadata": {
    "colab": {
     "base_uri": "https://localhost:8080/",
     "height": 148
    },
    "colab_type": "code",
    "id": "8UVEOjncyxex",
    "outputId": "a172181a-edba-4f71-a2f4-727a705cc08f"
   },
   "outputs": [
    {
     "data": {
      "text/html": [
       "<div>\n",
       "<style scoped>\n",
       "    .dataframe tbody tr th:only-of-type {\n",
       "        vertical-align: middle;\n",
       "    }\n",
       "\n",
       "    .dataframe tbody tr th {\n",
       "        vertical-align: top;\n",
       "    }\n",
       "\n",
       "    .dataframe thead tr th {\n",
       "        text-align: left;\n",
       "    }\n",
       "</style>\n",
       "<table border=\"1\" class=\"dataframe\">\n",
       "  <thead>\n",
       "    <tr>\n",
       "      <th>bill_date</th>\n",
       "      <th>2012-01-26</th>\n",
       "      <th colspan=\"2\" halign=\"left\">2012-02-08</th>\n",
       "      <th colspan=\"2\" halign=\"left\">2012-02-21</th>\n",
       "      <th colspan=\"2\" halign=\"left\">2012-03-03</th>\n",
       "      <th colspan=\"2\" halign=\"left\">2012-03-17</th>\n",
       "      <th colspan=\"2\" halign=\"left\">2012-03-18</th>\n",
       "      <th colspan=\"2\" halign=\"left\">2012-04-04</th>\n",
       "      <th>2012-04-06</th>\n",
       "      <th colspan=\"2\" halign=\"left\">2012-04-07</th>\n",
       "      <th colspan=\"2\" halign=\"left\">2012-04-22</th>\n",
       "      <th colspan=\"2\" halign=\"left\">2012-04-23</th>\n",
       "      <th colspan=\"2\" halign=\"left\">2012-04-30</th>\n",
       "      <th colspan=\"2\" halign=\"left\">2012-05-08</th>\n",
       "      <th colspan=\"2\" halign=\"left\">2012-05-12</th>\n",
       "      <th>2012-05-19</th>\n",
       "      <th colspan=\"2\" halign=\"left\">2012-05-22</th>\n",
       "      <th colspan=\"2\" halign=\"left\">2012-05-31</th>\n",
       "      <th colspan=\"2\" halign=\"left\">2012-06-02</th>\n",
       "      <th colspan=\"2\" halign=\"left\">2012-06-04</th>\n",
       "      <th colspan=\"2\" halign=\"left\">2012-06-17</th>\n",
       "      <th colspan=\"2\" halign=\"left\">2012-06-20</th>\n",
       "      <th colspan=\"2\" halign=\"left\">2012-06-24</th>\n",
       "      <th colspan=\"2\" halign=\"left\">2012-07-13</th>\n",
       "      <th colspan=\"2\" halign=\"left\">2012-07-31</th>\n",
       "      <th colspan=\"2\" halign=\"left\">2012-08-24</th>\n",
       "      <th>2012-08-29</th>\n",
       "      <th colspan=\"2\" halign=\"left\">2012-09-01</th>\n",
       "      <th colspan=\"2\" halign=\"left\">2012-09-07</th>\n",
       "      <th colspan=\"2\" halign=\"left\">2012-09-14</th>\n",
       "      <th colspan=\"2\" halign=\"left\">2012-09-15</th>\n",
       "      <th colspan=\"2\" halign=\"left\">2012-09-24</th>\n",
       "      <th colspan=\"2\" halign=\"left\">2012-09-28</th>\n",
       "      <th colspan=\"2\" halign=\"left\">2012-09-29</th>\n",
       "      <th colspan=\"2\" halign=\"left\">2012-10-08</th>\n",
       "      <th colspan=\"2\" halign=\"left\">2012-10-11</th>\n",
       "      <th>2012-10-12</th>\n",
       "      <th>2012-10-19</th>\n",
       "      <th>2012-10-26</th>\n",
       "      <th colspan=\"2\" halign=\"left\">2012-11-09</th>\n",
       "      <th colspan=\"2\" halign=\"left\">2012-11-11</th>\n",
       "      <th>2012-11-21</th>\n",
       "      <th colspan=\"2\" halign=\"left\">2012-11-26</th>\n",
       "      <th colspan=\"2\" halign=\"left\">2012-11-27</th>\n",
       "      <th colspan=\"2\" halign=\"left\">2012-12-11</th>\n",
       "      <th colspan=\"2\" halign=\"left\">2012-12-15</th>\n",
       "      <th colspan=\"2\" halign=\"left\">2012-12-31</th>\n",
       "      <th>2013-01-09</th>\n",
       "      <th colspan=\"2\" halign=\"left\">2013-01-22</th>\n",
       "      <th colspan=\"2\" halign=\"left\">2013-02-04</th>\n",
       "      <th>2013-02-13</th>\n",
       "      <th colspan=\"2\" halign=\"left\">2013-03-01</th>\n",
       "      <th colspan=\"2\" halign=\"left\">2013-03-04</th>\n",
       "      <th colspan=\"2\" halign=\"left\">2013-03-06</th>\n",
       "      <th colspan=\"2\" halign=\"left\">2013-03-08</th>\n",
       "      <th>2013-03-16</th>\n",
       "      <th colspan=\"2\" halign=\"left\">2013-03-19</th>\n",
       "      <th colspan=\"2\" halign=\"left\">2013-04-03</th>\n",
       "      <th colspan=\"2\" halign=\"left\">2013-04-04</th>\n",
       "      <th colspan=\"2\" halign=\"left\">2013-04-09</th>\n",
       "      <th>2013-04-28</th>\n",
       "      <th colspan=\"2\" halign=\"left\">2013-04-30</th>\n",
       "      <th colspan=\"2\" halign=\"left\">2013-05-07</th>\n",
       "      <th colspan=\"2\" halign=\"left\">2013-06-04</th>\n",
       "      <th colspan=\"2\" halign=\"left\">2013-06-06</th>\n",
       "      <th colspan=\"2\" halign=\"left\">2013-06-11</th>\n",
       "      <th colspan=\"2\" halign=\"left\">2013-06-20</th>\n",
       "      <th colspan=\"2\" halign=\"left\">2013-06-27</th>\n",
       "      <th colspan=\"2\" halign=\"left\">2013-07-15</th>\n",
       "      <th colspan=\"2\" halign=\"left\">2013-07-19</th>\n",
       "      <th colspan=\"2\" halign=\"left\">2013-07-29</th>\n",
       "      <th>2013-07-31</th>\n",
       "      <th>2013-08-01</th>\n",
       "      <th colspan=\"2\" halign=\"left\">2013-08-03</th>\n",
       "      <th colspan=\"2\" halign=\"left\">2013-08-05</th>\n",
       "      <th colspan=\"2\" halign=\"left\">2013-08-07</th>\n",
       "      <th colspan=\"2\" halign=\"left\">2013-08-15</th>\n",
       "      <th colspan=\"2\" halign=\"left\">2013-08-28</th>\n",
       "      <th colspan=\"2\" halign=\"left\">2013-08-29</th>\n",
       "      <th colspan=\"2\" halign=\"left\">2013-09-04</th>\n",
       "      <th colspan=\"2\" halign=\"left\">2013-09-08</th>\n",
       "      <th colspan=\"2\" halign=\"left\">2013-09-10</th>\n",
       "      <th colspan=\"2\" halign=\"left\">2013-09-15</th>\n",
       "      <th colspan=\"2\" halign=\"left\">2013-09-30</th>\n",
       "      <th colspan=\"2\" halign=\"left\">2013-10-01</th>\n",
       "      <th>2013-10-08</th>\n",
       "      <th colspan=\"2\" halign=\"left\">2013-10-16</th>\n",
       "      <th colspan=\"2\" halign=\"left\">2013-11-01</th>\n",
       "      <th colspan=\"2\" halign=\"left\">2013-11-05</th>\n",
       "      <th colspan=\"2\" halign=\"left\">2013-11-20</th>\n",
       "      <th colspan=\"2\" halign=\"left\">2013-11-25</th>\n",
       "      <th colspan=\"2\" halign=\"left\">2013-11-27</th>\n",
       "    </tr>\n",
       "    <tr>\n",
       "      <th>late</th>\n",
       "      <th>0</th>\n",
       "      <th>0</th>\n",
       "      <th>1</th>\n",
       "      <th>0</th>\n",
       "      <th>1</th>\n",
       "      <th>0</th>\n",
       "      <th>1</th>\n",
       "      <th>0</th>\n",
       "      <th>1</th>\n",
       "      <th>0</th>\n",
       "      <th>1</th>\n",
       "      <th>0</th>\n",
       "      <th>1</th>\n",
       "      <th>0</th>\n",
       "      <th>0</th>\n",
       "      <th>1</th>\n",
       "      <th>0</th>\n",
       "      <th>1</th>\n",
       "      <th>0</th>\n",
       "      <th>1</th>\n",
       "      <th>0</th>\n",
       "      <th>1</th>\n",
       "      <th>0</th>\n",
       "      <th>1</th>\n",
       "      <th>0</th>\n",
       "      <th>1</th>\n",
       "      <th>0</th>\n",
       "      <th>0</th>\n",
       "      <th>1</th>\n",
       "      <th>0</th>\n",
       "      <th>1</th>\n",
       "      <th>0</th>\n",
       "      <th>1</th>\n",
       "      <th>0</th>\n",
       "      <th>1</th>\n",
       "      <th>0</th>\n",
       "      <th>1</th>\n",
       "      <th>0</th>\n",
       "      <th>1</th>\n",
       "      <th>0</th>\n",
       "      <th>1</th>\n",
       "      <th>0</th>\n",
       "      <th>1</th>\n",
       "      <th>0</th>\n",
       "      <th>1</th>\n",
       "      <th>0</th>\n",
       "      <th>1</th>\n",
       "      <th>0</th>\n",
       "      <th>0</th>\n",
       "      <th>1</th>\n",
       "      <th>0</th>\n",
       "      <th>1</th>\n",
       "      <th>0</th>\n",
       "      <th>1</th>\n",
       "      <th>0</th>\n",
       "      <th>1</th>\n",
       "      <th>0</th>\n",
       "      <th>1</th>\n",
       "      <th>0</th>\n",
       "      <th>1</th>\n",
       "      <th>0</th>\n",
       "      <th>1</th>\n",
       "      <th>0</th>\n",
       "      <th>1</th>\n",
       "      <th>0</th>\n",
       "      <th>1</th>\n",
       "      <th>0</th>\n",
       "      <th>0</th>\n",
       "      <th>0</th>\n",
       "      <th>0</th>\n",
       "      <th>1</th>\n",
       "      <th>0</th>\n",
       "      <th>1</th>\n",
       "      <th>0</th>\n",
       "      <th>0</th>\n",
       "      <th>1</th>\n",
       "      <th>0</th>\n",
       "      <th>1</th>\n",
       "      <th>0</th>\n",
       "      <th>1</th>\n",
       "      <th>0</th>\n",
       "      <th>1</th>\n",
       "      <th>0</th>\n",
       "      <th>1</th>\n",
       "      <th>0</th>\n",
       "      <th>0</th>\n",
       "      <th>1</th>\n",
       "      <th>0</th>\n",
       "      <th>1</th>\n",
       "      <th>0</th>\n",
       "      <th>0</th>\n",
       "      <th>1</th>\n",
       "      <th>0</th>\n",
       "      <th>1</th>\n",
       "      <th>0</th>\n",
       "      <th>1</th>\n",
       "      <th>0</th>\n",
       "      <th>1</th>\n",
       "      <th>1</th>\n",
       "      <th>0</th>\n",
       "      <th>1</th>\n",
       "      <th>0</th>\n",
       "      <th>1</th>\n",
       "      <th>0</th>\n",
       "      <th>1</th>\n",
       "      <th>0</th>\n",
       "      <th>1</th>\n",
       "      <th>0</th>\n",
       "      <th>0</th>\n",
       "      <th>1</th>\n",
       "      <th>0</th>\n",
       "      <th>1</th>\n",
       "      <th>0</th>\n",
       "      <th>1</th>\n",
       "      <th>0</th>\n",
       "      <th>1</th>\n",
       "      <th>0</th>\n",
       "      <th>1</th>\n",
       "      <th>0</th>\n",
       "      <th>1</th>\n",
       "      <th>0</th>\n",
       "      <th>1</th>\n",
       "      <th>0</th>\n",
       "      <th>1</th>\n",
       "      <th>0</th>\n",
       "      <th>1</th>\n",
       "      <th>0</th>\n",
       "      <th>1</th>\n",
       "      <th>0</th>\n",
       "      <th>0</th>\n",
       "      <th>0</th>\n",
       "      <th>1</th>\n",
       "      <th>0</th>\n",
       "      <th>1</th>\n",
       "      <th>0</th>\n",
       "      <th>1</th>\n",
       "      <th>0</th>\n",
       "      <th>1</th>\n",
       "      <th>0</th>\n",
       "      <th>1</th>\n",
       "      <th>0</th>\n",
       "      <th>1</th>\n",
       "      <th>0</th>\n",
       "      <th>1</th>\n",
       "      <th>0</th>\n",
       "      <th>1</th>\n",
       "      <th>0</th>\n",
       "      <th>1</th>\n",
       "      <th>0</th>\n",
       "      <th>1</th>\n",
       "      <th>0</th>\n",
       "      <th>1</th>\n",
       "      <th>0</th>\n",
       "      <th>1</th>\n",
       "      <th>0</th>\n",
       "      <th>0</th>\n",
       "      <th>1</th>\n",
       "      <th>0</th>\n",
       "      <th>1</th>\n",
       "      <th>0</th>\n",
       "      <th>1</th>\n",
       "      <th>0</th>\n",
       "      <th>1</th>\n",
       "      <th>0</th>\n",
       "      <th>1</th>\n",
       "      <th>0</th>\n",
       "      <th>1</th>\n",
       "    </tr>\n",
       "  </thead>\n",
       "  <tbody>\n",
       "    <tr>\n",
       "      <th>Count</th>\n",
       "      <td>24</td>\n",
       "      <td>5</td>\n",
       "      <td>25</td>\n",
       "      <td>24</td>\n",
       "      <td>6</td>\n",
       "      <td>42</td>\n",
       "      <td>16</td>\n",
       "      <td>13</td>\n",
       "      <td>13</td>\n",
       "      <td>5</td>\n",
       "      <td>17</td>\n",
       "      <td>19</td>\n",
       "      <td>5</td>\n",
       "      <td>17</td>\n",
       "      <td>18</td>\n",
       "      <td>3</td>\n",
       "      <td>27</td>\n",
       "      <td>1</td>\n",
       "      <td>17</td>\n",
       "      <td>4</td>\n",
       "      <td>32</td>\n",
       "      <td>25</td>\n",
       "      <td>21</td>\n",
       "      <td>7</td>\n",
       "      <td>5</td>\n",
       "      <td>26</td>\n",
       "      <td>21</td>\n",
       "      <td>5</td>\n",
       "      <td>16</td>\n",
       "      <td>2</td>\n",
       "      <td>20</td>\n",
       "      <td>3</td>\n",
       "      <td>20</td>\n",
       "      <td>2</td>\n",
       "      <td>17</td>\n",
       "      <td>21</td>\n",
       "      <td>2</td>\n",
       "      <td>23</td>\n",
       "      <td>5</td>\n",
       "      <td>2</td>\n",
       "      <td>32</td>\n",
       "      <td>28</td>\n",
       "      <td>2</td>\n",
       "      <td>21</td>\n",
       "      <td>2</td>\n",
       "      <td>22</td>\n",
       "      <td>11</td>\n",
       "      <td>20</td>\n",
       "      <td>26</td>\n",
       "      <td>2</td>\n",
       "      <td>15</td>\n",
       "      <td>12</td>\n",
       "      <td>7</td>\n",
       "      <td>16</td>\n",
       "      <td>5</td>\n",
       "      <td>23</td>\n",
       "      <td>1</td>\n",
       "      <td>14</td>\n",
       "      <td>13</td>\n",
       "      <td>18</td>\n",
       "      <td>16</td>\n",
       "      <td>5</td>\n",
       "      <td>8</td>\n",
       "      <td>15</td>\n",
       "      <td>14</td>\n",
       "      <td>7</td>\n",
       "      <td>22</td>\n",
       "      <td>26</td>\n",
       "      <td>21</td>\n",
       "      <td>55</td>\n",
       "      <td>3</td>\n",
       "      <td>26</td>\n",
       "      <td>2</td>\n",
       "      <td>19</td>\n",
       "      <td>37</td>\n",
       "      <td>9</td>\n",
       "      <td>21</td>\n",
       "      <td>8</td>\n",
       "      <td>20</td>\n",
       "      <td>1</td>\n",
       "      <td>4</td>\n",
       "      <td>17</td>\n",
       "      <td>37</td>\n",
       "      <td>13</td>\n",
       "      <td>18</td>\n",
       "      <td>13</td>\n",
       "      <td>22</td>\n",
       "      <td>14</td>\n",
       "      <td>5</td>\n",
       "      <td>32</td>\n",
       "      <td>18</td>\n",
       "      <td>2</td>\n",
       "      <td>27</td>\n",
       "      <td>1</td>\n",
       "      <td>23</td>\n",
       "      <td>3</td>\n",
       "      <td>15</td>\n",
       "      <td>7</td>\n",
       "      <td>20</td>\n",
       "      <td>26</td>\n",
       "      <td>15</td>\n",
       "      <td>12</td>\n",
       "      <td>14</td>\n",
       "      <td>22</td>\n",
       "      <td>13</td>\n",
       "      <td>28</td>\n",
       "      <td>2</td>\n",
       "      <td>16</td>\n",
       "      <td>31</td>\n",
       "      <td>5</td>\n",
       "      <td>4</td>\n",
       "      <td>19</td>\n",
       "      <td>26</td>\n",
       "      <td>1</td>\n",
       "      <td>23</td>\n",
       "      <td>6</td>\n",
       "      <td>21</td>\n",
       "      <td>2</td>\n",
       "      <td>14</td>\n",
       "      <td>11</td>\n",
       "      <td>3</td>\n",
       "      <td>25</td>\n",
       "      <td>13</td>\n",
       "      <td>8</td>\n",
       "      <td>14</td>\n",
       "      <td>9</td>\n",
       "      <td>2</td>\n",
       "      <td>15</td>\n",
       "      <td>16</td>\n",
       "      <td>20</td>\n",
       "      <td>7</td>\n",
       "      <td>19</td>\n",
       "      <td>12</td>\n",
       "      <td>14</td>\n",
       "      <td>8</td>\n",
       "      <td>23</td>\n",
       "      <td>23</td>\n",
       "      <td>5</td>\n",
       "      <td>6</td>\n",
       "      <td>13</td>\n",
       "      <td>1</td>\n",
       "      <td>26</td>\n",
       "      <td>26</td>\n",
       "      <td>16</td>\n",
       "      <td>8</td>\n",
       "      <td>15</td>\n",
       "      <td>10</td>\n",
       "      <td>14</td>\n",
       "      <td>15</td>\n",
       "      <td>7</td>\n",
       "      <td>4</td>\n",
       "      <td>20</td>\n",
       "      <td>29</td>\n",
       "      <td>1</td>\n",
       "      <td>20</td>\n",
       "      <td>4</td>\n",
       "      <td>19</td>\n",
       "      <td>53</td>\n",
       "      <td>2</td>\n",
       "      <td>16</td>\n",
       "      <td>5</td>\n",
       "      <td>20</td>\n",
       "      <td>2</td>\n",
       "      <td>17</td>\n",
       "      <td>2</td>\n",
       "      <td>23</td>\n",
       "      <td>29</td>\n",
       "    </tr>\n",
       "  </tbody>\n",
       "</table>\n",
       "</div>"
      ],
      "text/plain": [
       "bill_date 2012-01-26 2012-02-08     2012-02-21    2012-03-03     2012-03-17  \\\n",
       "late               0          0   1          0  1          0   1          0   \n",
       "Count             24          5  25         24  6         42  16         13   \n",
       "\n",
       "bill_date     2012-03-18     2012-04-04    2012-04-06 2012-04-07     \\\n",
       "late        1          0   1          0  1          0          0  1   \n",
       "Count      13          5  17         19  5         17         18  3   \n",
       "\n",
       "bill_date 2012-04-22    2012-04-23    2012-04-30     2012-05-08    2012-05-12  \\\n",
       "late               0  1          0  1          0   1          0  1          0   \n",
       "Count             27  1         17  4         32  25         21  7          5   \n",
       "\n",
       "bill_date     2012-05-19 2012-05-22     2012-05-31     2012-06-02      \\\n",
       "late        1          0          0   1          0   1          0   1   \n",
       "Count      26         21          5  16          2  20          3  20   \n",
       "\n",
       "bill_date 2012-06-04     2012-06-17    2012-06-20    2012-06-24      \\\n",
       "late               0   1          0  1          0  1          0   1   \n",
       "Count              2  17         21  2         23  5          2  32   \n",
       "\n",
       "bill_date 2012-07-13    2012-07-31    2012-08-24     2012-08-29 2012-09-01     \\\n",
       "late               0  1          0  1          0   1          0          0  1   \n",
       "Count             28  2         21  2         22  11         20         26  2   \n",
       "\n",
       "bill_date 2012-09-07     2012-09-14     2012-09-15     2012-09-24      \\\n",
       "late               0   1          0   1          0   1          0   1   \n",
       "Count             15  12          7  16          5  23          1  14   \n",
       "\n",
       "bill_date 2012-09-28     2012-09-29    2012-10-08     2012-10-11     \\\n",
       "late               0   1          0  1          0   1          0  1   \n",
       "Count             13  18         16  5          8  15         14  7   \n",
       "\n",
       "bill_date 2012-10-12 2012-10-19 2012-10-26 2012-11-09    2012-11-11     \\\n",
       "late               0          0          0          0  1          0  1   \n",
       "Count             22         26         21         55  3         26  2   \n",
       "\n",
       "bill_date 2012-11-21 2012-11-26    2012-11-27    2012-12-11    2012-12-15      \\\n",
       "late               0          0  1          0  1          0  1          0   1   \n",
       "Count             19         37  9         21  8         20  1          4  17   \n",
       "\n",
       "bill_date 2012-12-31     2013-01-09 2013-01-22     2013-02-04    2013-02-13  \\\n",
       "late               0   1          0          0   1          0  1          0   \n",
       "Count             37  13         18         13  22         14  5         32   \n",
       "\n",
       "bill_date 2013-03-01    2013-03-04    2013-03-06    2013-03-08    2013-03-16  \\\n",
       "late               0  1          0  1          0  1          0  1          1   \n",
       "Count             18  2         27  1         23  3         15  7         20   \n",
       "\n",
       "bill_date 2013-03-19     2013-04-03     2013-04-04     2013-04-09     \\\n",
       "late               0   1          0   1          0   1          0  1   \n",
       "Count             26  15         12  14         22  13         28  2   \n",
       "\n",
       "bill_date 2013-04-28 2013-04-30    2013-05-07     2013-06-04    2013-06-06     \\\n",
       "late               0          0  1          0   1          0  1          0  1   \n",
       "Count             16         31  5          4  19         26  1         23  6   \n",
       "\n",
       "bill_date 2013-06-11    2013-06-20     2013-06-27     2013-07-15     \\\n",
       "late               0  1          0   1          0   1          0  1   \n",
       "Count             21  2         14  11          3  25         13  8   \n",
       "\n",
       "bill_date 2013-07-19    2013-07-29     2013-07-31 2013-08-01 2013-08-03      \\\n",
       "late               0  1          0   1          0          0          0   1   \n",
       "Count             14  9          2  15         16         20          7  19   \n",
       "\n",
       "bill_date 2013-08-05     2013-08-07     2013-08-15    2013-08-28      \\\n",
       "late               0   1          0   1          0  1          0   1   \n",
       "Count             12  14          8  23         23  5          6  13   \n",
       "\n",
       "bill_date 2013-08-29     2013-09-04     2013-09-08     2013-09-10      \\\n",
       "late               0   1          0   1          0   1          0   1   \n",
       "Count              1  26         26  16          8  15         10  14   \n",
       "\n",
       "bill_date 2013-09-15    2013-09-30     2013-10-01    2013-10-08 2013-10-16  \\\n",
       "late               0  1          0   1          0  1          0          0   \n",
       "Count             15  7          4  20         29  1         20          4   \n",
       "\n",
       "bill_date     2013-11-01    2013-11-05    2013-11-20    2013-11-25     \\\n",
       "late        1          0  1          0  1          0  1          0  1   \n",
       "Count      19         53  2         16  5         20  2         17  2   \n",
       "\n",
       "bill_date 2013-11-27      \n",
       "late               0   1  \n",
       "Count             23  29  "
      ]
     },
     "execution_count": 26,
     "metadata": {
      "tags": []
     },
     "output_type": "execute_result"
    }
   ],
   "source": [
    "bill_frame = pd.DataFrame(data.groupby(by = ['bill_date', 'late']).size(), columns = ['Count'])\n",
    "bill_frame.transpose()"
   ]
  },
  {
   "cell_type": "code",
   "execution_count": 0,
   "metadata": {
    "colab": {
     "base_uri": "https://localhost:8080/",
     "height": 397
    },
    "colab_type": "code",
    "id": "0FpEWGsY0Ymi",
    "outputId": "c52ae8d7-a715-4088-f9f5-745227d474f6"
   },
   "outputs": [
    {
     "data": {
      "image/png": "[encoded data removed]",
      "text/plain": [
       "<Figure size 720x432 with 1 Axes>"
      ]
     },
     "metadata": {
      "tags": []
     },
     "output_type": "display_data"
    }
   ],
   "source": [
    "figure = plt.figure(figsize = [10, 6])\n",
    "data[data['late'] == 1]['bill_date'].value_counts().plot(kind = 'line')\n",
    "plt.xlabel('Bill Date', size = 14)\n",
    "plt.ylabel('Frequency', size = 14)\n",
    "plt.title('Days Late rate in year 2012-2013', size = 16)\n",
    "plt.show()"
   ]
  },
  {
   "cell_type": "markdown",
   "metadata": {
    "colab_type": "text",
    "id": "dmdEw90HMvYg"
   },
   "source": [
    "**Observation:**\n",
    "- We **could not find a pattern**, so we can consider that **billing has happened in a random fashion**."
   ]
  },
  {
   "cell_type": "markdown",
   "metadata": {
    "colab_type": "text",
    "id": "5MJ90cEN5Bg1"
   },
   "source": [
    "**<h4>Question 6:** What is the **frequency** of **Area code** with resepect to **late**?</h4>"
   ]
  },
  {
   "cell_type": "code",
   "execution_count": 0,
   "metadata": {
    "colab": {
     "base_uri": "https://localhost:8080/",
     "height": 111
    },
    "colab_type": "code",
    "id": "kTdwUdX-6A_-",
    "outputId": "68cfb1e0-72df-4b99-8cf5-34a4e5e33d22"
   },
   "outputs": [
    {
     "data": {
      "text/html": [
       "<div>\n",
       "<style scoped>\n",
       "    .dataframe tbody tr th:only-of-type {\n",
       "        vertical-align: middle;\n",
       "    }\n",
       "\n",
       "    .dataframe tbody tr th {\n",
       "        vertical-align: top;\n",
       "    }\n",
       "\n",
       "    .dataframe thead tr th {\n",
       "        text-align: left;\n",
       "    }\n",
       "</style>\n",
       "<table border=\"1\" class=\"dataframe\">\n",
       "  <thead>\n",
       "    <tr>\n",
       "      <th>area_code</th>\n",
       "      <th colspan=\"2\" halign=\"left\">391</th>\n",
       "      <th colspan=\"2\" halign=\"left\">406</th>\n",
       "      <th colspan=\"2\" halign=\"left\">770</th>\n",
       "      <th colspan=\"2\" halign=\"left\">818</th>\n",
       "      <th colspan=\"2\" halign=\"left\">897</th>\n",
       "    </tr>\n",
       "    <tr>\n",
       "      <th>late</th>\n",
       "      <th>0</th>\n",
       "      <th>1</th>\n",
       "      <th>0</th>\n",
       "      <th>1</th>\n",
       "      <th>0</th>\n",
       "      <th>1</th>\n",
       "      <th>0</th>\n",
       "      <th>1</th>\n",
       "      <th>0</th>\n",
       "      <th>1</th>\n",
       "    </tr>\n",
       "  </thead>\n",
       "  <tbody>\n",
       "    <tr>\n",
       "      <th>Frequency</th>\n",
       "      <td>459</td>\n",
       "      <td>157</td>\n",
       "      <td>328</td>\n",
       "      <td>233</td>\n",
       "      <td>310</td>\n",
       "      <td>196</td>\n",
       "      <td>225</td>\n",
       "      <td>160</td>\n",
       "      <td>263</td>\n",
       "      <td>131</td>\n",
       "    </tr>\n",
       "  </tbody>\n",
       "</table>\n",
       "</div>"
      ],
      "text/plain": [
       "area_code  391       406       770       818       897     \n",
       "late         0    1    0    1    0    1    0    1    0    1\n",
       "Frequency  459  157  328  233  310  196  225  160  263  131"
      ]
     },
     "execution_count": 28,
     "metadata": {
      "tags": []
     },
     "output_type": "execute_result"
    }
   ],
   "source": [
    "area_frame = pd.DataFrame(data.groupby(by = ['area_code', 'late']).size(), columns = ['Frequency'])\n",
    "area_frame.transpose()"
   ]
  },
  {
   "cell_type": "code",
   "execution_count": 0,
   "metadata": {
    "colab": {
     "base_uri": "https://localhost:8080/",
     "height": 410
    },
    "colab_type": "code",
    "id": "JN76GtfI3pHx",
    "outputId": "fa3c6459-05a4-4202-b06c-47e36b758929"
   },
   "outputs": [
    {
     "data": {
      "image/png": "[encoded data removed]",
      "text/plain": [
       "<Figure size 864x432 with 1 Axes>"
      ]
     },
     "metadata": {
      "tags": []
     },
     "output_type": "display_data"
    }
   ],
   "source": [
    "figure = plt.figure(figsize = [12, 6])\n",
    "ax = sns.countplot(y = 'state',  data = data, hue = 'late', palette = ['darkcyan', 'crimson'])\n",
    "total = data.shape[0]\n",
    "for p in ax.patches:\n",
    "        percentage = '{:.2f}%'.format(100 * p.get_width()/total)\n",
    "        x = p.get_x() + p.get_width() + 0.02\n",
    "        y = p.get_y() + p.get_height() / 2\n",
    "        ax.annotate(percentage, (x, y))\n",
    "plt.xlabel('Frequency', size = 14)\n",
    "plt.ylabel('State', size = 14)\n",
    "plt.title('Frequency Distribution of Days Late vs State', y = 1, size = 16)\n",
    "ax.legend(labels = ['On Time', 'Late'], loc = 'lower right')\n",
    "plt.show()"
   ]
  },
  {
   "cell_type": "markdown",
   "metadata": {
    "colab_type": "text",
    "id": "RHrv-OGbfPk5"
   },
   "source": [
    "**Observation:**\n",
    "\n",
    "- **Around 9% of the customer were late from Montana state** more than any other state.\n",
    "- On the other hand **~18% of customer wer not late from the state of OK**."
   ]
  },
  {
   "cell_type": "markdown",
   "metadata": {
    "colab_type": "text",
    "id": "tV9MTZCB8wRW"
   },
   "source": [
    "**<h4>Question 7:** What is the **frequency** of **bill type** with resepect to **late**?</h4>"
   ]
  },
  {
   "cell_type": "code",
   "execution_count": 0,
   "metadata": {
    "colab": {
     "base_uri": "https://localhost:8080/",
     "height": 68
    },
    "colab_type": "code",
    "id": "naMc5nyFgpf9",
    "outputId": "863e6d7b-163e-4e88-83bb-a99fafdc989c"
   },
   "outputs": [
    {
     "data": {
      "text/plain": [
       "Paper         1263\n",
       "Electronic    1199\n",
       "Name: bill_type, dtype: int64"
      ]
     },
     "execution_count": 123,
     "metadata": {
      "tags": []
     },
     "output_type": "execute_result"
    }
   ],
   "source": [
    "data['bill_type'].value_counts()"
   ]
  },
  {
   "cell_type": "code",
   "execution_count": 0,
   "metadata": {
    "colab": {
     "base_uri": "https://localhost:8080/",
     "height": 410
    },
    "colab_type": "code",
    "id": "3mI0rWon8jaa",
    "outputId": "f0004275-c277-4ade-b045-9c3c52227c45"
   },
   "outputs": [
    {
     "data": {
      "image/png": "[encoded data removed]",
      "text/plain": [
       "<Figure size 864x432 with 1 Axes>"
      ]
     },
     "metadata": {
      "tags": []
     },
     "output_type": "display_data"
    }
   ],
   "source": [
    "figure = plt.figure(figsize = [12, 6])\n",
    "ax = sns.countplot(y= 'bill_type',  data = data, hue = 'late', palette = ['#936A92', '#AEABE4'])\n",
    "total = data.shape[0]\n",
    "for p in ax.patches:\n",
    "        percentage = '{:.2f}%'.format(100 * p.get_width()/total)\n",
    "        x = p.get_x() + p.get_width() + 0.02\n",
    "        y = p.get_y() + p.get_height() / 2\n",
    "        ax.annotate(percentage, (x, y))\n",
    "plt.xlabel('Frequency', size = 14)\n",
    "plt.ylabel('Bill Type', size = 14)\n",
    "ax.legend(labels = ['On Time', 'Late'], loc = 'lower right')\n",
    "plt.title('Frequency Distribution of Days Late vs Bill Type', y=1, size = 16)\n",
    "plt.show()"
   ]
  },
  {
   "cell_type": "markdown",
   "metadata": {
    "colab_type": "text",
    "id": "IjI4i5UfgZvb"
   },
   "source": [
    "**Observation:**\n",
    "\n",
    "- Around 3**5% of bills were generated digitally** out of 1199 electronic bills, **which were paid on time** while there are **13% bills which were remained unpaid**.\n",
    "- Around **29% of bills were made of paper** out of 1263 **which were paid on time** while there are a**round 22% of bills which were unpaid**."
   ]
  },
  {
   "cell_type": "markdown",
   "metadata": {
    "colab_type": "text",
    "id": "MuWlza8K9M6R"
   },
   "source": [
    "**<h4>Question 8:** What is the **frequency** of **Disputed** with resepect to **late**?</h4>"
   ]
  },
  {
   "cell_type": "code",
   "execution_count": 0,
   "metadata": {
    "colab": {
     "base_uri": "https://localhost:8080/",
     "height": 410
    },
    "colab_type": "code",
    "id": "DFwwVU1n8-h1",
    "outputId": "586a04c9-e60b-4870-9fd2-d61cf923d8ff"
   },
   "outputs": [
    {
     "data": {
      "image/png": "[encoded data removed]",
      "text/plain": [
       "<Figure size 864x432 with 1 Axes>"
      ]
     },
     "metadata": {
      "tags": []
     },
     "output_type": "display_data"
    }
   ],
   "source": [
    "figure = plt.figure(figsize = [12, 6])\n",
    "ax = sns.countplot(x = 'disputed',  data = data, hue = 'late', palette = ['#CAF270', '#2E4B5E'])\n",
    "total = data.shape[0]\n",
    "for p in ax.patches:\n",
    "        percentage = '{:.2f}%'.format(100 * p.get_height()/total)\n",
    "        x = p.get_x() + 0.15\n",
    "        y = p.get_y() + p.get_height() + 3\n",
    "        ax.annotate(percentage, (x, y))\n",
    "plt.xlabel('Disputed', size = 14)\n",
    "plt.ylabel('Frequency', size = 14)\n",
    "plt.title('Frequency Distribution of Days Late vs Disputed', y = 1, size = 16)\n",
    "ax.legend(labels = ['On Time', 'Late'], loc = 'upper right')\n",
    "plt.show()"
   ]
  },
  {
   "cell_type": "markdown",
   "metadata": {
    "colab_type": "text",
    "id": "Dn4GQKmJj6B7"
   },
   "source": [
    "**Observation:**\n",
    "\n",
    "- From above it can be easily visualized that **customers who didn't disputed are found to be more late** than the customers who disputed.\n",
    "- Additionally, we can see that **customers who disputed, paid amount on time, are very few** as **comparison** to the **customer who didn't disputed at all**."
   ]
  },
  {
   "cell_type": "markdown",
   "metadata": {
    "colab_type": "text",
    "id": "T_OfRgiDlJfm"
   },
   "source": [
    "In the **following code** we have **converted the customer id to integer value** which shall simplify our analysis."
   ]
  },
  {
   "cell_type": "code",
   "execution_count": 0,
   "metadata": {
    "colab": {
     "base_uri": "https://localhost:8080/",
     "height": 326
    },
    "colab_type": "code",
    "id": "-oykezO-_mmU",
    "outputId": "60046dc5-4079-4296-8d47-b3f7ddb44126"
   },
   "outputs": [
    {
     "name": "stdout",
     "output_type": "stream",
     "text": [
      "Sample Labels: ['0187-ERLSR', '0379-NEVHP', '0465-DTULQ', '0625-TNJFG']\n"
     ]
    },
    {
     "data": {
      "text/html": [
       "<div>\n",
       "<style scoped>\n",
       "    .dataframe tbody tr th:only-of-type {\n",
       "        vertical-align: middle;\n",
       "    }\n",
       "\n",
       "    .dataframe tbody tr th {\n",
       "        vertical-align: top;\n",
       "    }\n",
       "\n",
       "    .dataframe thead th {\n",
       "        text-align: right;\n",
       "    }\n",
       "</style>\n",
       "<table border=\"1\" class=\"dataframe\">\n",
       "  <thead>\n",
       "    <tr style=\"text-align: right;\">\n",
       "      <th></th>\n",
       "      <th>cust_id</th>\n",
       "      <th>state</th>\n",
       "      <th>area_code</th>\n",
       "      <th>bill_date</th>\n",
       "      <th>bill_type</th>\n",
       "      <th>invoice_id</th>\n",
       "      <th>invoice_amount</th>\n",
       "      <th>invoice_init_date</th>\n",
       "      <th>invoice_final_date</th>\n",
       "      <th>invoice_settled_date</th>\n",
       "      <th>disputed</th>\n",
       "      <th>days_to_settle</th>\n",
       "      <th>days_late</th>\n",
       "      <th>late</th>\n",
       "      <th>count_late</th>\n",
       "      <th>invoice_quater</th>\n",
       "      <th>repeat_cust</th>\n",
       "      <th>binned_invoice_amount</th>\n",
       "    </tr>\n",
       "  </thead>\n",
       "  <tbody>\n",
       "    <tr>\n",
       "      <th>0</th>\n",
       "      <td>23</td>\n",
       "      <td>Los Angeles</td>\n",
       "      <td>818</td>\n",
       "      <td>2013-04-28</td>\n",
       "      <td>Paper</td>\n",
       "      <td>354407690</td>\n",
       "      <td>45.56</td>\n",
       "      <td>2013-12-04</td>\n",
       "      <td>2013-12-05</td>\n",
       "      <td>2013-04-17</td>\n",
       "      <td>No</td>\n",
       "      <td>5</td>\n",
       "      <td>0</td>\n",
       "      <td>0</td>\n",
       "      <td>0</td>\n",
       "      <td>4</td>\n",
       "      <td>0</td>\n",
       "      <td>Less than 60</td>\n",
       "    </tr>\n",
       "    <tr>\n",
       "      <th>1</th>\n",
       "      <td>13</td>\n",
       "      <td>Los Angeles</td>\n",
       "      <td>818</td>\n",
       "      <td>2013-03-16</td>\n",
       "      <td>Electronic</td>\n",
       "      <td>3693123052</td>\n",
       "      <td>47.82</td>\n",
       "      <td>2013-04-25</td>\n",
       "      <td>2013-05-25</td>\n",
       "      <td>2013-03-06</td>\n",
       "      <td>No</td>\n",
       "      <td>39</td>\n",
       "      <td>9</td>\n",
       "      <td>1</td>\n",
       "      <td>0</td>\n",
       "      <td>2</td>\n",
       "      <td>20</td>\n",
       "      <td>Less than 60</td>\n",
       "    </tr>\n",
       "    <tr>\n",
       "      <th>2</th>\n",
       "      <td>51</td>\n",
       "      <td>State of OK</td>\n",
       "      <td>391</td>\n",
       "      <td>2013-10-01</td>\n",
       "      <td>Electronic</td>\n",
       "      <td>4026967253</td>\n",
       "      <td>69.48</td>\n",
       "      <td>2013-08-30</td>\n",
       "      <td>2013-09-29</td>\n",
       "      <td>2013-09-17</td>\n",
       "      <td>No</td>\n",
       "      <td>18</td>\n",
       "      <td>0</td>\n",
       "      <td>0</td>\n",
       "      <td>0</td>\n",
       "      <td>3</td>\n",
       "      <td>1</td>\n",
       "      <td>More than 60</td>\n",
       "    </tr>\n",
       "    <tr>\n",
       "      <th>3</th>\n",
       "      <td>99</td>\n",
       "      <td>State of KS</td>\n",
       "      <td>897</td>\n",
       "      <td>2013-08-07</td>\n",
       "      <td>Paper</td>\n",
       "      <td>1491017498</td>\n",
       "      <td>19.23</td>\n",
       "      <td>2012-09-05</td>\n",
       "      <td>2012-08-06</td>\n",
       "      <td>2012-02-06</td>\n",
       "      <td>No</td>\n",
       "      <td>24</td>\n",
       "      <td>0</td>\n",
       "      <td>0</td>\n",
       "      <td>0</td>\n",
       "      <td>3</td>\n",
       "      <td>23</td>\n",
       "      <td>Less than 60</td>\n",
       "    </tr>\n",
       "    <tr>\n",
       "      <th>4</th>\n",
       "      <td>29</td>\n",
       "      <td>State of KS</td>\n",
       "      <td>897</td>\n",
       "      <td>2013-07-29</td>\n",
       "      <td>Paper</td>\n",
       "      <td>2137157897</td>\n",
       "      <td>20.55</td>\n",
       "      <td>2013-07-21</td>\n",
       "      <td>2013-08-20</td>\n",
       "      <td>2013-06-08</td>\n",
       "      <td>No</td>\n",
       "      <td>16</td>\n",
       "      <td>0</td>\n",
       "      <td>0</td>\n",
       "      <td>0</td>\n",
       "      <td>3</td>\n",
       "      <td>15</td>\n",
       "      <td>Less than 60</td>\n",
       "    </tr>\n",
       "  </tbody>\n",
       "</table>\n",
       "</div>"
      ],
      "text/plain": [
       "   cust_id        state  area_code  bill_date   bill_type  invoice_id  \\\n",
       "0       23  Los Angeles        818 2013-04-28       Paper   354407690   \n",
       "1       13  Los Angeles        818 2013-03-16  Electronic  3693123052   \n",
       "2       51  State of OK        391 2013-10-01  Electronic  4026967253   \n",
       "3       99  State of KS        897 2013-08-07       Paper  1491017498   \n",
       "4       29  State of KS        897 2013-07-29       Paper  2137157897   \n",
       "\n",
       "   invoice_amount invoice_init_date invoice_final_date invoice_settled_date  \\\n",
       "0           45.56        2013-12-04         2013-12-05           2013-04-17   \n",
       "1           47.82        2013-04-25         2013-05-25           2013-03-06   \n",
       "2           69.48        2013-08-30         2013-09-29           2013-09-17   \n",
       "3           19.23        2012-09-05         2012-08-06           2012-02-06   \n",
       "4           20.55        2013-07-21         2013-08-20           2013-06-08   \n",
       "\n",
       "  disputed  days_to_settle  days_late  late  count_late  invoice_quater  \\\n",
       "0       No               5          0     0           0               4   \n",
       "1       No              39          9     1           0               2   \n",
       "2       No              18          0     0           0               3   \n",
       "3       No              24          0     0           0               3   \n",
       "4       No              16          0     0           0               3   \n",
       "\n",
       "   repeat_cust binned_invoice_amount  \n",
       "0            0          Less than 60  \n",
       "1           20          Less than 60  \n",
       "2            1          More than 60  \n",
       "3           23          Less than 60  \n",
       "4           15          Less than 60  "
      ]
     },
     "execution_count": 33,
     "metadata": {
      "tags": []
     },
     "output_type": "execute_result"
    }
   ],
   "source": [
    "labels = data['cust_id'].astype('category').cat.categories.tolist()\n",
    "print('Sample Labels:', labels[0:4])\n",
    "# Creating Dictionary of cust_id values\n",
    "data_map = {'cust_id' : {k: v for k, v in zip(labels, list(range(1, len(labels) + 1)))}}\n",
    "# Replacing cust_id with integer values\n",
    "data.replace(data_map, inplace=True)\n",
    "data.head()"
   ]
  },
  {
   "cell_type": "markdown",
   "metadata": {
    "colab_type": "text",
    "id": "OAjiNEJpqZAa"
   },
   "source": [
    "**<h4>Question 9:** What is the average **invoice amount** left to be paid **per state**?</h4>"
   ]
  },
  {
   "cell_type": "code",
   "execution_count": 0,
   "metadata": {
    "colab": {
     "base_uri": "https://localhost:8080/",
     "height": 80
    },
    "colab_type": "code",
    "id": "1twviDjqlto5",
    "outputId": "48e78428-d8b9-489e-a332-1c6e61d82336"
   },
   "outputs": [
    {
     "data": {
      "text/html": [
       "<div>\n",
       "<style scoped>\n",
       "    .dataframe tbody tr th:only-of-type {\n",
       "        vertical-align: middle;\n",
       "    }\n",
       "\n",
       "    .dataframe tbody tr th {\n",
       "        vertical-align: top;\n",
       "    }\n",
       "\n",
       "    .dataframe thead th {\n",
       "        text-align: right;\n",
       "    }\n",
       "</style>\n",
       "<table border=\"1\" class=\"dataframe\">\n",
       "  <thead>\n",
       "    <tr style=\"text-align: right;\">\n",
       "      <th>state</th>\n",
       "      <th>Atlanta</th>\n",
       "      <th>Los Angeles</th>\n",
       "      <th>Montana</th>\n",
       "      <th>State of KS</th>\n",
       "      <th>State of OK</th>\n",
       "    </tr>\n",
       "  </thead>\n",
       "  <tbody>\n",
       "    <tr>\n",
       "      <th>Average Invoice Amount</th>\n",
       "      <td>54.112194</td>\n",
       "      <td>63.304571</td>\n",
       "      <td>70.272567</td>\n",
       "      <td>41.242487</td>\n",
       "      <td>65.014545</td>\n",
       "    </tr>\n",
       "  </tbody>\n",
       "</table>\n",
       "</div>"
      ],
      "text/plain": [
       "state                     Atlanta  Los Angeles    Montana  State of KS  \\\n",
       "Average Invoice Amount  54.112194    63.304571  70.272567    41.242487   \n",
       "\n",
       "state                   State of OK  \n",
       "Average Invoice Amount    65.014545  "
      ]
     },
     "execution_count": 34,
     "metadata": {
      "tags": []
     },
     "output_type": "execute_result"
    }
   ],
   "source": [
    "invoice_amt_frame = data.groupby(by = ['state'], as_index = False)['invoice_amount'].mean()\n",
    "invoice_amt_frame.set_index('state', inplace = True)\n",
    "invoice_amt_frame.columns = ['Average Invoice Amount']\n",
    "invoice_amt_frame.transpose()"
   ]
  },
  {
   "cell_type": "code",
   "execution_count": 0,
   "metadata": {
    "colab": {
     "base_uri": "https://localhost:8080/",
     "height": 410
    },
    "colab_type": "code",
    "id": "l7GK2V7jqaAS",
    "outputId": "bd93e0ea-8ff9-432d-e4a6-672f0194bb50"
   },
   "outputs": [
    {
     "data": {
      "image/png": "[encoded data removed]",
      "text/plain": [
       "<Figure size 864x432 with 1 Axes>"
      ]
     },
     "metadata": {
      "tags": []
     },
     "output_type": "display_data"
    }
   ],
   "source": [
    "df = data.groupby(by = ['state'], as_index = False)['invoice_amount'].mean()\n",
    "plt.figure(figsize = [12, 6])\n",
    "ax = sns.barplot(x = 'state', y = 'invoice_amount', data = df, palette = [\"#9b59b6\", \"#3498db\", \"#95a5a6\", \"#e74c3c\", \"#34495e\", \"#2ecc71\"])\n",
    "total = data.shape[0]\n",
    "for p in ax.patches:\n",
    "        percentage = '{:.2f}%'.format(100 * p.get_height()/total)\n",
    "        x = p.get_x() + 0.3\n",
    "        y = p.get_y() + p.get_height() + 1\n",
    "        ax.annotate(percentage, (x, y))\n",
    "plt.xlabel('State', size = 14)\n",
    "plt.ylabel('Invoice Amount', size =14)\n",
    "plt.title('Average Invoice Amount vs State', size = 16)\n",
    "plt.show()"
   ]
  },
  {
   "cell_type": "markdown",
   "metadata": {
    "colab_type": "text",
    "id": "c67x4AbymgBN"
   },
   "source": [
    "**Observation:**\n",
    "\n",
    "- On average state of **Montana is found to have 2.85% of invoice amount yet to pay** i.e. **around $\\$$70 thousand dollars**."
   ]
  },
  {
   "cell_type": "markdown",
   "metadata": {
    "colab_type": "text",
    "id": "vbpfbGL9CWBK"
   },
   "source": [
    "<a id = Section7></a>\n",
    "# **6. Post Data Processing & Feature Selection**"
   ]
  },
  {
   "cell_type": "code",
   "execution_count": 0,
   "metadata": {
    "colab": {
     "base_uri": "https://localhost:8080/",
     "height": 326
    },
    "colab_type": "code",
    "id": "4sRVBxuYClGq",
    "outputId": "7bed54e3-5b2f-4a4e-8829-95294cdd08ed"
   },
   "outputs": [
    {
     "name": "stdout",
     "output_type": "stream",
     "text": [
      "(2462, 18)\n"
     ]
    },
    {
     "data": {
      "text/html": [
       "<div>\n",
       "<style scoped>\n",
       "    .dataframe tbody tr th:only-of-type {\n",
       "        vertical-align: middle;\n",
       "    }\n",
       "\n",
       "    .dataframe tbody tr th {\n",
       "        vertical-align: top;\n",
       "    }\n",
       "\n",
       "    .dataframe thead th {\n",
       "        text-align: right;\n",
       "    }\n",
       "</style>\n",
       "<table border=\"1\" class=\"dataframe\">\n",
       "  <thead>\n",
       "    <tr style=\"text-align: right;\">\n",
       "      <th></th>\n",
       "      <th>cust_id</th>\n",
       "      <th>state</th>\n",
       "      <th>area_code</th>\n",
       "      <th>bill_date</th>\n",
       "      <th>bill_type</th>\n",
       "      <th>invoice_id</th>\n",
       "      <th>invoice_amount</th>\n",
       "      <th>invoice_init_date</th>\n",
       "      <th>invoice_final_date</th>\n",
       "      <th>invoice_settled_date</th>\n",
       "      <th>disputed</th>\n",
       "      <th>days_to_settle</th>\n",
       "      <th>days_late</th>\n",
       "      <th>late</th>\n",
       "      <th>count_late</th>\n",
       "      <th>invoice_quater</th>\n",
       "      <th>repeat_cust</th>\n",
       "      <th>binned_invoice_amount</th>\n",
       "    </tr>\n",
       "  </thead>\n",
       "  <tbody>\n",
       "    <tr>\n",
       "      <th>0</th>\n",
       "      <td>23</td>\n",
       "      <td>Los Angeles</td>\n",
       "      <td>818</td>\n",
       "      <td>2013-04-28</td>\n",
       "      <td>Paper</td>\n",
       "      <td>354407690</td>\n",
       "      <td>45.56</td>\n",
       "      <td>2013-12-04</td>\n",
       "      <td>2013-12-05</td>\n",
       "      <td>2013-04-17</td>\n",
       "      <td>No</td>\n",
       "      <td>5</td>\n",
       "      <td>0</td>\n",
       "      <td>0</td>\n",
       "      <td>0</td>\n",
       "      <td>4</td>\n",
       "      <td>0</td>\n",
       "      <td>Less than 60</td>\n",
       "    </tr>\n",
       "    <tr>\n",
       "      <th>1</th>\n",
       "      <td>13</td>\n",
       "      <td>Los Angeles</td>\n",
       "      <td>818</td>\n",
       "      <td>2013-03-16</td>\n",
       "      <td>Electronic</td>\n",
       "      <td>3693123052</td>\n",
       "      <td>47.82</td>\n",
       "      <td>2013-04-25</td>\n",
       "      <td>2013-05-25</td>\n",
       "      <td>2013-03-06</td>\n",
       "      <td>No</td>\n",
       "      <td>39</td>\n",
       "      <td>9</td>\n",
       "      <td>1</td>\n",
       "      <td>0</td>\n",
       "      <td>2</td>\n",
       "      <td>20</td>\n",
       "      <td>Less than 60</td>\n",
       "    </tr>\n",
       "    <tr>\n",
       "      <th>2</th>\n",
       "      <td>51</td>\n",
       "      <td>State of OK</td>\n",
       "      <td>391</td>\n",
       "      <td>2013-10-01</td>\n",
       "      <td>Electronic</td>\n",
       "      <td>4026967253</td>\n",
       "      <td>69.48</td>\n",
       "      <td>2013-08-30</td>\n",
       "      <td>2013-09-29</td>\n",
       "      <td>2013-09-17</td>\n",
       "      <td>No</td>\n",
       "      <td>18</td>\n",
       "      <td>0</td>\n",
       "      <td>0</td>\n",
       "      <td>0</td>\n",
       "      <td>3</td>\n",
       "      <td>1</td>\n",
       "      <td>More than 60</td>\n",
       "    </tr>\n",
       "    <tr>\n",
       "      <th>3</th>\n",
       "      <td>99</td>\n",
       "      <td>State of KS</td>\n",
       "      <td>897</td>\n",
       "      <td>2013-08-07</td>\n",
       "      <td>Paper</td>\n",
       "      <td>1491017498</td>\n",
       "      <td>19.23</td>\n",
       "      <td>2012-09-05</td>\n",
       "      <td>2012-08-06</td>\n",
       "      <td>2012-02-06</td>\n",
       "      <td>No</td>\n",
       "      <td>24</td>\n",
       "      <td>0</td>\n",
       "      <td>0</td>\n",
       "      <td>0</td>\n",
       "      <td>3</td>\n",
       "      <td>23</td>\n",
       "      <td>Less than 60</td>\n",
       "    </tr>\n",
       "    <tr>\n",
       "      <th>4</th>\n",
       "      <td>29</td>\n",
       "      <td>State of KS</td>\n",
       "      <td>897</td>\n",
       "      <td>2013-07-29</td>\n",
       "      <td>Paper</td>\n",
       "      <td>2137157897</td>\n",
       "      <td>20.55</td>\n",
       "      <td>2013-07-21</td>\n",
       "      <td>2013-08-20</td>\n",
       "      <td>2013-06-08</td>\n",
       "      <td>No</td>\n",
       "      <td>16</td>\n",
       "      <td>0</td>\n",
       "      <td>0</td>\n",
       "      <td>0</td>\n",
       "      <td>3</td>\n",
       "      <td>15</td>\n",
       "      <td>Less than 60</td>\n",
       "    </tr>\n",
       "  </tbody>\n",
       "</table>\n",
       "</div>"
      ],
      "text/plain": [
       "   cust_id        state  area_code  bill_date   bill_type  invoice_id  \\\n",
       "0       23  Los Angeles        818 2013-04-28       Paper   354407690   \n",
       "1       13  Los Angeles        818 2013-03-16  Electronic  3693123052   \n",
       "2       51  State of OK        391 2013-10-01  Electronic  4026967253   \n",
       "3       99  State of KS        897 2013-08-07       Paper  1491017498   \n",
       "4       29  State of KS        897 2013-07-29       Paper  2137157897   \n",
       "\n",
       "   invoice_amount invoice_init_date invoice_final_date invoice_settled_date  \\\n",
       "0           45.56        2013-12-04         2013-12-05           2013-04-17   \n",
       "1           47.82        2013-04-25         2013-05-25           2013-03-06   \n",
       "2           69.48        2013-08-30         2013-09-29           2013-09-17   \n",
       "3           19.23        2012-09-05         2012-08-06           2012-02-06   \n",
       "4           20.55        2013-07-21         2013-08-20           2013-06-08   \n",
       "\n",
       "  disputed  days_to_settle  days_late  late  count_late  invoice_quater  \\\n",
       "0       No               5          0     0           0               4   \n",
       "1       No              39          9     1           0               2   \n",
       "2       No              18          0     0           0               3   \n",
       "3       No              24          0     0           0               3   \n",
       "4       No              16          0     0           0               3   \n",
       "\n",
       "   repeat_cust binned_invoice_amount  \n",
       "0            0          Less than 60  \n",
       "1           20          Less than 60  \n",
       "2            1          More than 60  \n",
       "3           23          Less than 60  \n",
       "4           15          Less than 60  "
      ]
     },
     "execution_count": 133,
     "metadata": {
      "tags": []
     },
     "output_type": "execute_result"
    }
   ],
   "source": [
    "print(data.shape)\n",
    "data.head()"
   ]
  },
  {
   "cell_type": "markdown",
   "metadata": {
    "colab_type": "text",
    "id": "dSY3LwopC1Lh"
   },
   "source": [
    "### **Features Correlation**\n",
    "\n",
    "In this section we will **analyze how features are associated with each other**."
   ]
  },
  {
   "cell_type": "code",
   "execution_count": 0,
   "metadata": {
    "colab": {
     "base_uri": "https://localhost:8080/",
     "height": 460
    },
    "colab_type": "code",
    "id": "R8RpZ5oHCnrz",
    "outputId": "0544c9aa-ba4a-4768-bf5b-d652d461cca0"
   },
   "outputs": [
    {
     "data": {
      "image/png": "[encoded data removed]",
      "text/plain": [
       "<Figure size 864x432 with 2 Axes>"
      ]
     },
     "metadata": {
      "tags": []
     },
     "output_type": "display_data"
    }
   ],
   "source": [
    "figure = plt.figure(figsize = [12, 6])\n",
    "sns.heatmap(data.corr(), annot = True, cmap = 'viridis')\n",
    "plt.title('Correlation between Features', size = 14)\n",
    "plt.show()"
   ]
  },
  {
   "cell_type": "markdown",
   "metadata": {
    "colab_type": "text",
    "id": "gWevcUw1DCNy"
   },
   "source": [
    "**Observation:**\n",
    "\n",
    "* **days_to_settle** is **highly correlated** to **days_ate, late, repeat_cust**.\n",
    "* **days_late** is **highly correlated** to **late**.\n",
    "* **count_late** is highly correlated to **repeat_cust**.\n",
    "* **repeat_cust** is **highly correlated** to **late & days_to_settle**."
   ]
  },
  {
   "cell_type": "markdown",
   "metadata": {
    "colab_type": "text",
    "id": "VnY5-IzvDvPd"
   },
   "source": [
    "- We will **drop out cust_id, area_code, invoice_id, bill_date, invoice_init_date, invoice_final_date, invoice_settled_date** as they are not useful for prediction.\n",
    "- **Reason of dropping is we are working with regression problem instead of time series**, so date features are not useful while using machine learning algorithms."
   ]
  },
  {
   "cell_type": "code",
   "execution_count": 0,
   "metadata": {
    "colab": {
     "base_uri": "https://localhost:8080/",
     "height": 238
    },
    "colab_type": "code",
    "id": "h4_JVeckCyQp",
    "outputId": "33425291-c2e5-49e8-8505-1178198d4e0f"
   },
   "outputs": [
    {
     "name": "stdout",
     "output_type": "stream",
     "text": [
      "Data Shape [Before]: (2462, 18)\n",
      "Data Shape [After]: (2462, 11)\n"
     ]
    },
    {
     "data": {
      "text/html": [
       "<div>\n",
       "<style scoped>\n",
       "    .dataframe tbody tr th:only-of-type {\n",
       "        vertical-align: middle;\n",
       "    }\n",
       "\n",
       "    .dataframe tbody tr th {\n",
       "        vertical-align: top;\n",
       "    }\n",
       "\n",
       "    .dataframe thead th {\n",
       "        text-align: right;\n",
       "    }\n",
       "</style>\n",
       "<table border=\"1\" class=\"dataframe\">\n",
       "  <thead>\n",
       "    <tr style=\"text-align: right;\">\n",
       "      <th></th>\n",
       "      <th>state</th>\n",
       "      <th>bill_type</th>\n",
       "      <th>invoice_amount</th>\n",
       "      <th>disputed</th>\n",
       "      <th>days_to_settle</th>\n",
       "      <th>days_late</th>\n",
       "      <th>late</th>\n",
       "      <th>count_late</th>\n",
       "      <th>invoice_quater</th>\n",
       "      <th>repeat_cust</th>\n",
       "      <th>binned_invoice_amount</th>\n",
       "    </tr>\n",
       "  </thead>\n",
       "  <tbody>\n",
       "    <tr>\n",
       "      <th>0</th>\n",
       "      <td>Los Angeles</td>\n",
       "      <td>Paper</td>\n",
       "      <td>45.56</td>\n",
       "      <td>No</td>\n",
       "      <td>5</td>\n",
       "      <td>0</td>\n",
       "      <td>0</td>\n",
       "      <td>0</td>\n",
       "      <td>4</td>\n",
       "      <td>0</td>\n",
       "      <td>Less than 60</td>\n",
       "    </tr>\n",
       "    <tr>\n",
       "      <th>1</th>\n",
       "      <td>Los Angeles</td>\n",
       "      <td>Electronic</td>\n",
       "      <td>47.82</td>\n",
       "      <td>No</td>\n",
       "      <td>39</td>\n",
       "      <td>9</td>\n",
       "      <td>1</td>\n",
       "      <td>0</td>\n",
       "      <td>2</td>\n",
       "      <td>20</td>\n",
       "      <td>Less than 60</td>\n",
       "    </tr>\n",
       "    <tr>\n",
       "      <th>2</th>\n",
       "      <td>State of OK</td>\n",
       "      <td>Electronic</td>\n",
       "      <td>69.48</td>\n",
       "      <td>No</td>\n",
       "      <td>18</td>\n",
       "      <td>0</td>\n",
       "      <td>0</td>\n",
       "      <td>0</td>\n",
       "      <td>3</td>\n",
       "      <td>1</td>\n",
       "      <td>More than 60</td>\n",
       "    </tr>\n",
       "    <tr>\n",
       "      <th>3</th>\n",
       "      <td>State of KS</td>\n",
       "      <td>Paper</td>\n",
       "      <td>19.23</td>\n",
       "      <td>No</td>\n",
       "      <td>24</td>\n",
       "      <td>0</td>\n",
       "      <td>0</td>\n",
       "      <td>0</td>\n",
       "      <td>3</td>\n",
       "      <td>23</td>\n",
       "      <td>Less than 60</td>\n",
       "    </tr>\n",
       "    <tr>\n",
       "      <th>4</th>\n",
       "      <td>State of KS</td>\n",
       "      <td>Paper</td>\n",
       "      <td>20.55</td>\n",
       "      <td>No</td>\n",
       "      <td>16</td>\n",
       "      <td>0</td>\n",
       "      <td>0</td>\n",
       "      <td>0</td>\n",
       "      <td>3</td>\n",
       "      <td>15</td>\n",
       "      <td>Less than 60</td>\n",
       "    </tr>\n",
       "  </tbody>\n",
       "</table>\n",
       "</div>"
      ],
      "text/plain": [
       "         state   bill_type  invoice_amount disputed  days_to_settle  \\\n",
       "0  Los Angeles       Paper           45.56       No               5   \n",
       "1  Los Angeles  Electronic           47.82       No              39   \n",
       "2  State of OK  Electronic           69.48       No              18   \n",
       "3  State of KS       Paper           19.23       No              24   \n",
       "4  State of KS       Paper           20.55       No              16   \n",
       "\n",
       "   days_late  late  count_late  invoice_quater  repeat_cust  \\\n",
       "0          0     0           0               4            0   \n",
       "1          9     1           0               2           20   \n",
       "2          0     0           0               3            1   \n",
       "3          0     0           0               3           23   \n",
       "4          0     0           0               3           15   \n",
       "\n",
       "  binned_invoice_amount  \n",
       "0          Less than 60  \n",
       "1          Less than 60  \n",
       "2          More than 60  \n",
       "3          Less than 60  \n",
       "4          Less than 60  "
      ]
     },
     "execution_count": 41,
     "metadata": {
      "tags": []
     },
     "output_type": "execute_result"
    }
   ],
   "source": [
    "ls = ['cust_id', 'area_code', 'invoice_id', 'bill_date', 'invoice_init_date', 'invoice_final_date', 'invoice_settled_date']\n",
    "print('Data Shape [Before]:', data.shape)\n",
    "data.drop(labels = ls, axis = 1, inplace = True)\n",
    "print('Data Shape [After]:', data.shape)\n",
    "data.head()"
   ]
  },
  {
   "cell_type": "markdown",
   "metadata": {
    "colab_type": "text",
    "id": "dwCxjLNJpbRk"
   },
   "source": [
    "- Next we **shall create a copy of our original cleansed data**.\n",
    "- We shall **perform encoding on this copy of data** and generate dummy features and perform correlation analysis again.\n",
    "- We can perform **label encoding on bill_type, disputed, binned_invoice_amount** as they are ordered features \n",
    "- **One hot encoding on state** as it is unordered in nature."
   ]
  },
  {
   "cell_type": "code",
   "execution_count": 0,
   "metadata": {
    "colab": {},
    "colab_type": "code",
    "id": "KMrIt2LlsUGn"
   },
   "outputs": [],
   "source": [
    "data_encoded = data.copy()"
   ]
  },
  {
   "cell_type": "markdown",
   "metadata": {
    "colab_type": "text",
    "id": "tjz9e_RBFOvp"
   },
   "source": [
    "### **Performing Label Encoding**\n",
    "\n",
    "As mentioned before, **we shall encode bill_type, disputed, binned_invoice_amount**."
   ]
  },
  {
   "cell_type": "code",
   "execution_count": 0,
   "metadata": {
    "colab": {
     "base_uri": "https://localhost:8080/",
     "height": 238
    },
    "colab_type": "code",
    "id": "9CesPKryFMFW",
    "outputId": "2afd56a6-fe90-4879-e1f2-8441615caaf2"
   },
   "outputs": [
    {
     "name": "stdout",
     "output_type": "stream",
     "text": [
      "Label Encoding Success!\n",
      "Data Shape: (2462, 11)\n"
     ]
    },
    {
     "data": {
      "text/html": [
       "<div>\n",
       "<style scoped>\n",
       "    .dataframe tbody tr th:only-of-type {\n",
       "        vertical-align: middle;\n",
       "    }\n",
       "\n",
       "    .dataframe tbody tr th {\n",
       "        vertical-align: top;\n",
       "    }\n",
       "\n",
       "    .dataframe thead th {\n",
       "        text-align: right;\n",
       "    }\n",
       "</style>\n",
       "<table border=\"1\" class=\"dataframe\">\n",
       "  <thead>\n",
       "    <tr style=\"text-align: right;\">\n",
       "      <th></th>\n",
       "      <th>state</th>\n",
       "      <th>bill_type</th>\n",
       "      <th>invoice_amount</th>\n",
       "      <th>disputed</th>\n",
       "      <th>days_to_settle</th>\n",
       "      <th>days_late</th>\n",
       "      <th>late</th>\n",
       "      <th>count_late</th>\n",
       "      <th>invoice_quater</th>\n",
       "      <th>repeat_cust</th>\n",
       "      <th>binned_invoice_amount</th>\n",
       "    </tr>\n",
       "  </thead>\n",
       "  <tbody>\n",
       "    <tr>\n",
       "      <th>0</th>\n",
       "      <td>Los Angeles</td>\n",
       "      <td>1</td>\n",
       "      <td>45.56</td>\n",
       "      <td>0</td>\n",
       "      <td>5</td>\n",
       "      <td>0</td>\n",
       "      <td>0</td>\n",
       "      <td>0</td>\n",
       "      <td>4</td>\n",
       "      <td>0</td>\n",
       "      <td>0</td>\n",
       "    </tr>\n",
       "    <tr>\n",
       "      <th>1</th>\n",
       "      <td>Los Angeles</td>\n",
       "      <td>0</td>\n",
       "      <td>47.82</td>\n",
       "      <td>0</td>\n",
       "      <td>39</td>\n",
       "      <td>9</td>\n",
       "      <td>1</td>\n",
       "      <td>0</td>\n",
       "      <td>2</td>\n",
       "      <td>20</td>\n",
       "      <td>0</td>\n",
       "    </tr>\n",
       "    <tr>\n",
       "      <th>2</th>\n",
       "      <td>State of OK</td>\n",
       "      <td>0</td>\n",
       "      <td>69.48</td>\n",
       "      <td>0</td>\n",
       "      <td>18</td>\n",
       "      <td>0</td>\n",
       "      <td>0</td>\n",
       "      <td>0</td>\n",
       "      <td>3</td>\n",
       "      <td>1</td>\n",
       "      <td>1</td>\n",
       "    </tr>\n",
       "    <tr>\n",
       "      <th>3</th>\n",
       "      <td>State of KS</td>\n",
       "      <td>1</td>\n",
       "      <td>19.23</td>\n",
       "      <td>0</td>\n",
       "      <td>24</td>\n",
       "      <td>0</td>\n",
       "      <td>0</td>\n",
       "      <td>0</td>\n",
       "      <td>3</td>\n",
       "      <td>23</td>\n",
       "      <td>0</td>\n",
       "    </tr>\n",
       "    <tr>\n",
       "      <th>4</th>\n",
       "      <td>State of KS</td>\n",
       "      <td>1</td>\n",
       "      <td>20.55</td>\n",
       "      <td>0</td>\n",
       "      <td>16</td>\n",
       "      <td>0</td>\n",
       "      <td>0</td>\n",
       "      <td>0</td>\n",
       "      <td>3</td>\n",
       "      <td>15</td>\n",
       "      <td>0</td>\n",
       "    </tr>\n",
       "  </tbody>\n",
       "</table>\n",
       "</div>"
      ],
      "text/plain": [
       "         state  bill_type  invoice_amount  disputed  days_to_settle  \\\n",
       "0  Los Angeles          1           45.56         0               5   \n",
       "1  Los Angeles          0           47.82         0              39   \n",
       "2  State of OK          0           69.48         0              18   \n",
       "3  State of KS          1           19.23         0              24   \n",
       "4  State of KS          1           20.55         0              16   \n",
       "\n",
       "   days_late  late  count_late  invoice_quater  repeat_cust  \\\n",
       "0          0     0           0               4            0   \n",
       "1          9     1           0               2           20   \n",
       "2          0     0           0               3            1   \n",
       "3          0     0           0               3           23   \n",
       "4          0     0           0               3           15   \n",
       "\n",
       "   binned_invoice_amount  \n",
       "0                      0  \n",
       "1                      0  \n",
       "2                      1  \n",
       "3                      0  \n",
       "4                      0  "
      ]
     },
     "execution_count": 43,
     "metadata": {
      "tags": []
     },
     "output_type": "execute_result"
    }
   ],
   "source": [
    "ordered_labels = ['bill_type', 'disputed', 'binned_invoice_amount']\n",
    "encode = LabelEncoder()\n",
    "\n",
    "for i in ordered_labels:\n",
    "  if isinstance(data[i].dtype, object):\n",
    "    data_encoded[i] = encode.fit_transform(data_encoded[i])\n",
    "print('Label Encoding Success!')\n",
    "print('Data Shape:', data_encoded.shape)\n",
    "data_encoded.head()"
   ]
  },
  {
   "cell_type": "markdown",
   "metadata": {
    "colab_type": "text",
    "id": "cmkV_DgQFpxi"
   },
   "source": [
    "### **Performing Dummification**\n",
    "\n",
    "As mentioned before we shall make **dummy features** out of **state feature**."
   ]
  },
  {
   "cell_type": "code",
   "execution_count": 0,
   "metadata": {
    "colab": {
     "base_uri": "https://localhost:8080/",
     "height": 258
    },
    "colab_type": "code",
    "id": "nEowXjrRFqZ1",
    "outputId": "568f3a98-02fa-4f51-b907-cebe8773fb44"
   },
   "outputs": [
    {
     "name": "stdout",
     "output_type": "stream",
     "text": [
      "Data Shape: (2462, 15)\n"
     ]
    },
    {
     "data": {
      "text/html": [
       "<div>\n",
       "<style scoped>\n",
       "    .dataframe tbody tr th:only-of-type {\n",
       "        vertical-align: middle;\n",
       "    }\n",
       "\n",
       "    .dataframe tbody tr th {\n",
       "        vertical-align: top;\n",
       "    }\n",
       "\n",
       "    .dataframe thead th {\n",
       "        text-align: right;\n",
       "    }\n",
       "</style>\n",
       "<table border=\"1\" class=\"dataframe\">\n",
       "  <thead>\n",
       "    <tr style=\"text-align: right;\">\n",
       "      <th></th>\n",
       "      <th>bill_type</th>\n",
       "      <th>invoice_amount</th>\n",
       "      <th>disputed</th>\n",
       "      <th>days_to_settle</th>\n",
       "      <th>days_late</th>\n",
       "      <th>late</th>\n",
       "      <th>count_late</th>\n",
       "      <th>invoice_quater</th>\n",
       "      <th>repeat_cust</th>\n",
       "      <th>binned_invoice_amount</th>\n",
       "      <th>state_Atlanta</th>\n",
       "      <th>state_Los Angeles</th>\n",
       "      <th>state_Montana</th>\n",
       "      <th>state_State of KS</th>\n",
       "      <th>state_State of OK</th>\n",
       "    </tr>\n",
       "  </thead>\n",
       "  <tbody>\n",
       "    <tr>\n",
       "      <th>0</th>\n",
       "      <td>1</td>\n",
       "      <td>45.56</td>\n",
       "      <td>0</td>\n",
       "      <td>5</td>\n",
       "      <td>0</td>\n",
       "      <td>0</td>\n",
       "      <td>0</td>\n",
       "      <td>4</td>\n",
       "      <td>0</td>\n",
       "      <td>0</td>\n",
       "      <td>0</td>\n",
       "      <td>1</td>\n",
       "      <td>0</td>\n",
       "      <td>0</td>\n",
       "      <td>0</td>\n",
       "    </tr>\n",
       "    <tr>\n",
       "      <th>1</th>\n",
       "      <td>0</td>\n",
       "      <td>47.82</td>\n",
       "      <td>0</td>\n",
       "      <td>39</td>\n",
       "      <td>9</td>\n",
       "      <td>1</td>\n",
       "      <td>0</td>\n",
       "      <td>2</td>\n",
       "      <td>20</td>\n",
       "      <td>0</td>\n",
       "      <td>0</td>\n",
       "      <td>1</td>\n",
       "      <td>0</td>\n",
       "      <td>0</td>\n",
       "      <td>0</td>\n",
       "    </tr>\n",
       "    <tr>\n",
       "      <th>2</th>\n",
       "      <td>0</td>\n",
       "      <td>69.48</td>\n",
       "      <td>0</td>\n",
       "      <td>18</td>\n",
       "      <td>0</td>\n",
       "      <td>0</td>\n",
       "      <td>0</td>\n",
       "      <td>3</td>\n",
       "      <td>1</td>\n",
       "      <td>1</td>\n",
       "      <td>0</td>\n",
       "      <td>0</td>\n",
       "      <td>0</td>\n",
       "      <td>0</td>\n",
       "      <td>1</td>\n",
       "    </tr>\n",
       "    <tr>\n",
       "      <th>3</th>\n",
       "      <td>1</td>\n",
       "      <td>19.23</td>\n",
       "      <td>0</td>\n",
       "      <td>24</td>\n",
       "      <td>0</td>\n",
       "      <td>0</td>\n",
       "      <td>0</td>\n",
       "      <td>3</td>\n",
       "      <td>23</td>\n",
       "      <td>0</td>\n",
       "      <td>0</td>\n",
       "      <td>0</td>\n",
       "      <td>0</td>\n",
       "      <td>1</td>\n",
       "      <td>0</td>\n",
       "    </tr>\n",
       "    <tr>\n",
       "      <th>4</th>\n",
       "      <td>1</td>\n",
       "      <td>20.55</td>\n",
       "      <td>0</td>\n",
       "      <td>16</td>\n",
       "      <td>0</td>\n",
       "      <td>0</td>\n",
       "      <td>0</td>\n",
       "      <td>3</td>\n",
       "      <td>15</td>\n",
       "      <td>0</td>\n",
       "      <td>0</td>\n",
       "      <td>0</td>\n",
       "      <td>0</td>\n",
       "      <td>1</td>\n",
       "      <td>0</td>\n",
       "    </tr>\n",
       "  </tbody>\n",
       "</table>\n",
       "</div>"
      ],
      "text/plain": [
       "   bill_type  invoice_amount  disputed  days_to_settle  days_late  late  \\\n",
       "0          1           45.56         0               5          0     0   \n",
       "1          0           47.82         0              39          9     1   \n",
       "2          0           69.48         0              18          0     0   \n",
       "3          1           19.23         0              24          0     0   \n",
       "4          1           20.55         0              16          0     0   \n",
       "\n",
       "   count_late  invoice_quater  repeat_cust  binned_invoice_amount  \\\n",
       "0           0               4            0                      0   \n",
       "1           0               2           20                      0   \n",
       "2           0               3            1                      1   \n",
       "3           0               3           23                      0   \n",
       "4           0               3           15                      0   \n",
       "\n",
       "   state_Atlanta  state_Los Angeles  state_Montana  state_State of KS  \\\n",
       "0              0                  1              0                  0   \n",
       "1              0                  1              0                  0   \n",
       "2              0                  0              0                  0   \n",
       "3              0                  0              0                  1   \n",
       "4              0                  0              0                  1   \n",
       "\n",
       "   state_State of OK  \n",
       "0                  0  \n",
       "1                  0  \n",
       "2                  1  \n",
       "3                  0  \n",
       "4                  0  "
      ]
     },
     "execution_count": 44,
     "metadata": {
      "tags": []
     },
     "output_type": "execute_result"
    }
   ],
   "source": [
    "data_encoded = pd.get_dummies(data = data_encoded, columns = ['state'])\n",
    "print('Data Shape:', data_encoded.shape)\n",
    "data_encoded.head()"
   ]
  },
  {
   "cell_type": "markdown",
   "metadata": {
    "colab_type": "text",
    "id": "qwUiYfF3IAKO"
   },
   "source": [
    "Let's **visualize the correlation again**."
   ]
  },
  {
   "cell_type": "code",
   "execution_count": 0,
   "metadata": {
    "colab": {
     "base_uri": "https://localhost:8080/",
     "height": 500
    },
    "colab_type": "code",
    "id": "KfVGEX0uHzWx",
    "outputId": "4b01af50-679e-46b4-a87f-5a61f80d3f3a"
   },
   "outputs": [
    {
     "data": {
      "image/png": "[encoded data removed]",
      "text/plain": [
       "<Figure size 864x432 with 2 Axes>"
      ]
     },
     "metadata": {
      "tags": []
     },
     "output_type": "display_data"
    }
   ],
   "source": [
    "figure = plt.figure(figsize = [12, 6])\n",
    "sns.heatmap(data_encoded.corr(), annot = True, cmap = 'YlGnBu')\n",
    "plt.title('Correlation between Features', size = 16)\n",
    "plt.show()"
   ]
  },
  {
   "cell_type": "markdown",
   "metadata": {
    "colab_type": "text",
    "id": "7gcD8hpWr1SH"
   },
   "source": [
    "**Observation:**\n",
    "\n",
    "- **Highly Correlated:**\n",
    "  - days_late &lrarr; days_to_settle\n",
    "  - days_to_settle &lrarr; late, days_late\n",
    "- **Moderately Correlated:**\n",
    "  - invoice_amount &lrarr; binned_invoice_amount.\n",
    "  - days_to_settle &lrarr; repeat_cust, count_late.\n",
    "  - days_late &lrarr; repeat_cust, late.\n",
    "  - late &lrarr; repeat_cust.\n",
    "  - count_late &lrarr; repeat_cust.\n"
   ]
  },
  {
   "cell_type": "markdown",
   "metadata": {
    "colab_type": "text",
    "id": "1UxeBac9_IdA"
   },
   "source": [
    "**Now we will break our data into input and respective target.**"
   ]
  },
  {
   "cell_type": "code",
   "execution_count": 0,
   "metadata": {
    "colab": {
     "base_uri": "https://localhost:8080/",
     "height": 51
    },
    "colab_type": "code",
    "id": "zq-CoOiPKse_",
    "outputId": "d032b6fb-21b1-42d8-a824-567e14b826a7"
   },
   "outputs": [
    {
     "name": "stdout",
     "output_type": "stream",
     "text": [
      "X Shape: (2462, 14)\n",
      "y Shape: (2462,)\n"
     ]
    }
   ],
   "source": [
    "X, y = data_encoded.drop('days_late', axis = 1), data_encoded['days_late']\n",
    "print('X Shape:', X.shape)\n",
    "print('y Shape:', y.shape)"
   ]
  },
  {
   "cell_type": "markdown",
   "metadata": {
    "colab_type": "text",
    "id": "slxRMRfe_QHQ"
   },
   "source": [
    "**Splitting our data to train-set and test-set**"
   ]
  },
  {
   "cell_type": "code",
   "execution_count": 0,
   "metadata": {
    "colab": {},
    "colab_type": "code",
    "id": "-zyoMz_JK_gq"
   },
   "outputs": [],
   "source": [
    "X_train, X_test, y_train, y_test = train_test_split(X, y, test_size = 0.2, random_state = 42)"
   ]
  },
  {
   "cell_type": "markdown",
   "metadata": {
    "colab_type": "text",
    "id": "Lf9JnGQgKkxc"
   },
   "source": [
    "### **Feature Selection using Random Forest**\n",
    "\n",
    "- **Random forests** are one the most **popular machine learning algorithms**. - They **provide**,\n",
    " - **a good predictive performance**,\n",
    " -**low overfitting and**\n",
    " -**easy interpretability.** \n",
    "-This interpretability **derives** the **importance of each feature** on the tree decision. In other words, it is **easy to compute** how much **each feature is contributing** to the **decision**."
   ]
  },
  {
   "cell_type": "code",
   "execution_count": 0,
   "metadata": {
    "colab": {
     "base_uri": "https://localhost:8080/",
     "height": 51
    },
    "colab_type": "code",
    "id": "uBzI4SAiKl0w",
    "outputId": "f7302911-fc89-4ad7-c9d3-912d9726c90e"
   },
   "outputs": [
    {
     "name": "stdout",
     "output_type": "stream",
     "text": [
      "Total Features Selected are 1\n",
      "Features: Index(['days_to_settle'], dtype='object')\n"
     ]
    }
   ],
   "source": [
    "sel = SelectFromModel(RandomForestRegressor(n_estimators = 100))\n",
    "sel.fit(X_train, y_train)\n",
    "selected_feat= X_train.columns[(sel.get_support())]\n",
    "print('Total Features Selected are', len(selected_feat))\n",
    "print('Features:', selected_feat)"
   ]
  },
  {
   "cell_type": "markdown",
   "metadata": {
    "colab_type": "text",
    "id": "lSRwyYCrPbiw"
   },
   "source": [
    "**Observation:**\n",
    "\n",
    "- It turns out that model **estimated only one feature** which is **important**. \n",
    "- Instead we will **analyze manually** and **choose important features** to **verify that whether it is right or not** using Pearson Correlation and ANOVA."
   ]
  },
  {
   "cell_type": "code",
   "execution_count": 0,
   "metadata": {
    "colab": {
     "base_uri": "https://localhost:8080/",
     "height": 204
    },
    "colab_type": "code",
    "id": "g14ZNZ-pVCJt",
    "outputId": "3eb00a2a-d6b9-4abd-d235-d435384eed6c"
   },
   "outputs": [
    {
     "data": {
      "text/html": [
       "<div>\n",
       "<style scoped>\n",
       "    .dataframe tbody tr th:only-of-type {\n",
       "        vertical-align: middle;\n",
       "    }\n",
       "\n",
       "    .dataframe tbody tr th {\n",
       "        vertical-align: top;\n",
       "    }\n",
       "\n",
       "    .dataframe thead th {\n",
       "        text-align: right;\n",
       "    }\n",
       "</style>\n",
       "<table border=\"1\" class=\"dataframe\">\n",
       "  <thead>\n",
       "    <tr style=\"text-align: right;\">\n",
       "      <th></th>\n",
       "      <th>state</th>\n",
       "      <th>bill_type</th>\n",
       "      <th>invoice_amount</th>\n",
       "      <th>disputed</th>\n",
       "      <th>days_to_settle</th>\n",
       "      <th>days_late</th>\n",
       "      <th>late</th>\n",
       "      <th>count_late</th>\n",
       "      <th>invoice_quater</th>\n",
       "      <th>repeat_cust</th>\n",
       "      <th>binned_invoice_amount</th>\n",
       "    </tr>\n",
       "  </thead>\n",
       "  <tbody>\n",
       "    <tr>\n",
       "      <th>0</th>\n",
       "      <td>Los Angeles</td>\n",
       "      <td>Paper</td>\n",
       "      <td>45.56</td>\n",
       "      <td>No</td>\n",
       "      <td>5</td>\n",
       "      <td>0</td>\n",
       "      <td>0</td>\n",
       "      <td>0</td>\n",
       "      <td>4</td>\n",
       "      <td>0</td>\n",
       "      <td>Less than 60</td>\n",
       "    </tr>\n",
       "    <tr>\n",
       "      <th>1</th>\n",
       "      <td>Los Angeles</td>\n",
       "      <td>Electronic</td>\n",
       "      <td>47.82</td>\n",
       "      <td>No</td>\n",
       "      <td>39</td>\n",
       "      <td>9</td>\n",
       "      <td>1</td>\n",
       "      <td>0</td>\n",
       "      <td>2</td>\n",
       "      <td>20</td>\n",
       "      <td>Less than 60</td>\n",
       "    </tr>\n",
       "    <tr>\n",
       "      <th>2</th>\n",
       "      <td>State of OK</td>\n",
       "      <td>Electronic</td>\n",
       "      <td>69.48</td>\n",
       "      <td>No</td>\n",
       "      <td>18</td>\n",
       "      <td>0</td>\n",
       "      <td>0</td>\n",
       "      <td>0</td>\n",
       "      <td>3</td>\n",
       "      <td>1</td>\n",
       "      <td>More than 60</td>\n",
       "    </tr>\n",
       "    <tr>\n",
       "      <th>3</th>\n",
       "      <td>State of KS</td>\n",
       "      <td>Paper</td>\n",
       "      <td>19.23</td>\n",
       "      <td>No</td>\n",
       "      <td>24</td>\n",
       "      <td>0</td>\n",
       "      <td>0</td>\n",
       "      <td>0</td>\n",
       "      <td>3</td>\n",
       "      <td>23</td>\n",
       "      <td>Less than 60</td>\n",
       "    </tr>\n",
       "    <tr>\n",
       "      <th>4</th>\n",
       "      <td>State of KS</td>\n",
       "      <td>Paper</td>\n",
       "      <td>20.55</td>\n",
       "      <td>No</td>\n",
       "      <td>16</td>\n",
       "      <td>0</td>\n",
       "      <td>0</td>\n",
       "      <td>0</td>\n",
       "      <td>3</td>\n",
       "      <td>15</td>\n",
       "      <td>Less than 60</td>\n",
       "    </tr>\n",
       "  </tbody>\n",
       "</table>\n",
       "</div>"
      ],
      "text/plain": [
       "         state   bill_type  invoice_amount disputed  days_to_settle  \\\n",
       "0  Los Angeles       Paper           45.56       No               5   \n",
       "1  Los Angeles  Electronic           47.82       No              39   \n",
       "2  State of OK  Electronic           69.48       No              18   \n",
       "3  State of KS       Paper           19.23       No              24   \n",
       "4  State of KS       Paper           20.55       No              16   \n",
       "\n",
       "   days_late  late  count_late  invoice_quater  repeat_cust  \\\n",
       "0          0     0           0               4            0   \n",
       "1          9     1           0               2           20   \n",
       "2          0     0           0               3            1   \n",
       "3          0     0           0               3           23   \n",
       "4          0     0           0               3           15   \n",
       "\n",
       "  binned_invoice_amount  \n",
       "0          Less than 60  \n",
       "1          Less than 60  \n",
       "2          More than 60  \n",
       "3          Less than 60  \n",
       "4          Less than 60  "
      ]
     },
     "execution_count": 146,
     "metadata": {
      "tags": []
     },
     "output_type": "execute_result"
    }
   ],
   "source": [
    "data.head()"
   ]
  },
  {
   "cell_type": "markdown",
   "metadata": {
    "colab_type": "text",
    "id": "00AtZUXVPnU-"
   },
   "source": [
    "### **Pearson Correlation**\n",
    "\n",
    "- Pearson correlation is generally **used when both target and predictor features contain values of numerical type**.\n",
    "- We want **Pearson Coef. value high** as much as possible while **p-value close to 0**."
   ]
  },
  {
   "cell_type": "code",
   "execution_count": 0,
   "metadata": {
    "colab": {
     "base_uri": "https://localhost:8080/",
     "height": 111
    },
    "colab_type": "code",
    "id": "bVyXWHlpLaKT",
    "outputId": "5b6cd969-02e0-49b6-843f-9d091f5037f7"
   },
   "outputs": [
    {
     "data": {
      "text/html": [
       "<div>\n",
       "<style scoped>\n",
       "    .dataframe tbody tr th:only-of-type {\n",
       "        vertical-align: middle;\n",
       "    }\n",
       "\n",
       "    .dataframe tbody tr th {\n",
       "        vertical-align: top;\n",
       "    }\n",
       "\n",
       "    .dataframe thead th {\n",
       "        text-align: right;\n",
       "    }\n",
       "</style>\n",
       "<table border=\"1\" class=\"dataframe\">\n",
       "  <thead>\n",
       "    <tr style=\"text-align: right;\">\n",
       "      <th></th>\n",
       "      <th>invoice_amount</th>\n",
       "      <th>days_to_settle</th>\n",
       "      <th>count_late</th>\n",
       "      <th>invoice_quater</th>\n",
       "      <th>repeat_cust</th>\n",
       "    </tr>\n",
       "  </thead>\n",
       "  <tbody>\n",
       "    <tr>\n",
       "      <th>Pearson Coef.</th>\n",
       "      <td>0.059887</td>\n",
       "      <td>0.82192</td>\n",
       "      <td>4.165976e-01</td>\n",
       "      <td>0.058046</td>\n",
       "      <td>5.827379e-01</td>\n",
       "    </tr>\n",
       "    <tr>\n",
       "      <th>p-value</th>\n",
       "      <td>0.002952</td>\n",
       "      <td>0.00000</td>\n",
       "      <td>5.754157e-104</td>\n",
       "      <td>0.003963</td>\n",
       "      <td>6.557065e-224</td>\n",
       "    </tr>\n",
       "  </tbody>\n",
       "</table>\n",
       "</div>"
      ],
      "text/plain": [
       "               invoice_amount  days_to_settle     count_late  invoice_quater  \\\n",
       "Pearson Coef.        0.059887         0.82192   4.165976e-01        0.058046   \n",
       "p-value              0.002952         0.00000  5.754157e-104        0.003963   \n",
       "\n",
       "                 repeat_cust  \n",
       "Pearson Coef.   5.827379e-01  \n",
       "p-value        6.557065e-224  "
      ]
     },
     "execution_count": 48,
     "metadata": {
      "tags": []
     },
     "output_type": "execute_result"
    }
   ],
   "source": [
    "ls = ['invoice_amount', 'days_to_settle', 'count_late', 'invoice_quater', 'repeat_cust']\n",
    "correlation = pd.DataFrame(np.abs([stats.pearsonr(data[i], data['days_late']) for i in ls]), index = ls, columns = ['Pearson Coef.', 'p-value'])\n",
    "correlation.transpose()"
   ]
  },
  {
   "cell_type": "markdown",
   "metadata": {
    "colab_type": "text",
    "id": "_u1LL6XVzM89"
   },
   "source": [
    "**Observation:**\n",
    "\n",
    "- It comes out **only potential feature in numerical predictor is days_to_settle** as showing ~82% of dependency on target feature with p-value = 0."
   ]
  },
  {
   "cell_type": "markdown",
   "metadata": {
    "colab_type": "text",
    "id": "CzQBfymbRBob"
   },
   "source": [
    "### **ANOVA (Analysis of Variance)**\n",
    "\n",
    "- ANOVA is used when there is **one categorical feature and one numerical feature**.\n",
    "- We estimate **F score (should be greater than 1)** and **p-value (should be close to 0)**."
   ]
  },
  {
   "cell_type": "markdown",
   "metadata": {
    "colab_type": "text",
    "id": "tH-yYkhw_9wY"
   },
   "source": [
    "**ANOVA on State Feature**"
   ]
  },
  {
   "cell_type": "code",
   "execution_count": 0,
   "metadata": {
    "colab": {
     "base_uri": "https://localhost:8080/",
     "height": 34
    },
    "colab_type": "code",
    "id": "DHkSVqjPXw9Q",
    "outputId": "4e60c334-f23f-4b8d-d2a7-71a1d99a6edb"
   },
   "outputs": [
    {
     "name": "stdout",
     "output_type": "stream",
     "text": [
      "F-Score: 16.040215166125794 p-value: 5.690752192502127e-13\n"
     ]
    }
   ],
   "source": [
    "# ANOVA for state feature\n",
    "grouped_test = data[['state', 'days_late']].groupby(['state'])\n",
    "F_score, p_value = stats.f_oneway(grouped_test.get_group('State of OK')['days_late'],\n",
    "                                  grouped_test.get_group('Montana')['days_late'],\n",
    "                                  grouped_test.get_group('Atlanta')['days_late'],\n",
    "                                  grouped_test.get_group('State of KS')['days_late'],\n",
    "                                  grouped_test.get_group('Los Angeles')['days_late'])\n",
    "print('F-Score:', F_score, 'p-value:', p_value)"
   ]
  },
  {
   "cell_type": "markdown",
   "metadata": {
    "colab_type": "text",
    "id": "7UQnvuRJABck"
   },
   "source": [
    "**ANOVA on Bill Type Feature**"
   ]
  },
  {
   "cell_type": "code",
   "execution_count": 0,
   "metadata": {
    "colab": {
     "base_uri": "https://localhost:8080/",
     "height": 34
    },
    "colab_type": "code",
    "id": "VmA3vN__vITN",
    "outputId": "a26e77d2-bcd1-4e15-e3ad-25a250d2a4dc"
   },
   "outputs": [
    {
     "name": "stdout",
     "output_type": "stream",
     "text": [
      "F-Score: 66.80533067532483 p-value: 4.741616565876118e-16\n"
     ]
    }
   ],
   "source": [
    "# ANOVA for bill_type feature\n",
    "grouped_test = data[['bill_type', 'days_late']].groupby(['bill_type'])\n",
    "F_score, p_value = stats.f_oneway(grouped_test.get_group('Paper')['days_late'], \n",
    "                                  grouped_test.get_group('Electronic')['days_late'])\n",
    "print('F-Score:', F_score, 'p-value:', p_value)"
   ]
  },
  {
   "cell_type": "markdown",
   "metadata": {
    "colab_type": "text",
    "id": "I5E2G6IQAEye"
   },
   "source": [
    "**ANOVA on Disputed Feature**"
   ]
  },
  {
   "cell_type": "code",
   "execution_count": 0,
   "metadata": {
    "colab": {
     "base_uri": "https://localhost:8080/",
     "height": 34
    },
    "colab_type": "code",
    "id": "gAazkAstxhiF",
    "outputId": "75ec254b-ffa2-4a77-c537-6248f2d245a7"
   },
   "outputs": [
    {
     "name": "stdout",
     "output_type": "stream",
     "text": [
      "F-Score: 600.5251096796703 p-value: 7.594656020907004e-119\n"
     ]
    }
   ],
   "source": [
    "# ANOVA for disputed feature\n",
    "grouped_test = data[['disputed', 'days_late']].groupby(['disputed'])\n",
    "F_score, p_value = stats.f_oneway(grouped_test.get_group('No')['days_late'], \n",
    "                                  grouped_test.get_group('Yes')['days_late'])\n",
    "print('F-Score:', F_score, 'p-value:', p_value)"
   ]
  },
  {
   "cell_type": "markdown",
   "metadata": {
    "colab_type": "text",
    "id": "vjjudkQ6AIO9"
   },
   "source": [
    "**ANOVA on Late Feature**"
   ]
  },
  {
   "cell_type": "code",
   "execution_count": 0,
   "metadata": {
    "colab": {
     "base_uri": "https://localhost:8080/",
     "height": 34
    },
    "colab_type": "code",
    "id": "WbGh6tntyDfU",
    "outputId": "c985fb9c-7379-42f1-b613-ad7cf13ef159"
   },
   "outputs": [
    {
     "name": "stdout",
     "output_type": "stream",
     "text": [
      "F-Score: 2917.994694926993 p-value: 0.0\n"
     ]
    }
   ],
   "source": [
    "# ANOVA for late feature\n",
    "grouped_test = data[['late', 'days_late']].groupby(['late'])\n",
    "F_score, p_value = stats.f_oneway(grouped_test.get_group(0)['days_late'], \n",
    "                                  grouped_test.get_group(1)['days_late'])\n",
    "print('F-Score:', F_score, 'p-value:', p_value)"
   ]
  },
  {
   "cell_type": "markdown",
   "metadata": {
    "colab_type": "text",
    "id": "8OFqMb2TAL8R"
   },
   "source": [
    "**ANOVA on Binned Invoice Amount Feature**"
   ]
  },
  {
   "cell_type": "code",
   "execution_count": 0,
   "metadata": {
    "colab": {
     "base_uri": "https://localhost:8080/",
     "height": 34
    },
    "colab_type": "code",
    "id": "Ebgei5mmyM0O",
    "outputId": "e24c7cdb-bdde-4cd2-994a-b66be8051a41"
   },
   "outputs": [
    {
     "name": "stdout",
     "output_type": "stream",
     "text": [
      "F-Score: 8.685451831111926 p-value: 0.003237764864152322\n"
     ]
    }
   ],
   "source": [
    "# ANOVA for binned_invoice_amount feature\n",
    "grouped_test = data[['binned_invoice_amount', 'days_late']].groupby(['binned_invoice_amount'])\n",
    "F_score, p_value = stats.f_oneway(grouped_test.get_group('More than 60')['days_late'], \n",
    "                                  grouped_test.get_group('Less than 60')['days_late'])\n",
    "print('F-Score:', F_score, 'p-value:', p_value)"
   ]
  },
  {
   "cell_type": "markdown",
   "metadata": {
    "colab_type": "text",
    "id": "zCkQ4tdwz_YV"
   },
   "source": [
    "**Observation:**\n",
    "\n",
    "- Using ANOVA we found that **state, bill_type, disputed and late features are really good predictors for days_late** feature as their F-score is high and p-value is low."
   ]
  },
  {
   "cell_type": "markdown",
   "metadata": {
    "colab_type": "text",
    "id": "tHa_I23V5ZJ5"
   },
   "source": [
    "Using statisitical measures such as Pearson Correlation and ANOVA we found some **potential features** that might be **helpful** in **predicting** the **number of days** a customer will be late for the payment of the receivables.\n",
    "\n",
    "**Important Features:**\n",
    "\n",
    "- state\n",
    "- days_to_settle\n",
    "- bill_type\n",
    "- disputed\n",
    "- late\n",
    "- days_late"
   ]
  },
  {
   "cell_type": "code",
   "execution_count": 0,
   "metadata": {
    "colab": {
     "base_uri": "https://localhost:8080/",
     "height": 221
    },
    "colab_type": "code",
    "id": "miDJJ5ig0Sty",
    "outputId": "186afa75-c627-4267-8759-06bea5fc25f8"
   },
   "outputs": [
    {
     "name": "stdout",
     "output_type": "stream",
     "text": [
      "Data Shape: (2462, 6)\n"
     ]
    },
    {
     "data": {
      "text/html": [
       "<div>\n",
       "<style scoped>\n",
       "    .dataframe tbody tr th:only-of-type {\n",
       "        vertical-align: middle;\n",
       "    }\n",
       "\n",
       "    .dataframe tbody tr th {\n",
       "        vertical-align: top;\n",
       "    }\n",
       "\n",
       "    .dataframe thead th {\n",
       "        text-align: right;\n",
       "    }\n",
       "</style>\n",
       "<table border=\"1\" class=\"dataframe\">\n",
       "  <thead>\n",
       "    <tr style=\"text-align: right;\">\n",
       "      <th></th>\n",
       "      <th>state</th>\n",
       "      <th>days_to_settle</th>\n",
       "      <th>bill_type</th>\n",
       "      <th>disputed</th>\n",
       "      <th>late</th>\n",
       "      <th>days_late</th>\n",
       "    </tr>\n",
       "  </thead>\n",
       "  <tbody>\n",
       "    <tr>\n",
       "      <th>0</th>\n",
       "      <td>Los Angeles</td>\n",
       "      <td>5</td>\n",
       "      <td>Paper</td>\n",
       "      <td>No</td>\n",
       "      <td>0</td>\n",
       "      <td>0</td>\n",
       "    </tr>\n",
       "    <tr>\n",
       "      <th>1</th>\n",
       "      <td>Los Angeles</td>\n",
       "      <td>39</td>\n",
       "      <td>Electronic</td>\n",
       "      <td>No</td>\n",
       "      <td>1</td>\n",
       "      <td>9</td>\n",
       "    </tr>\n",
       "    <tr>\n",
       "      <th>2</th>\n",
       "      <td>State of OK</td>\n",
       "      <td>18</td>\n",
       "      <td>Electronic</td>\n",
       "      <td>No</td>\n",
       "      <td>0</td>\n",
       "      <td>0</td>\n",
       "    </tr>\n",
       "    <tr>\n",
       "      <th>3</th>\n",
       "      <td>State of KS</td>\n",
       "      <td>24</td>\n",
       "      <td>Paper</td>\n",
       "      <td>No</td>\n",
       "      <td>0</td>\n",
       "      <td>0</td>\n",
       "    </tr>\n",
       "    <tr>\n",
       "      <th>4</th>\n",
       "      <td>State of KS</td>\n",
       "      <td>16</td>\n",
       "      <td>Paper</td>\n",
       "      <td>No</td>\n",
       "      <td>0</td>\n",
       "      <td>0</td>\n",
       "    </tr>\n",
       "  </tbody>\n",
       "</table>\n",
       "</div>"
      ],
      "text/plain": [
       "         state  days_to_settle   bill_type disputed  late  days_late\n",
       "0  Los Angeles               5       Paper       No     0          0\n",
       "1  Los Angeles              39  Electronic       No     1          9\n",
       "2  State of OK              18  Electronic       No     0          0\n",
       "3  State of KS              24       Paper       No     0          0\n",
       "4  State of KS              16       Paper       No     0          0"
      ]
     },
     "execution_count": 55,
     "metadata": {
      "tags": []
     },
     "output_type": "execute_result"
    }
   ],
   "source": [
    "final_data = data[['state', 'days_to_settle', 'bill_type', 'disputed', 'late', 'days_late']]\n",
    "print('Data Shape:', final_data.shape)\n",
    "final_data.head()"
   ]
  },
  {
   "cell_type": "markdown",
   "metadata": {
    "colab_type": "text",
    "id": "u2_t8luIBO87"
   },
   "source": [
    "**We encoded categorical features to numerics in the next section.**"
   ]
  },
  {
   "cell_type": "code",
   "execution_count": 0,
   "metadata": {
    "colab": {
     "base_uri": "https://localhost:8080/",
     "height": 221
    },
    "colab_type": "code",
    "id": "wx1TUJbl2OXP",
    "outputId": "638c56f7-157c-4bce-88fd-50f6c479ce31"
   },
   "outputs": [
    {
     "name": "stdout",
     "output_type": "stream",
     "text": [
      "Final Data Shape: (2462, 10)\n"
     ]
    },
    {
     "data": {
      "text/html": [
       "<div>\n",
       "<style scoped>\n",
       "    .dataframe tbody tr th:only-of-type {\n",
       "        vertical-align: middle;\n",
       "    }\n",
       "\n",
       "    .dataframe tbody tr th {\n",
       "        vertical-align: top;\n",
       "    }\n",
       "\n",
       "    .dataframe thead th {\n",
       "        text-align: right;\n",
       "    }\n",
       "</style>\n",
       "<table border=\"1\" class=\"dataframe\">\n",
       "  <thead>\n",
       "    <tr style=\"text-align: right;\">\n",
       "      <th></th>\n",
       "      <th>days_to_settle</th>\n",
       "      <th>bill_type</th>\n",
       "      <th>disputed</th>\n",
       "      <th>late</th>\n",
       "      <th>days_late</th>\n",
       "      <th>state_Atlanta</th>\n",
       "      <th>state_Los Angeles</th>\n",
       "      <th>state_Montana</th>\n",
       "      <th>state_State of KS</th>\n",
       "      <th>state_State of OK</th>\n",
       "    </tr>\n",
       "  </thead>\n",
       "  <tbody>\n",
       "    <tr>\n",
       "      <th>0</th>\n",
       "      <td>5</td>\n",
       "      <td>1</td>\n",
       "      <td>0</td>\n",
       "      <td>0</td>\n",
       "      <td>0</td>\n",
       "      <td>0</td>\n",
       "      <td>1</td>\n",
       "      <td>0</td>\n",
       "      <td>0</td>\n",
       "      <td>0</td>\n",
       "    </tr>\n",
       "    <tr>\n",
       "      <th>1</th>\n",
       "      <td>39</td>\n",
       "      <td>0</td>\n",
       "      <td>0</td>\n",
       "      <td>1</td>\n",
       "      <td>9</td>\n",
       "      <td>0</td>\n",
       "      <td>1</td>\n",
       "      <td>0</td>\n",
       "      <td>0</td>\n",
       "      <td>0</td>\n",
       "    </tr>\n",
       "    <tr>\n",
       "      <th>2</th>\n",
       "      <td>18</td>\n",
       "      <td>0</td>\n",
       "      <td>0</td>\n",
       "      <td>0</td>\n",
       "      <td>0</td>\n",
       "      <td>0</td>\n",
       "      <td>0</td>\n",
       "      <td>0</td>\n",
       "      <td>0</td>\n",
       "      <td>1</td>\n",
       "    </tr>\n",
       "    <tr>\n",
       "      <th>3</th>\n",
       "      <td>24</td>\n",
       "      <td>1</td>\n",
       "      <td>0</td>\n",
       "      <td>0</td>\n",
       "      <td>0</td>\n",
       "      <td>0</td>\n",
       "      <td>0</td>\n",
       "      <td>0</td>\n",
       "      <td>1</td>\n",
       "      <td>0</td>\n",
       "    </tr>\n",
       "    <tr>\n",
       "      <th>4</th>\n",
       "      <td>16</td>\n",
       "      <td>1</td>\n",
       "      <td>0</td>\n",
       "      <td>0</td>\n",
       "      <td>0</td>\n",
       "      <td>0</td>\n",
       "      <td>0</td>\n",
       "      <td>0</td>\n",
       "      <td>1</td>\n",
       "      <td>0</td>\n",
       "    </tr>\n",
       "  </tbody>\n",
       "</table>\n",
       "</div>"
      ],
      "text/plain": [
       "   days_to_settle  bill_type  disputed  late  days_late  state_Atlanta  \\\n",
       "0               5          1         0     0          0              0   \n",
       "1              39          0         0     1          9              0   \n",
       "2              18          0         0     0          0              0   \n",
       "3              24          1         0     0          0              0   \n",
       "4              16          1         0     0          0              0   \n",
       "\n",
       "   state_Los Angeles  state_Montana  state_State of KS  state_State of OK  \n",
       "0                  1              0                  0                  0  \n",
       "1                  1              0                  0                  0  \n",
       "2                  0              0                  0                  1  \n",
       "3                  0              0                  1                  0  \n",
       "4                  0              0                  1                  0  "
      ]
     },
     "execution_count": 56,
     "metadata": {
      "tags": []
     },
     "output_type": "execute_result"
    }
   ],
   "source": [
    "final_data.loc[final_data['bill_type'] == 'Electronic', 'bill_type'] = 0\n",
    "final_data.loc[final_data['bill_type'] == 'Paper', 'bill_type'] = 1\n",
    "\n",
    "final_data.loc[final_data['disputed'] == 'No', 'disputed'] = 0\n",
    "final_data.loc[final_data['disputed'] == 'Yes', 'disputed'] = 1\n",
    "\n",
    "final_data = pd.get_dummies(data = final_data, columns = ['state'])\n",
    "print('Final Data Shape:', final_data.shape)\n",
    "final_data.head()"
   ]
  },
  {
   "cell_type": "markdown",
   "metadata": {
    "colab_type": "text",
    "id": "qAe9T6KZ4dqB"
   },
   "source": [
    "In the next section we shall **prepare data** for **model development** by slicing in **input(X) and output(y)**."
   ]
  },
  {
   "cell_type": "code",
   "execution_count": 0,
   "metadata": {
    "colab": {},
    "colab_type": "code",
    "id": "CX_B1tPF5yY_"
   },
   "outputs": [],
   "source": [
    "X = final_data.drop('days_late', axis = 1)\n",
    "y = final_data['days_late'].values"
   ]
  },
  {
   "cell_type": "markdown",
   "metadata": {
    "colab_type": "text",
    "id": "uYXvLmro49OY"
   },
   "source": [
    "Now we will **split** our **data** in **training and testing** parts."
   ]
  },
  {
   "cell_type": "code",
   "execution_count": 0,
   "metadata": {
    "colab": {},
    "colab_type": "code",
    "id": "qMT1rx-16E1l"
   },
   "outputs": [],
   "source": [
    "X_train, X_test, y_train, y_test = train_test_split(X, y, test_size = 0.2, random_state = 42)"
   ]
  },
  {
   "cell_type": "markdown",
   "metadata": {
    "colab_type": "text",
    "id": "OtoMYtJs7R7T"
   },
   "source": [
    "<a id = Section8></a>\n",
    "# **7. Model Development & Evaluation**\n",
    "\n",
    "- We'll **build model using only important features (state, days_to_settle, bill_type, disputed, late, days_late)** that impact highly on our target feature i.e. days_late.\n",
    "- Below we have created a function to plot the score of the model based on train set and test set."
   ]
  },
  {
   "cell_type": "code",
   "execution_count": 0,
   "metadata": {
    "colab": {},
    "colab_type": "code",
    "id": "BVUw5D5rLE_o"
   },
   "outputs": [],
   "source": [
    "def PlotScore(y_train, y_train_pred, y_test, y_test_pred):\n",
    "  '''\n",
    "  Plot visual of acutal and predicted for train & test data\n",
    "  y_train: actual values of y train\n",
    "  y_train_pred: predicted values of y_train\n",
    "  y_test: actual values of y_test\n",
    "  y_test_pred: predicted values of y_test\n",
    "  '''\n",
    "  plt.figure(figsize = [13.66, 6])\n",
    "  plt.subplot(1, 2, 1)\n",
    "  sns.lineplot(x = y_train, y = y_train_pred, marker = 'o')\n",
    "  plt.xlabel('Actual')\n",
    "  plt.ylabel('Predicted')\n",
    "  plt.title('For Train Data')\n",
    "\n",
    "  plt.subplot(1, 2, 2)\n",
    "  sns.lineplot(x = y_test, y = y_test_pred, marker = 'o')\n",
    "  plt.xlabel('Actual')\n",
    "  plt.ylabel('Predicted')\n",
    "  plt.title('For Test Data')\n",
    "  plt.show()"
   ]
  },
  {
   "cell_type": "markdown",
   "metadata": {
    "colab_type": "text",
    "id": "-Sa1z7GU7cxR"
   },
   "source": [
    "<a id = Section81></a>\n",
    "## **7.1 Linear Regression**\n"
   ]
  },
  {
   "cell_type": "code",
   "execution_count": 0,
   "metadata": {
    "colab": {
     "base_uri": "https://localhost:8080/",
     "height": 506
    },
    "colab_type": "code",
    "id": "TH66sC8W7Wyl",
    "outputId": "713d4179-6941-486d-9a72-97ba4138fae4"
   },
   "outputs": [
    {
     "name": "stdout",
     "output_type": "stream",
     "text": [
      "Acutal Values: [0 0 5 0 0]\n",
      "Predicted Values: [3 2 9 4 0]\n",
      "RMSE (Train Data): 3.06\n",
      "RMSE (Test Data): 3.06\n",
      "R-Squared (Train Data): 71.0 %\n",
      "R-Squared (Test Data): 65.0 %\n"
     ]
    },
    {
     "data": {
      "image/png": "[encoded data removed]",
      "text/plain": [
       "<Figure size 983.52x432 with 2 Axes>"
      ]
     },
     "metadata": {
      "tags": []
     },
     "output_type": "display_data"
    }
   ],
   "source": [
    "lr = LinearRegression()\n",
    "lr.fit(X_train, y_train)\n",
    "y_train_pred = np.abs(lr.predict(X_train).astype('int'))\n",
    "y_test_pred = np.abs(lr.predict(X_test).astype('int'))\n",
    "\n",
    "print('Acutal Values:', y_test[0:5])\n",
    "print('Predicted Values:', y_test_pred[0:5])\n",
    "# Estimating RMSE on Train & Test Data\n",
    "print('RMSE (Train Data):', np.round(np.sqrt(mean_squared_error(y_true = y_test, y_pred = y_test_pred)), decimals = 2))\n",
    "print('RMSE (Test Data):', np.round(np.sqrt(mean_squared_error(y_true = y_test, y_pred = y_test_pred)), decimals = 2))\n",
    "# Estimating R-Squared on Train & Test Data\n",
    "print('R-Squared (Train Data):', np.round(lr.score(X_train, y_train), decimals = 2)*100, '%')\n",
    "print('R-Squared (Test Data):', np.round(lr.score(X_test, y_test), decimals = 2)*100, '%')\n",
    "# Plotting Acutal vs Predicted values\n",
    "PlotScore(y_train, y_train_pred, y_test, y_test_pred)"
   ]
  },
  {
   "cell_type": "markdown",
   "metadata": {
    "colab_type": "text",
    "id": "0rNSb16tCpeB"
   },
   "source": [
    "**Observation:**\n",
    "\n",
    "- Our model **performed only 65% well** using test set. \n",
    "- The **difference in acutal and predicted comes out to be 3.06** which is **not good**. \n",
    "- **Let's see how the more restricted models** like Ridge & Lasso will perform."
   ]
  },
  {
   "cell_type": "markdown",
   "metadata": {
    "colab_type": "text",
    "id": "IPgV3UblBoX9"
   },
   "source": [
    "<a id = Section82></a>\n",
    "## **7.2 Ridge Regression**"
   ]
  },
  {
   "cell_type": "code",
   "execution_count": 0,
   "metadata": {
    "colab": {
     "base_uri": "https://localhost:8080/",
     "height": 506
    },
    "colab_type": "code",
    "id": "Fk_oUmhWBq5x",
    "outputId": "898f39e3-524a-40b5-8a3f-a1bc3e658c8c"
   },
   "outputs": [
    {
     "name": "stdout",
     "output_type": "stream",
     "text": [
      "Acutal Values: [0 0 5 0 0]\n",
      "Predicted Values: [3 2 9 4 0]\n",
      "RMSE (Train Data): 3.06\n",
      "RMSE (Test Data): 3.06\n",
      "R-Squared (Train Data): 71.0 %\n",
      "R-Squared (Test Data): 65.0 %\n"
     ]
    },
    {
     "data": {
      "image/png": "[encoded data removed]",
      "text/plain": [
       "<Figure size 983.52x432 with 2 Axes>"
      ]
     },
     "metadata": {
      "tags": []
     },
     "output_type": "display_data"
    }
   ],
   "source": [
    "rr = Ridge(random_state = 42)\n",
    "rr.fit(X_train, y_train)\n",
    "y_train_pred = np.abs(rr.predict(X_train).astype('int'))\n",
    "y_test_pred = np.abs(rr.predict(X_test).astype('int'))\n",
    "\n",
    "print('Acutal Values:', y_test[0:5])\n",
    "print('Predicted Values:', y_test_pred[0:5])\n",
    "# Estimating RMSE on Train & Test Data\n",
    "print('RMSE (Train Data):', np.round(np.sqrt(mean_squared_error(y_true = y_test, y_pred = y_test_pred)), decimals = 2))\n",
    "print('RMSE (Test Data):', np.round(np.sqrt(mean_squared_error(y_true = y_test, y_pred = y_test_pred)), decimals = 2))\n",
    "# Estimating R-Squared on Train & Test Data\n",
    "print('R-Squared (Train Data):', np.round(rr.score(X_train, y_train), decimals = 2)*100, '%')\n",
    "print('R-Squared (Test Data):', np.round(rr.score(X_test, y_test), decimals = 2)*100, '%')\n",
    "# Plotting Acutal vs Predicted values\n",
    "PlotScore(y_train, y_train_pred, y_test, y_test_pred)"
   ]
  },
  {
   "cell_type": "markdown",
   "metadata": {
    "colab_type": "text",
    "id": "xrQr8zurDA-x"
   },
   "source": [
    "**Observation:**\n",
    "\n",
    "- There is **still no difference** in Ridge. \n",
    "- Maybe we **should iterate the alpha value**. Let's iterate model over some values of alpha."
   ]
  },
  {
   "cell_type": "code",
   "execution_count": 0,
   "metadata": {
    "colab": {
     "base_uri": "https://localhost:8080/",
     "height": 404
    },
    "colab_type": "code",
    "id": "NwbPZtRRNSK6",
    "outputId": "5eb722b1-3499-44f7-ac10-cf179e44a383"
   },
   "outputs": [
    {
     "data": {
      "image/png": "[encoded data removed]",
      "text/plain": [
       "<Figure size 936x432 with 2 Axes>"
      ]
     },
     "metadata": {
      "tags": []
     },
     "output_type": "display_data"
    }
   ],
   "source": [
    "alphas = [0, 0.1, 0.2, 0.3, 0.4, 0.5, 0.6, 0.7, 0.8, 0.9, 1]\n",
    "train_score = []\n",
    "test_score = []\n",
    "for i in alphas:\n",
    "  rr = Ridge(alpha = i, random_state = 42)\n",
    "  rr.fit(X_train, y_train)\n",
    "  train_score.append(np.round(rr.score(X_train, y_train), decimals = 2)*100)\n",
    "  test_score.append(np.round(rr.score(X_test, y_test), decimals = 2)*100)\n",
    "\n",
    "plt.figure(figsize = [13, 6])\n",
    "plt.subplot(1, 2, 1)\n",
    "sns.lineplot(x = alphas, y = train_score, marker = 'o')\n",
    "plt.xlabel('Alpha')\n",
    "plt.ylabel('Score')\n",
    "plt.title('For Train Data')\n",
    "\n",
    "plt.subplot(1, 2, 2)\n",
    "sns.lineplot(x = alphas, y = test_score, marker = 'o')\n",
    "plt.xlabel('Alpha')\n",
    "plt.ylabel('Score')\n",
    "plt.title('For Test Data')\n",
    "plt.show()"
   ]
  },
  {
   "cell_type": "markdown",
   "metadata": {
    "colab_type": "text",
    "id": "dTNDi3lnQkFt"
   },
   "source": [
    "**Observation:**\n",
    "\n",
    "- **Still there is no change**, **we should try lasso** and see the significant behaviour of the model over this data."
   ]
  },
  {
   "cell_type": "markdown",
   "metadata": {
    "colab_type": "text",
    "id": "XcS-SKozB_wR"
   },
   "source": [
    "<a id = Section83></a>\n",
    "## **7.3 Lasso Regression**"
   ]
  },
  {
   "cell_type": "code",
   "execution_count": 0,
   "metadata": {
    "colab": {
     "base_uri": "https://localhost:8080/",
     "height": 506
    },
    "colab_type": "code",
    "id": "FZ8kBn6BCCaF",
    "outputId": "6773faa9-8ddf-4a99-eaec-455238d38d8d"
   },
   "outputs": [
    {
     "name": "stdout",
     "output_type": "stream",
     "text": [
      "Acutal Values: [0 0 5 0 0]\n",
      "Predicted Values: [4 3 7 5 1]\n",
      "RMSE (Train Data): 3.2\n",
      "RMSE (Test Data): 3.2\n",
      "R-Squared (Train Data): 69.0 %\n",
      "R-Squared (Test Data): 62.0 %\n"
     ]
    },
    {
     "data": {
      "image/png": "[encoded data removed]",
      "text/plain": [
       "<Figure size 983.52x432 with 2 Axes>"
      ]
     },
     "metadata": {
      "tags": []
     },
     "output_type": "display_data"
    }
   ],
   "source": [
    "l_r = Lasso()\n",
    "l_r.fit(X_train, y_train)\n",
    "y_train_pred = np.abs(l_r.predict(X_train).astype('int'))\n",
    "y_test_pred = np.abs(l_r.predict(X_test).astype('int'))\n",
    "\n",
    "print('Acutal Values:', y_test[0:5])\n",
    "print('Predicted Values:', y_test_pred[0:5])\n",
    "# Estimating RMSE on Train & Test Data\n",
    "print('RMSE (Train Data):', np.round(np.sqrt(mean_squared_error(y_true = y_test, y_pred = y_test_pred)), decimals = 2))\n",
    "print('RMSE (Test Data):', np.round(np.sqrt(mean_squared_error(y_true = y_test, y_pred = y_test_pred)), decimals = 2))\n",
    "# Estimating R-Squared on Train & Test Data\n",
    "print('R-Squared (Train Data):', np.round(l_r.score(X_train, y_train), decimals = 2)*100, '%')\n",
    "print('R-Squared (Test Data):', np.round(l_r.score(X_test, y_test), decimals = 2)*100, '%')\n",
    "# Plotting Acutal vs Predicted values\n",
    "PlotScore(y_train, y_train_pred, y_test, y_test_pred)"
   ]
  },
  {
   "cell_type": "markdown",
   "metadata": {
    "colab_type": "text",
    "id": "f2koQu5rDadr"
   },
   "source": [
    "**Observation:**\n",
    "\n",
    "- **Lasso did terible with respect to linear regression and ridge**. \n",
    "- Let's **try this model over different alpha iterations** and then evaulate it."
   ]
  },
  {
   "cell_type": "code",
   "execution_count": 0,
   "metadata": {
    "colab": {
     "base_uri": "https://localhost:8080/",
     "height": 404
    },
    "colab_type": "code",
    "id": "TdvzNMnYQ3ee",
    "outputId": "22324257-d98e-49a0-f463-1f8024883c3e"
   },
   "outputs": [
    {
     "data": {
      "image/png": "[encoded data removed]",
      "text/plain": [
       "<Figure size 936x432 with 2 Axes>"
      ]
     },
     "metadata": {
      "tags": []
     },
     "output_type": "display_data"
    }
   ],
   "source": [
    "alphas = [0, 0.1, 0.2, 0.3, 0.4, 0.5, 0.6, 0.7, 0.8, 0.9, 1]\n",
    "train_score = []\n",
    "test_score = []\n",
    "for i in alphas:\n",
    "  l_r = Lasso(alpha = i, random_state = 42)\n",
    "  l_r.fit(X_train, y_train)\n",
    "  train_score.append(np.round(l_r.score(X_train, y_train), decimals = 2)*100)\n",
    "  test_score.append(np.round(l_r.score(X_test, y_test), decimals = 2)*100)\n",
    "\n",
    "plt.figure(figsize = [13, 6])\n",
    "plt.subplot(1, 2, 1)\n",
    "sns.lineplot(x = alphas, y = train_score, marker = 'o')\n",
    "plt.xlabel('Alpha')\n",
    "plt.ylabel('Score')\n",
    "plt.title('For Train Data')\n",
    "\n",
    "plt.subplot(1, 2, 2)\n",
    "sns.lineplot(x = alphas, y = test_score, marker = 'o')\n",
    "plt.xlabel('Alpha')\n",
    "plt.ylabel('Score')\n",
    "plt.title('For Test Data')\n",
    "plt.show()"
   ]
  },
  {
   "cell_type": "markdown",
   "metadata": {
    "colab_type": "text",
    "id": "d4DsEV-YRJss"
   },
   "source": [
    "**Observation:**\n",
    "\n",
    "- We can see that at **alpha = 0, model is providing its best peformance**. \n",
    "- But these **result are same as that of the previous models**. We need better model. So in next step we will try out Random Forest."
   ]
  },
  {
   "cell_type": "markdown",
   "metadata": {
    "colab_type": "text",
    "id": "kiIA3kBtCTMz"
   },
   "source": [
    "<a id = Section84></a>\n",
    "## **7.4 Random Forest Regression**"
   ]
  },
  {
   "cell_type": "code",
   "execution_count": 0,
   "metadata": {
    "colab": {
     "base_uri": "https://localhost:8080/",
     "height": 506
    },
    "colab_type": "code",
    "id": "paJ_774aCWY-",
    "outputId": "1ddd1710-43df-4377-9aa0-b069ab689a96"
   },
   "outputs": [
    {
     "name": "stdout",
     "output_type": "stream",
     "text": [
      "Acutal Values: [0 0 5 0 0]\n",
      "Predicted Values: [0 0 5 0 0]\n",
      "RMSE (Train Data): 0.06\n",
      "RMSE (Test Data): 0.06\n",
      "R-Squared (Train Data): 100.0 %\n",
      "R-Squared (Test Data): 100.0 %\n"
     ]
    },
    {
     "data": {
      "image/png": "[encoded data removed]",
      "text/plain": [
       "<Figure size 983.52x432 with 2 Axes>"
      ]
     },
     "metadata": {
      "tags": []
     },
     "output_type": "display_data"
    }
   ],
   "source": [
    "randomforest = RandomForestRegressor(random_state = 42)\n",
    "randomforest.fit(X_train, y_train)\n",
    "y_train_pred = np.abs(randomforest.predict(X_train).astype('int'))\n",
    "y_test_pred = np.abs(randomforest.predict(X_test).astype('int'))\n",
    "\n",
    "print('Acutal Values:', y_test[0:5])\n",
    "print('Predicted Values:', y_test_pred[0:5])\n",
    "# Estimating RMSE on Train & Test Data\n",
    "print('RMSE (Train Data):', np.round(np.sqrt(mean_squared_error(y_true = y_test, y_pred = y_test_pred)), decimals = 2))\n",
    "print('RMSE (Test Data):', np.round(np.sqrt(mean_squared_error(y_true = y_test, y_pred = y_test_pred)), decimals = 2))\n",
    "# Estimating R-Squared on Train & Test Data\n",
    "print('R-Squared (Train Data):', np.round(randomforest.score(X_train, y_train), decimals = 2)*100, '%')\n",
    "print('R-Squared (Test Data):', np.round(randomforest.score(X_test, y_test), decimals = 2)*100, '%')\n",
    "# Plotting Acutal vs Predicted values\n",
    "PlotScore(y_train, y_train_pred, y_test, y_test_pred)"
   ]
  },
  {
   "cell_type": "markdown",
   "metadata": {
    "colab_type": "text",
    "id": "bAouKFehDlaJ"
   },
   "source": [
    "**Observation:**\n",
    "\n",
    "- Wow! **We achieve almost 100% score on our data**. \n",
    "- Random Forest **worked great on small data set**. That's why we were able to achieve 100% accuracy on our model."
   ]
  },
  {
   "cell_type": "markdown",
   "metadata": {
    "colab_type": "text",
    "id": "dlCPjBNURx7E"
   },
   "source": [
    "<a id = Section9></a>\n",
    "# **8. Conclusion**"
   ]
  },
  {
   "cell_type": "markdown",
   "metadata": {
    "colab_type": "text",
    "id": "xE2AFsaXR2Ez"
   },
   "source": [
    "- We investigated in depth about the features i.e. **which features are important to retain (days_to_settle,\tbill_type\tdisputed,\tlate,\tdays_late,\tstate_Atlanta,\tstate_Los Angeles,\tstate_Montana,\tstate_State of KS,\tstate_State of OK)and which to discard, indeed manually, with the help of statistics.**\n",
    "- We **explored various questions** that were **related to the customers delay time** in returning the borrowed receivables.\n",
    "- We worked with small data, so we **applied various models like Linear Regression, Ridge, Lasso & at the end Random Forest**. \n",
    "- It turns out **Random Forest outperforms simple models like Linear, Ridge and Lasso Regression**. It was so because our data was small."
   ]
  }
 ],
 "metadata": {
  "colab": {
   "collapsed_sections": [],
   "name": "Finance_Factoring.ipynb",
   "provenance": []
  },
  "kernelspec": {
   "display_name": "Python 3",
   "language": "python",
   "name": "python3"
  },
  "language_info": {
   "codemirror_mode": {
    "name": "ipython",
    "version": 3
   },
   "file_extension": ".py",
   "mimetype": "text/x-python",
   "name": "python",
   "nbconvert_exporter": "python",
   "pygments_lexer": "ipython3",
   "version": "3.7.3"
  }
 },
 "nbformat": 4,
 "nbformat_minor": 1
}
